{
 "cells": [
  {
   "cell_type": "markdown",
   "id": "5081ab52-f835-4062-a4b6-081d13652640",
   "metadata": {
    "tags": []
   },
   "source": [
    "## Reading files"
   ]
  },
  {
   "cell_type": "code",
   "execution_count": 1,
   "id": "6aececc8-d52f-4de3-87a4-aedecb2468d0",
   "metadata": {
    "tags": []
   },
   "outputs": [],
   "source": [
    "import numpy as np\n",
    "import pandas as pd\n",
    "import matplotlib.pyplot as plt\n",
    "import networkx as nx\n",
    "\n",
    "import pickle\n",
    "import random"
   ]
  },
  {
   "cell_type": "code",
   "execution_count": 2,
   "id": "19f10212-14ae-43e0-94d2-b33706538333",
   "metadata": {
    "tags": []
   },
   "outputs": [],
   "source": [
    "def read_g_obj(file=\"adj_matrices/G_hci.pkl\"):\n",
    "    with open(file, \"rb\") as pfile: \n",
    "        G = pickle.load(pfile)\n",
    "    \n",
    "    follows_at_least_10 = [person for person, out_degree in G.out_degree() if out_degree >= 10] \n",
    "    \n",
    "    subgraph_hci = nx.subgraph(G, follows_at_least_10)\n",
    "    \n",
    "    return subgraph_hci"
   ]
  },
  {
   "cell_type": "code",
   "execution_count": 3,
   "id": "f56c8b48-de3a-4850-9abf-bb6e26a3e104",
   "metadata": {},
   "outputs": [],
   "source": [
    "subgraph_hci = read_g_obj()"
   ]
  },
  {
   "cell_type": "code",
   "execution_count": 4,
   "id": "71000a82",
   "metadata": {},
   "outputs": [],
   "source": [
    "with open(\"train_test/test.pkl\", \"rb\") as pfile:\n",
    "    test = pickle.load(pfile)"
   ]
  },
  {
   "cell_type": "code",
   "execution_count": 5,
   "id": "670ed686",
   "metadata": {},
   "outputs": [],
   "source": [
    "with open(\"train_test/train.pkl\", \"rb\") as pfile:\n",
    "    train = pickle.load(pfile)"
   ]
  },
  {
   "cell_type": "code",
   "execution_count": 6,
   "id": "a787e865",
   "metadata": {},
   "outputs": [],
   "source": [
    "with open(\"train_test/anti_test.pkl\", \"rb\") as pfile:\n",
    "    anti_test = pickle.load(pfile)"
   ]
  },
  {
   "cell_type": "code",
   "execution_count": 7,
   "id": "2a272ee9",
   "metadata": {},
   "outputs": [],
   "source": [
    "# adding 1 to all the user-user edges\n",
    "train_data_extended = [(follower, following, 1) for follower, following in train]\n",
    "test_data_extended = [(follower, following, 1) for follower, following in test]\n",
    "anti_test_data_extended = [(follower, following, 1) for follower, following in anti_test]"
   ]
  },
  {
   "cell_type": "code",
   "execution_count": 8,
   "id": "655b12fc",
   "metadata": {},
   "outputs": [],
   "source": [
    "train_df = pd.DataFrame(\n",
    "    train_data_extended, columns=[\"user\", \"item\", \"rating\"]\n",
    ")\n",
    "train_df.to_csv('train_df.csv')"
   ]
  },
  {
   "cell_type": "code",
   "execution_count": 9,
   "id": "1a3b810d",
   "metadata": {},
   "outputs": [],
   "source": [
    "test_data_extended.extend(anti_test_data_extended)\n",
    "test_df = pd.DataFrame(test_data_extended, columns=[\"user\", \"item\", \"rating\"])\n",
    "test_df.to_csv('test_df.csv')"
   ]
  },
  {
   "cell_type": "code",
   "execution_count": null,
   "id": "efff1212-12c6-44c4-8d03-3f0da57b976a",
   "metadata": {},
   "outputs": [],
   "source": []
  },
  {
   "cell_type": "markdown",
   "id": "c1816bf5-2015-4c8a-9824-53cc7039827d",
   "metadata": {},
   "source": [
    "### is there a way to include features???"
   ]
  },
  {
   "cell_type": "code",
   "execution_count": 97,
   "id": "21b8fabf-4027-422b-ac62-e9c6163f6253",
   "metadata": {},
   "outputs": [],
   "source": [
    "users_data = pd.read_csv(\"data_csv/profiles/extended_df_complete.csv\")"
   ]
  },
  {
   "cell_type": "code",
   "execution_count": 98,
   "id": "f097b454-00c8-4c91-b8c8-360683ef9846",
   "metadata": {},
   "outputs": [
    {
     "data": {
      "text/plain": [
       "109245646986992073"
      ]
     },
     "execution_count": 98,
     "metadata": {},
     "output_type": "execute_result"
    }
   ],
   "source": [
    "users_data[users_data['acct'] == 'Anas']['id'].values[0]"
   ]
  },
  {
   "cell_type": "code",
   "execution_count": 127,
   "id": "a95cdde1-4bd8-49b3-9e42-5a8cdfc8eb8c",
   "metadata": {},
   "outputs": [
    {
     "data": {
      "text/html": [
       "<div>\n",
       "<style scoped>\n",
       "    .dataframe tbody tr th:only-of-type {\n",
       "        vertical-align: middle;\n",
       "    }\n",
       "\n",
       "    .dataframe tbody tr th {\n",
       "        vertical-align: top;\n",
       "    }\n",
       "\n",
       "    .dataframe thead th {\n",
       "        text-align: right;\n",
       "    }\n",
       "</style>\n",
       "<table border=\"1\" class=\"dataframe\">\n",
       "  <thead>\n",
       "    <tr style=\"text-align: right;\">\n",
       "      <th></th>\n",
       "      <th>user</th>\n",
       "      <th>item</th>\n",
       "      <th>rating</th>\n",
       "    </tr>\n",
       "  </thead>\n",
       "  <tbody>\n",
       "    <tr>\n",
       "      <th>0</th>\n",
       "      <td>cqz</td>\n",
       "      <td>jbigham</td>\n",
       "      <td>1</td>\n",
       "    </tr>\n",
       "    <tr>\n",
       "      <th>1</th>\n",
       "      <td>cqz</td>\n",
       "      <td>ryanatkn</td>\n",
       "      <td>1</td>\n",
       "    </tr>\n",
       "    <tr>\n",
       "      <th>2</th>\n",
       "      <td>cqz</td>\n",
       "      <td>axz</td>\n",
       "      <td>1</td>\n",
       "    </tr>\n",
       "    <tr>\n",
       "      <th>3</th>\n",
       "      <td>cqz</td>\n",
       "      <td>msbernst</td>\n",
       "      <td>1</td>\n",
       "    </tr>\n",
       "    <tr>\n",
       "      <th>4</th>\n",
       "      <td>cqz</td>\n",
       "      <td>qli</td>\n",
       "      <td>1</td>\n",
       "    </tr>\n",
       "  </tbody>\n",
       "</table>\n",
       "</div>"
      ],
      "text/plain": [
       "  user      item  rating\n",
       "0  cqz   jbigham       1\n",
       "1  cqz  ryanatkn       1\n",
       "2  cqz       axz       1\n",
       "3  cqz  msbernst       1\n",
       "4  cqz       qli       1"
      ]
     },
     "execution_count": 127,
     "metadata": {},
     "output_type": "execute_result"
    }
   ],
   "source": [
    "train_df.head()"
   ]
  },
  {
   "cell_type": "code",
   "execution_count": 128,
   "id": "0f702853-5374-40bd-be7e-14386983dc61",
   "metadata": {},
   "outputs": [
    {
     "name": "stdout",
     "output_type": "stream",
     "text": [
      "<class 'pandas.core.frame.DataFrame'>\n",
      "RangeIndex: 22480 entries, 0 to 22479\n",
      "Data columns (total 3 columns):\n",
      " #   Column  Non-Null Count  Dtype \n",
      "---  ------  --------------  ----- \n",
      " 0   user    22480 non-null  object\n",
      " 1   item    22480 non-null  object\n",
      " 2   rating  22480 non-null  int64 \n",
      "dtypes: int64(1), object(2)\n",
      "memory usage: 527.0+ KB\n"
     ]
    }
   ],
   "source": [
    "train_df.info()"
   ]
  },
  {
   "cell_type": "code",
   "execution_count": 129,
   "id": "46f1279c-be4e-4c69-ba75-eaa45326fc10",
   "metadata": {},
   "outputs": [
    {
     "data": {
      "text/html": [
       "<div>\n",
       "<style scoped>\n",
       "    .dataframe tbody tr th:only-of-type {\n",
       "        vertical-align: middle;\n",
       "    }\n",
       "\n",
       "    .dataframe tbody tr th {\n",
       "        vertical-align: top;\n",
       "    }\n",
       "\n",
       "    .dataframe thead th {\n",
       "        text-align: right;\n",
       "    }\n",
       "</style>\n",
       "<table border=\"1\" class=\"dataframe\">\n",
       "  <thead>\n",
       "    <tr style=\"text-align: right;\">\n",
       "      <th></th>\n",
       "      <th>user</th>\n",
       "      <th>item</th>\n",
       "      <th>rating</th>\n",
       "    </tr>\n",
       "  </thead>\n",
       "  <tbody>\n",
       "    <tr>\n",
       "      <th>0</th>\n",
       "      <td>cqz</td>\n",
       "      <td>kentrellowens</td>\n",
       "      <td>1</td>\n",
       "    </tr>\n",
       "    <tr>\n",
       "      <th>1</th>\n",
       "      <td>cqz</td>\n",
       "      <td>ruotongw</td>\n",
       "      <td>1</td>\n",
       "    </tr>\n",
       "    <tr>\n",
       "      <th>2</th>\n",
       "      <td>cqz</td>\n",
       "      <td>schaferj</td>\n",
       "      <td>1</td>\n",
       "    </tr>\n",
       "    <tr>\n",
       "      <th>3</th>\n",
       "      <td>Gillian</td>\n",
       "      <td>kgajos</td>\n",
       "      <td>1</td>\n",
       "    </tr>\n",
       "    <tr>\n",
       "      <th>4</th>\n",
       "      <td>Gillian</td>\n",
       "      <td>andreaforte</td>\n",
       "      <td>1</td>\n",
       "    </tr>\n",
       "  </tbody>\n",
       "</table>\n",
       "</div>"
      ],
      "text/plain": [
       "      user           item  rating\n",
       "0      cqz  kentrellowens       1\n",
       "1      cqz       ruotongw       1\n",
       "2      cqz       schaferj       1\n",
       "3  Gillian         kgajos       1\n",
       "4  Gillian    andreaforte       1"
      ]
     },
     "execution_count": 129,
     "metadata": {},
     "output_type": "execute_result"
    }
   ],
   "source": [
    "test_df.head()"
   ]
  },
  {
   "cell_type": "code",
   "execution_count": 130,
   "id": "ecc293ed-5a94-43e5-9432-ea16217a0ee4",
   "metadata": {},
   "outputs": [
    {
     "name": "stdout",
     "output_type": "stream",
     "text": [
      "<class 'pandas.core.frame.DataFrame'>\n",
      "RangeIndex: 18144 entries, 0 to 18143\n",
      "Data columns (total 3 columns):\n",
      " #   Column  Non-Null Count  Dtype \n",
      "---  ------  --------------  ----- \n",
      " 0   user    18144 non-null  object\n",
      " 1   item    18144 non-null  object\n",
      " 2   rating  18144 non-null  int64 \n",
      "dtypes: int64(1), object(2)\n",
      "memory usage: 425.4+ KB\n"
     ]
    }
   ],
   "source": [
    "test_df.info()"
   ]
  },
  {
   "cell_type": "markdown",
   "id": "0f2d06ff",
   "metadata": {},
   "source": [
    "## Model Implementation"
   ]
  },
  {
   "cell_type": "code",
   "execution_count": 131,
   "id": "612b50db",
   "metadata": {},
   "outputs": [],
   "source": [
    "import sys\n",
    "sys.path.append(\"/LightGCN\")"
   ]
  },
  {
   "cell_type": "code",
   "execution_count": 132,
   "id": "5ef944cc",
   "metadata": {},
   "outputs": [],
   "source": [
    "from LightGCN_modules import LightGCN\n",
    "from LightGCN_modules import ImplicitCF\n",
    "from LightGCN_modules import deeprec_utils\n",
    "from LightGCN_modules import eval_utils"
   ]
  },
  {
   "cell_type": "code",
   "execution_count": 133,
   "id": "a6d5a455-3fff-4ea8-87dd-ea65ced41142",
   "metadata": {},
   "outputs": [],
   "source": [
    "# Model implementation"
   ]
  },
  {
   "cell_type": "code",
   "execution_count": 134,
   "id": "6993efd5",
   "metadata": {},
   "outputs": [],
   "source": [
    "data = ImplicitCF.ImplicitCF(\n",
    "    train=train_df,\n",
    "    test=test_df,\n",
    "    seed=2023,\n",
    "    col_user=\"user\",\n",
    "    col_item=\"item\",\n",
    "    col_rating=\"rating\",\n",
    ")"
   ]
  },
  {
   "cell_type": "code",
   "execution_count": 135,
   "id": "935af34d",
   "metadata": {},
   "outputs": [],
   "source": [
    "### Setup the model\n",
    "hparam32 = deeprec_utils.prepare_hparams(\n",
    "    \"LightGCN_modules/lightgcn.yaml\",\n",
    "    n_layers=3,\n",
    "    batch_size=512,\n",
    "    epochs=10,\n",
    "    embed_size=32,\n",
    "    learning_rate=0.01,\n",
    "    eval_epoch=5,\n",
    "    top_k=10,\n",
    ")"
   ]
  },
  {
   "cell_type": "code",
   "execution_count": 136,
   "id": "c1f2ec21",
   "metadata": {},
   "outputs": [
    {
     "name": "stdout",
     "output_type": "stream",
     "text": [
      "Already create adjacency matrix.\n",
      "Already normalize adjacency matrix.\n",
      "Using xavier initialization.\n"
     ]
    }
   ],
   "source": [
    "model32 = LightGCN.LightGCN(hparam32, data, seed=2023)"
   ]
  },
  {
   "cell_type": "code",
   "execution_count": 137,
   "id": "63a1cd03",
   "metadata": {},
   "outputs": [
    {
     "name": "stdout",
     "output_type": "stream",
     "text": [
      "Epoch 1 (train)0.6s: train loss = 0.50101 = (mf)0.50084 + (embed)0.00017\n",
      "Epoch 2 (train)0.5s: train loss = 0.34159 = (mf)0.34111 + (embed)0.00049\n",
      "Epoch 3 (train)0.5s: train loss = 0.34034 = (mf)0.33985 + (embed)0.00050\n",
      "Epoch 4 (train)0.5s: train loss = 0.32445 = (mf)0.32390 + (embed)0.00055\n",
      "Epoch 5 (train)0.4s + (eval)0.2s: train loss = 0.30454 = (mf)0.30391 + (embed)0.00064, recall = 0.14680, ndcg = 0.29229, precision = 0.21502, map = 0.09731\n",
      "Epoch 6 (train)0.4s: train loss = 0.27704 = (mf)0.27624 + (embed)0.00079\n",
      "Epoch 7 (train)0.5s: train loss = 0.25592 = (mf)0.25496 + (embed)0.00095\n",
      "Epoch 8 (train)0.4s: train loss = 0.23965 = (mf)0.23852 + (embed)0.00113\n",
      "Epoch 9 (train)0.4s: train loss = 0.23090 = (mf)0.22961 + (embed)0.00129\n",
      "Epoch 10 (train)0.5s + (eval)0.2s: train loss = 0.21608 = (mf)0.21464 + (embed)0.00145, recall = 0.15906, ndcg = 0.31409, precision = 0.23475, map = 0.10601\n"
     ]
    }
   ],
   "source": [
    "model32.fit()"
   ]
  },
  {
   "cell_type": "code",
   "execution_count": 138,
   "id": "10e0c1c6",
   "metadata": {},
   "outputs": [
    {
     "data": {
      "text/html": [
       "<div>\n",
       "<style scoped>\n",
       "    .dataframe tbody tr th:only-of-type {\n",
       "        vertical-align: middle;\n",
       "    }\n",
       "\n",
       "    .dataframe tbody tr th {\n",
       "        vertical-align: top;\n",
       "    }\n",
       "\n",
       "    .dataframe thead th {\n",
       "        text-align: right;\n",
       "    }\n",
       "</style>\n",
       "<table border=\"1\" class=\"dataframe\">\n",
       "  <thead>\n",
       "    <tr style=\"text-align: right;\">\n",
       "      <th></th>\n",
       "      <th>user</th>\n",
       "      <th>item</th>\n",
       "      <th>prediction</th>\n",
       "    </tr>\n",
       "  </thead>\n",
       "  <tbody>\n",
       "    <tr>\n",
       "      <th>0</th>\n",
       "      <td>cqz</td>\n",
       "      <td>karger</td>\n",
       "      <td>3.905668</td>\n",
       "    </tr>\n",
       "    <tr>\n",
       "      <th>1</th>\n",
       "      <td>cqz</td>\n",
       "      <td>andresmh</td>\n",
       "      <td>3.894189</td>\n",
       "    </tr>\n",
       "    <tr>\n",
       "      <th>2</th>\n",
       "      <td>cqz</td>\n",
       "      <td>pg</td>\n",
       "      <td>3.859345</td>\n",
       "    </tr>\n",
       "    <tr>\n",
       "      <th>3</th>\n",
       "      <td>cqz</td>\n",
       "      <td>alicia</td>\n",
       "      <td>3.364490</td>\n",
       "    </tr>\n",
       "    <tr>\n",
       "      <th>4</th>\n",
       "      <td>cqz</td>\n",
       "      <td>bkeegan</td>\n",
       "      <td>3.321290</td>\n",
       "    </tr>\n",
       "  </tbody>\n",
       "</table>\n",
       "</div>"
      ],
      "text/plain": [
       "  user      item  prediction\n",
       "0  cqz    karger    3.905668\n",
       "1  cqz  andresmh    3.894189\n",
       "2  cqz        pg    3.859345\n",
       "3  cqz    alicia    3.364490\n",
       "4  cqz   bkeegan    3.321290"
      ]
     },
     "execution_count": 138,
     "metadata": {},
     "output_type": "execute_result"
    }
   ],
   "source": [
    "topk_scores32 = model32.recommend_k_items(test_df, top_k=10, remove_seen=True)\n",
    "topk_scores32.head()"
   ]
  },
  {
   "cell_type": "code",
   "execution_count": 139,
   "id": "56b48597",
   "metadata": {},
   "outputs": [
    {
     "data": {
      "text/plain": [
       "0.3140908081805034"
      ]
     },
     "execution_count": 139,
     "metadata": {},
     "output_type": "execute_result"
    }
   ],
   "source": [
    "eval_ndcg32 = eval_utils.ndcg_at_k(test_df, topk_scores32, k=10)\n",
    "eval_ndcg32"
   ]
  },
  {
   "cell_type": "code",
   "execution_count": null,
   "id": "a9d0283f-353c-4a90-a74f-6a9d015799a9",
   "metadata": {},
   "outputs": [],
   "source": []
  }
 ],
 "metadata": {
  "kernelspec": {
   "display_name": "Python 3 (ipykernel)",
   "language": "python",
   "name": "python3"
  },
  "language_info": {
   "codemirror_mode": {
    "name": "ipython",
    "version": 3
   },
   "file_extension": ".py",
   "mimetype": "text/x-python",
   "name": "python",
   "nbconvert_exporter": "python",
   "pygments_lexer": "ipython3",
   "version": "3.10.8"
  }
 },
 "nbformat": 4,
 "nbformat_minor": 5
}

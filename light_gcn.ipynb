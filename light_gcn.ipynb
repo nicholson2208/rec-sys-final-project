{
 "cells": [
  {
   "cell_type": "markdown",
   "id": "5081ab52-f835-4062-a4b6-081d13652640",
   "metadata": {
    "tags": []
   },
   "source": [
    "## Reading files"
   ]
  },
  {
   "cell_type": "code",
   "execution_count": 55,
   "id": "6aececc8-d52f-4de3-87a4-aedecb2468d0",
   "metadata": {
    "tags": []
   },
   "outputs": [],
   "source": [
    "import numpy as np\n",
    "import pandas as pd\n",
    "import matplotlib.pyplot as plt\n",
    "import networkx as nx\n",
    "\n",
    "import pickle\n",
    "import random"
   ]
  },
  {
   "cell_type": "code",
   "execution_count": 56,
   "id": "19f10212-14ae-43e0-94d2-b33706538333",
   "metadata": {
    "tags": []
   },
   "outputs": [],
   "source": [
    "def read_g_obj(file=\"adj_matrices/G_hci.pkl\"):\n",
    "    with open(file, \"rb\") as pfile: \n",
    "        G = pickle.load(pfile)\n",
    "    \n",
    "    follows_at_least_10 = [person for person, out_degree in G.out_degree() if out_degree >= 10] \n",
    "    \n",
    "    subgraph_hci = nx.subgraph(G, follows_at_least_10)\n",
    "    \n",
    "    return subgraph_hci"
   ]
  },
  {
   "cell_type": "code",
   "execution_count": 57,
   "id": "f56c8b48-de3a-4850-9abf-bb6e26a3e104",
   "metadata": {},
   "outputs": [],
   "source": [
    "subgraph_hci = read_g_obj()"
   ]
  },
  {
   "cell_type": "code",
   "execution_count": 58,
   "id": "71000a82",
   "metadata": {},
   "outputs": [],
   "source": [
    "with open(\"train_test/test.pkl\", \"rb\") as pfile:\n",
    "    test = pickle.load(pfile)"
   ]
  },
  {
   "cell_type": "code",
   "execution_count": 59,
   "id": "670ed686",
   "metadata": {},
   "outputs": [],
   "source": [
    "with open(\"train_test/train.pkl\", \"rb\") as pfile:\n",
    "    train = pickle.load(pfile)"
   ]
  },
  {
   "cell_type": "code",
   "execution_count": 60,
   "id": "a787e865",
   "metadata": {},
   "outputs": [],
   "source": [
    "with open(\"train_test/anti_test.pkl\", \"rb\") as pfile:\n",
    "    anti_test = pickle.load(pfile)"
   ]
  },
  {
   "cell_type": "code",
   "execution_count": 99,
   "id": "2a272ee9",
   "metadata": {},
   "outputs": [],
   "source": [
    "# adding 1 to all the user-user edges\n",
    "def create_train_test_df(train, test, anti_test):  \n",
    "    train_data_extended = [(follower, following, 1) for follower, following in train]\n",
    "    test_data_extended = [(follower, following, 1) for follower, following in test]\n",
    "    anti_test_data_extended = [(follower, following, 0) for follower, following in anti_test]\n",
    "    \n",
    "    train_df = pd.DataFrame(\n",
    "        train_data_extended, columns=[\"user\", \"item\", \"rating\"]\n",
    "    )\n",
    "    # train_df.to_csv('train_df.csv')\n",
    "    \n",
    "    test_data_extended.extend(anti_test_data_extended)\n",
    "    test_df = pd.DataFrame(test_data_extended, columns=[\"user\", \"item\", \"rating\"])\n",
    "    # test_df.to_csv('test_df.csv')\n",
    "    \n",
    "    return train_df, test_df"
   ]
  },
  {
   "cell_type": "code",
   "execution_count": 100,
   "id": "efff1212-12c6-44c4-8d03-3f0da57b976a",
   "metadata": {},
   "outputs": [],
   "source": [
    "train_df, test_df = create_train_test_df(train, test, anti_test)"
   ]
  },
  {
   "cell_type": "markdown",
   "id": "c1816bf5-2015-4c8a-9824-53cc7039827d",
   "metadata": {},
   "source": [
    "### is there a way to include features???"
   ]
  },
  {
   "cell_type": "code",
   "execution_count": 64,
   "id": "21b8fabf-4027-422b-ac62-e9c6163f6253",
   "metadata": {},
   "outputs": [],
   "source": [
    "users_data = pd.read_csv(\"data_csv/profiles/extended_df_complete.csv\")"
   ]
  },
  {
   "cell_type": "code",
   "execution_count": 65,
   "id": "f097b454-00c8-4c91-b8c8-360683ef9846",
   "metadata": {},
   "outputs": [
    {
     "data": {
      "text/plain": [
       "109245646986992073"
      ]
     },
     "execution_count": 65,
     "metadata": {},
     "output_type": "execute_result"
    }
   ],
   "source": [
    "users_data[users_data['acct'] == 'Anas']['id'].values[0]"
   ]
  },
  {
   "cell_type": "code",
   "execution_count": 66,
   "id": "a95cdde1-4bd8-49b3-9e42-5a8cdfc8eb8c",
   "metadata": {},
   "outputs": [
    {
     "data": {
      "text/html": [
       "<div>\n",
       "<style scoped>\n",
       "    .dataframe tbody tr th:only-of-type {\n",
       "        vertical-align: middle;\n",
       "    }\n",
       "\n",
       "    .dataframe tbody tr th {\n",
       "        vertical-align: top;\n",
       "    }\n",
       "\n",
       "    .dataframe thead th {\n",
       "        text-align: right;\n",
       "    }\n",
       "</style>\n",
       "<table border=\"1\" class=\"dataframe\">\n",
       "  <thead>\n",
       "    <tr style=\"text-align: right;\">\n",
       "      <th></th>\n",
       "      <th>user</th>\n",
       "      <th>item</th>\n",
       "      <th>rating</th>\n",
       "    </tr>\n",
       "  </thead>\n",
       "  <tbody>\n",
       "    <tr>\n",
       "      <th>0</th>\n",
       "      <td>cqz</td>\n",
       "      <td>jbigham</td>\n",
       "      <td>1</td>\n",
       "    </tr>\n",
       "    <tr>\n",
       "      <th>1</th>\n",
       "      <td>cqz</td>\n",
       "      <td>ryanatkn</td>\n",
       "      <td>1</td>\n",
       "    </tr>\n",
       "    <tr>\n",
       "      <th>2</th>\n",
       "      <td>cqz</td>\n",
       "      <td>axz</td>\n",
       "      <td>1</td>\n",
       "    </tr>\n",
       "    <tr>\n",
       "      <th>3</th>\n",
       "      <td>cqz</td>\n",
       "      <td>msbernst</td>\n",
       "      <td>1</td>\n",
       "    </tr>\n",
       "    <tr>\n",
       "      <th>4</th>\n",
       "      <td>cqz</td>\n",
       "      <td>qli</td>\n",
       "      <td>1</td>\n",
       "    </tr>\n",
       "  </tbody>\n",
       "</table>\n",
       "</div>"
      ],
      "text/plain": [
       "  user      item  rating\n",
       "0  cqz   jbigham       1\n",
       "1  cqz  ryanatkn       1\n",
       "2  cqz       axz       1\n",
       "3  cqz  msbernst       1\n",
       "4  cqz       qli       1"
      ]
     },
     "execution_count": 66,
     "metadata": {},
     "output_type": "execute_result"
    }
   ],
   "source": [
    "train_df.head()"
   ]
  },
  {
   "cell_type": "code",
   "execution_count": 67,
   "id": "0f702853-5374-40bd-be7e-14386983dc61",
   "metadata": {},
   "outputs": [
    {
     "name": "stdout",
     "output_type": "stream",
     "text": [
      "<class 'pandas.core.frame.DataFrame'>\n",
      "RangeIndex: 22480 entries, 0 to 22479\n",
      "Data columns (total 3 columns):\n",
      " #   Column  Non-Null Count  Dtype \n",
      "---  ------  --------------  ----- \n",
      " 0   user    22480 non-null  object\n",
      " 1   item    22480 non-null  object\n",
      " 2   rating  22480 non-null  int64 \n",
      "dtypes: int64(1), object(2)\n",
      "memory usage: 527.0+ KB\n"
     ]
    }
   ],
   "source": [
    "train_df.info()"
   ]
  },
  {
   "cell_type": "code",
   "execution_count": 68,
   "id": "46f1279c-be4e-4c69-ba75-eaa45326fc10",
   "metadata": {},
   "outputs": [
    {
     "data": {
      "text/html": [
       "<div>\n",
       "<style scoped>\n",
       "    .dataframe tbody tr th:only-of-type {\n",
       "        vertical-align: middle;\n",
       "    }\n",
       "\n",
       "    .dataframe tbody tr th {\n",
       "        vertical-align: top;\n",
       "    }\n",
       "\n",
       "    .dataframe thead th {\n",
       "        text-align: right;\n",
       "    }\n",
       "</style>\n",
       "<table border=\"1\" class=\"dataframe\">\n",
       "  <thead>\n",
       "    <tr style=\"text-align: right;\">\n",
       "      <th></th>\n",
       "      <th>user</th>\n",
       "      <th>item</th>\n",
       "      <th>rating</th>\n",
       "    </tr>\n",
       "  </thead>\n",
       "  <tbody>\n",
       "    <tr>\n",
       "      <th>0</th>\n",
       "      <td>cqz</td>\n",
       "      <td>kentrellowens</td>\n",
       "      <td>1</td>\n",
       "    </tr>\n",
       "    <tr>\n",
       "      <th>1</th>\n",
       "      <td>cqz</td>\n",
       "      <td>ruotongw</td>\n",
       "      <td>1</td>\n",
       "    </tr>\n",
       "    <tr>\n",
       "      <th>2</th>\n",
       "      <td>cqz</td>\n",
       "      <td>schaferj</td>\n",
       "      <td>1</td>\n",
       "    </tr>\n",
       "    <tr>\n",
       "      <th>3</th>\n",
       "      <td>Gillian</td>\n",
       "      <td>kgajos</td>\n",
       "      <td>1</td>\n",
       "    </tr>\n",
       "    <tr>\n",
       "      <th>4</th>\n",
       "      <td>Gillian</td>\n",
       "      <td>andreaforte</td>\n",
       "      <td>1</td>\n",
       "    </tr>\n",
       "  </tbody>\n",
       "</table>\n",
       "</div>"
      ],
      "text/plain": [
       "      user           item  rating\n",
       "0      cqz  kentrellowens       1\n",
       "1      cqz       ruotongw       1\n",
       "2      cqz       schaferj       1\n",
       "3  Gillian         kgajos       1\n",
       "4  Gillian    andreaforte       1"
      ]
     },
     "execution_count": 68,
     "metadata": {},
     "output_type": "execute_result"
    }
   ],
   "source": [
    "test_df.head()"
   ]
  },
  {
   "cell_type": "code",
   "execution_count": 69,
   "id": "ecc293ed-5a94-43e5-9432-ea16217a0ee4",
   "metadata": {},
   "outputs": [
    {
     "name": "stdout",
     "output_type": "stream",
     "text": [
      "<class 'pandas.core.frame.DataFrame'>\n",
      "RangeIndex: 18144 entries, 0 to 18143\n",
      "Data columns (total 3 columns):\n",
      " #   Column  Non-Null Count  Dtype \n",
      "---  ------  --------------  ----- \n",
      " 0   user    18144 non-null  object\n",
      " 1   item    18144 non-null  object\n",
      " 2   rating  18144 non-null  int64 \n",
      "dtypes: int64(1), object(2)\n",
      "memory usage: 425.4+ KB\n"
     ]
    }
   ],
   "source": [
    "test_df.info()"
   ]
  },
  {
   "cell_type": "markdown",
   "id": "0f2d06ff",
   "metadata": {},
   "source": [
    "## Model Implementation"
   ]
  },
  {
   "cell_type": "code",
   "execution_count": 70,
   "id": "612b50db",
   "metadata": {},
   "outputs": [],
   "source": [
    "import sys\n",
    "sys.path.append(\"/LightGCN\")"
   ]
  },
  {
   "cell_type": "code",
   "execution_count": 71,
   "id": "5ef944cc",
   "metadata": {},
   "outputs": [],
   "source": [
    "from LightGCN_modules import LightGCN\n",
    "from LightGCN_modules import ImplicitCF\n",
    "from LightGCN_modules import deeprec_utils\n",
    "from LightGCN_modules import eval_utils"
   ]
  },
  {
   "cell_type": "code",
   "execution_count": 72,
   "id": "a6d5a455-3fff-4ea8-87dd-ea65ced41142",
   "metadata": {},
   "outputs": [],
   "source": [
    "# Model implementation"
   ]
  },
  {
   "cell_type": "code",
   "execution_count": 73,
   "id": "6993efd5",
   "metadata": {},
   "outputs": [],
   "source": [
    "data = ImplicitCF.ImplicitCF(\n",
    "    train=train_df,\n",
    "    test=test_df,\n",
    "    seed=2023,\n",
    "    col_user=\"user\",\n",
    "    col_item=\"item\",\n",
    "    col_rating=\"rating\",\n",
    ")"
   ]
  },
  {
   "cell_type": "code",
   "execution_count": 74,
   "id": "935af34d",
   "metadata": {},
   "outputs": [],
   "source": [
    "### Setup the model\n",
    "hparam32 = deeprec_utils.prepare_hparams(\n",
    "    \"LightGCN_modules/lightgcn.yaml\",\n",
    "    n_layers=3,\n",
    "    batch_size=512,\n",
    "    epochs=50,\n",
    "    embed_size=32,\n",
    "    learning_rate=0.01,\n",
    "    eval_epoch=5,\n",
    "    top_k=10,\n",
    ")"
   ]
  },
  {
   "cell_type": "code",
   "execution_count": 75,
   "id": "c1f2ec21",
   "metadata": {},
   "outputs": [
    {
     "name": "stdout",
     "output_type": "stream",
     "text": [
      "Already create adjacency matrix.\n",
      "Already normalize adjacency matrix.\n",
      "Using xavier initialization.\n"
     ]
    }
   ],
   "source": [
    "model32 = LightGCN.LightGCN(hparam32, data, seed=2023)"
   ]
  },
  {
   "cell_type": "code",
   "execution_count": 76,
   "id": "63a1cd03",
   "metadata": {
    "collapsed": true,
    "jupyter": {
     "outputs_hidden": true
    },
    "tags": []
   },
   "outputs": [
    {
     "name": "stdout",
     "output_type": "stream",
     "text": [
      "Epoch 1 (train)0.6s: train loss = 0.50526 = (mf)0.50509 + (embed)0.00017\n",
      "Epoch 2 (train)0.5s: train loss = 0.33958 = (mf)0.33909 + (embed)0.00049\n",
      "Epoch 3 (train)0.5s: train loss = 0.33267 = (mf)0.33215 + (embed)0.00052\n",
      "Epoch 4 (train)0.5s: train loss = 0.30751 = (mf)0.30691 + (embed)0.00060\n",
      "Epoch 5 (train)0.5s + (eval)0.2s: train loss = 0.28195 = (mf)0.28122 + (embed)0.00073, recall = 0.29465, ndcg = 0.36278, precision = 0.21411, map = 0.19721\n",
      "Epoch 6 (train)0.5s: train loss = 0.25836 = (mf)0.25746 + (embed)0.00090\n",
      "Epoch 7 (train)0.5s: train loss = 0.24671 = (mf)0.24567 + (embed)0.00104\n",
      "Epoch 8 (train)0.5s: train loss = 0.23615 = (mf)0.23497 + (embed)0.00118\n",
      "Epoch 9 (train)1.0s: train loss = 0.23025 = (mf)0.22893 + (embed)0.00131\n",
      "Epoch 10 (train)0.5s + (eval)0.1s: train loss = 0.21641 = (mf)0.21495 + (embed)0.00146, recall = 0.30826, ndcg = 0.37844, precision = 0.22844, map = 0.20586\n",
      "Epoch 11 (train)0.5s: train loss = 0.20403 = (mf)0.20240 + (embed)0.00163\n",
      "Epoch 12 (train)0.5s: train loss = 0.19400 = (mf)0.19221 + (embed)0.00179\n",
      "Epoch 13 (train)0.4s: train loss = 0.18873 = (mf)0.18677 + (embed)0.00197\n",
      "Epoch 14 (train)0.5s: train loss = 0.18117 = (mf)0.17903 + (embed)0.00213\n",
      "Epoch 15 (train)0.5s + (eval)0.1s: train loss = 0.16496 = (mf)0.16264 + (embed)0.00233, recall = 0.32686, ndcg = 0.39502, precision = 0.24312, map = 0.21450\n",
      "Epoch 16 (train)0.5s: train loss = 0.15819 = (mf)0.15568 + (embed)0.00251\n",
      "Epoch 17 (train)0.5s: train loss = 0.14834 = (mf)0.14566 + (embed)0.00268\n",
      "Epoch 18 (train)0.5s: train loss = 0.14635 = (mf)0.14349 + (embed)0.00286\n",
      "Epoch 19 (train)0.4s: train loss = 0.13964 = (mf)0.13660 + (embed)0.00304\n",
      "Epoch 20 (train)0.5s + (eval)0.1s: train loss = 0.13275 = (mf)0.12953 + (embed)0.00322, recall = 0.33266, ndcg = 0.39762, precision = 0.24794, map = 0.21584\n",
      "Epoch 21 (train)0.5s: train loss = 0.12356 = (mf)0.12017 + (embed)0.00338\n",
      "Epoch 22 (train)0.4s: train loss = 0.12465 = (mf)0.12108 + (embed)0.00356\n",
      "Epoch 23 (train)0.5s: train loss = 0.11826 = (mf)0.11456 + (embed)0.00370\n",
      "Epoch 24 (train)0.5s: train loss = 0.11432 = (mf)0.11044 + (embed)0.00388\n",
      "Epoch 25 (train)0.4s + (eval)0.1s: train loss = 0.10691 = (mf)0.10286 + (embed)0.00405, recall = 0.33858, ndcg = 0.39955, precision = 0.24920, map = 0.21786\n",
      "Epoch 26 (train)0.4s: train loss = 0.10717 = (mf)0.10295 + (embed)0.00422\n",
      "Epoch 27 (train)0.4s: train loss = 0.10412 = (mf)0.09973 + (embed)0.00439\n",
      "Epoch 28 (train)0.4s: train loss = 0.10054 = (mf)0.09599 + (embed)0.00455\n",
      "Epoch 29 (train)0.4s: train loss = 0.09509 = (mf)0.09038 + (embed)0.00472\n",
      "Epoch 30 (train)0.5s + (eval)0.1s: train loss = 0.09472 = (mf)0.08984 + (embed)0.00489, recall = 0.33662, ndcg = 0.39437, precision = 0.24771, map = 0.21481\n",
      "Epoch 31 (train)0.5s: train loss = 0.08814 = (mf)0.08310 + (embed)0.00505\n",
      "Epoch 32 (train)0.4s: train loss = 0.08699 = (mf)0.08179 + (embed)0.00520\n",
      "Epoch 33 (train)0.4s: train loss = 0.08800 = (mf)0.08266 + (embed)0.00534\n",
      "Epoch 34 (train)0.4s: train loss = 0.08404 = (mf)0.07855 + (embed)0.00549\n",
      "Epoch 35 (train)0.4s + (eval)0.1s: train loss = 0.08194 = (mf)0.07631 + (embed)0.00563, recall = 0.33347, ndcg = 0.38838, precision = 0.24656, map = 0.21009\n",
      "Epoch 36 (train)0.4s: train loss = 0.08107 = (mf)0.07528 + (embed)0.00579\n",
      "Epoch 37 (train)0.4s: train loss = 0.07578 = (mf)0.06985 + (embed)0.00593\n",
      "Epoch 38 (train)0.4s: train loss = 0.08120 = (mf)0.07515 + (embed)0.00605\n",
      "Epoch 39 (train)0.4s: train loss = 0.07302 = (mf)0.06682 + (embed)0.00620\n",
      "Epoch 40 (train)0.4s + (eval)0.1s: train loss = 0.07155 = (mf)0.06521 + (embed)0.00634, recall = 0.33297, ndcg = 0.38618, precision = 0.24392, map = 0.20902\n",
      "Epoch 41 (train)0.5s: train loss = 0.07138 = (mf)0.06491 + (embed)0.00647\n",
      "Epoch 42 (train)0.4s: train loss = 0.07165 = (mf)0.06506 + (embed)0.00659\n",
      "Epoch 43 (train)0.4s: train loss = 0.06842 = (mf)0.06171 + (embed)0.00672\n",
      "Epoch 44 (train)0.4s: train loss = 0.07115 = (mf)0.06432 + (embed)0.00683\n",
      "Epoch 45 (train)0.5s + (eval)0.1s: train loss = 0.06602 = (mf)0.05906 + (embed)0.00695, recall = 0.33468, ndcg = 0.38570, precision = 0.24507, map = 0.20812\n",
      "Epoch 46 (train)0.5s: train loss = 0.06494 = (mf)0.05786 + (embed)0.00708\n",
      "Epoch 47 (train)0.4s: train loss = 0.06225 = (mf)0.05508 + (embed)0.00717\n",
      "Epoch 48 (train)0.7s: train loss = 0.06413 = (mf)0.05683 + (embed)0.00731\n",
      "Epoch 49 (train)0.5s: train loss = 0.05930 = (mf)0.05189 + (embed)0.00742\n",
      "Epoch 50 (train)0.4s + (eval)0.1s: train loss = 0.06159 = (mf)0.05406 + (embed)0.00753, recall = 0.33015, ndcg = 0.37619, precision = 0.24255, map = 0.20180\n"
     ]
    }
   ],
   "source": [
    "model32.fit()"
   ]
  },
  {
   "cell_type": "code",
   "execution_count": 77,
   "id": "10e0c1c6",
   "metadata": {},
   "outputs": [
    {
     "data": {
      "text/html": [
       "<div>\n",
       "<style scoped>\n",
       "    .dataframe tbody tr th:only-of-type {\n",
       "        vertical-align: middle;\n",
       "    }\n",
       "\n",
       "    .dataframe tbody tr th {\n",
       "        vertical-align: top;\n",
       "    }\n",
       "\n",
       "    .dataframe thead th {\n",
       "        text-align: right;\n",
       "    }\n",
       "</style>\n",
       "<table border=\"1\" class=\"dataframe\">\n",
       "  <thead>\n",
       "    <tr style=\"text-align: right;\">\n",
       "      <th></th>\n",
       "      <th>user</th>\n",
       "      <th>item</th>\n",
       "      <th>prediction</th>\n",
       "    </tr>\n",
       "  </thead>\n",
       "  <tbody>\n",
       "    <tr>\n",
       "      <th>0</th>\n",
       "      <td>cqz</td>\n",
       "      <td>imjane</td>\n",
       "      <td>7.804013</td>\n",
       "    </tr>\n",
       "    <tr>\n",
       "      <th>1</th>\n",
       "      <td>cqz</td>\n",
       "      <td>ruotongw</td>\n",
       "      <td>7.304160</td>\n",
       "    </tr>\n",
       "    <tr>\n",
       "      <th>2</th>\n",
       "      <td>cqz</td>\n",
       "      <td>tisjune</td>\n",
       "      <td>6.941763</td>\n",
       "    </tr>\n",
       "    <tr>\n",
       "      <th>3</th>\n",
       "      <td>cqz</td>\n",
       "      <td>joonspk</td>\n",
       "      <td>6.544664</td>\n",
       "    </tr>\n",
       "    <tr>\n",
       "      <th>4</th>\n",
       "      <td>cqz</td>\n",
       "      <td>andresmh</td>\n",
       "      <td>6.186705</td>\n",
       "    </tr>\n",
       "  </tbody>\n",
       "</table>\n",
       "</div>"
      ],
      "text/plain": [
       "  user      item  prediction\n",
       "0  cqz    imjane    7.804013\n",
       "1  cqz  ruotongw    7.304160\n",
       "2  cqz   tisjune    6.941763\n",
       "3  cqz   joonspk    6.544664\n",
       "4  cqz  andresmh    6.186705"
      ]
     },
     "execution_count": 77,
     "metadata": {},
     "output_type": "execute_result"
    }
   ],
   "source": [
    "topk_scores32 = model32.recommend_k_items(test_df, top_k=10, remove_seen=True)\n",
    "topk_scores32.head()"
   ]
  },
  {
   "cell_type": "markdown",
   "id": "2e56721c-9bdc-4d73-93b6-fd1928f276b5",
   "metadata": {},
   "source": [
    "### Evaluation"
   ]
  },
  {
   "cell_type": "code",
   "execution_count": 78,
   "id": "56b48597",
   "metadata": {},
   "outputs": [
    {
     "data": {
      "text/plain": [
       "0.3106120875424586"
      ]
     },
     "execution_count": 78,
     "metadata": {},
     "output_type": "execute_result"
    }
   ],
   "source": [
    "eval_ndcg32 = eval_utils.ndcg_at_k(test_df, topk_scores32, k=10)\n",
    "eval_ndcg32"
   ]
  },
  {
   "cell_type": "code",
   "execution_count": 79,
   "id": "2472ad5f-b4d3-4a54-a337-f03bd7b94961",
   "metadata": {},
   "outputs": [
    {
     "name": "stdout",
     "output_type": "stream",
     "text": [
      "MAP:\t0.102879\n",
      "NDCG:\t0.310612\n",
      "Precision@K:\t0.249541\n",
      "Recall@K:\t0.169446\n"
     ]
    }
   ],
   "source": [
    "eval_map = eval_utils.map_at_k(test_df, topk_scores32, k=10)\n",
    "eval_ndcg = eval_utils.ndcg_at_k(test_df, topk_scores32, k=10)\n",
    "eval_precision = eval_utils.precision_at_k(test_df, topk_scores32, k=10)\n",
    "eval_recall = eval_utils.recall_at_k(test_df, topk_scores32, k=10)\n",
    "\n",
    "print(\"MAP:\\t%f\" % eval_map,\n",
    "      \"NDCG:\\t%f\" % eval_ndcg,\n",
    "      \"Precision@K:\\t%f\" % eval_precision,\n",
    "      \"Recall@K:\\t%f\" % eval_recall, sep='\\n')"
   ]
  },
  {
   "cell_type": "code",
   "execution_count": 80,
   "id": "96589ee6-3605-4ea9-8994-2638fbaec256",
   "metadata": {},
   "outputs": [
    {
     "data": {
      "text/html": [
       "<div>\n",
       "<style scoped>\n",
       "    .dataframe tbody tr th:only-of-type {\n",
       "        vertical-align: middle;\n",
       "    }\n",
       "\n",
       "    .dataframe tbody tr th {\n",
       "        vertical-align: top;\n",
       "    }\n",
       "\n",
       "    .dataframe thead th {\n",
       "        text-align: right;\n",
       "    }\n",
       "</style>\n",
       "<table border=\"1\" class=\"dataframe\">\n",
       "  <thead>\n",
       "    <tr style=\"text-align: right;\">\n",
       "      <th></th>\n",
       "      <th>user</th>\n",
       "      <th>item</th>\n",
       "      <th>prediction</th>\n",
       "    </tr>\n",
       "  </thead>\n",
       "  <tbody>\n",
       "    <tr>\n",
       "      <th>5880</th>\n",
       "      <td>Anas</td>\n",
       "      <td>Anas</td>\n",
       "      <td>7.066500</td>\n",
       "    </tr>\n",
       "    <tr>\n",
       "      <th>5881</th>\n",
       "      <td>Anas</td>\n",
       "      <td>evijitghosh</td>\n",
       "      <td>6.258918</td>\n",
       "    </tr>\n",
       "    <tr>\n",
       "      <th>5882</th>\n",
       "      <td>Anas</td>\n",
       "      <td>davidthewid</td>\n",
       "      <td>5.826617</td>\n",
       "    </tr>\n",
       "    <tr>\n",
       "      <th>5883</th>\n",
       "      <td>Anas</td>\n",
       "      <td>sukrit</td>\n",
       "      <td>5.373965</td>\n",
       "    </tr>\n",
       "    <tr>\n",
       "      <th>5884</th>\n",
       "      <td>Anas</td>\n",
       "      <td>sara</td>\n",
       "      <td>5.261525</td>\n",
       "    </tr>\n",
       "    <tr>\n",
       "      <th>5885</th>\n",
       "      <td>Anas</td>\n",
       "      <td>andrewkuznet</td>\n",
       "      <td>5.050897</td>\n",
       "    </tr>\n",
       "    <tr>\n",
       "      <th>5886</th>\n",
       "      <td>Anas</td>\n",
       "      <td>samanthadalal</td>\n",
       "      <td>4.810711</td>\n",
       "    </tr>\n",
       "    <tr>\n",
       "      <th>5887</th>\n",
       "      <td>Anas</td>\n",
       "      <td>skairam</td>\n",
       "      <td>4.790081</td>\n",
       "    </tr>\n",
       "    <tr>\n",
       "      <th>5888</th>\n",
       "      <td>Anas</td>\n",
       "      <td>jr</td>\n",
       "      <td>4.752659</td>\n",
       "    </tr>\n",
       "    <tr>\n",
       "      <th>5889</th>\n",
       "      <td>Anas</td>\n",
       "      <td>jordant</td>\n",
       "      <td>4.650952</td>\n",
       "    </tr>\n",
       "  </tbody>\n",
       "</table>\n",
       "</div>"
      ],
      "text/plain": [
       "      user           item  prediction\n",
       "5880  Anas           Anas    7.066500\n",
       "5881  Anas    evijitghosh    6.258918\n",
       "5882  Anas    davidthewid    5.826617\n",
       "5883  Anas         sukrit    5.373965\n",
       "5884  Anas           sara    5.261525\n",
       "5885  Anas   andrewkuznet    5.050897\n",
       "5886  Anas  samanthadalal    4.810711\n",
       "5887  Anas        skairam    4.790081\n",
       "5888  Anas             jr    4.752659\n",
       "5889  Anas        jordant    4.650952"
      ]
     },
     "execution_count": 80,
     "metadata": {},
     "output_type": "execute_result"
    }
   ],
   "source": [
    "# wants me to follow myself lol\n",
    "topk_scores32[topk_scores32['user'] == 'Anas']"
   ]
  },
  {
   "cell_type": "code",
   "execution_count": 81,
   "id": "a9d0283f-353c-4a90-a74f-6a9d015799a9",
   "metadata": {},
   "outputs": [],
   "source": [
    "def check_predictions(predictions_for_group_members, test):\n",
    "    \"\"\"\n",
    "    a function for checking \n",
    "        1- how many it got right -- this is precision -- and \n",
    "        2- the next 3 people you should follow\n",
    "    \n",
    "    Params:\n",
    "        predictions_for_group_members (this is a dict):\n",
    "            a dictionary with our names as keys, and rec list as the values\n",
    "            for me, a rec list is (person, score) tuples\n",
    "        test (list):\n",
    "            an edge list of our test set\n",
    "    \n",
    "    Returns:\n",
    "        output_dict (dict):\n",
    "            our names as keys, {\"predicted\" : [list of preds], \"correct\" : [list of correctly predicted users], \n",
    "            \"you should follow\" : [list of ppl]}\n",
    "    \"\"\"\n",
    "    \n",
    "    output_dict = {}\n",
    "    \n",
    "    for person, recs in predictions_for_group_members.items():\n",
    "        predicted = []\n",
    "        correct_prediction = []\n",
    "        people_I_should_follow = []\n",
    "        \n",
    "        \n",
    "        for rec in recs:\n",
    "            # my list of recs is a (person, score) tuples\n",
    "            predicted.append(rec[0])\n",
    "            \n",
    "            if (person, rec[0]) in test:\n",
    "                correct_prediction.append(rec[0])\n",
    "            else:\n",
    "                people_I_should_follow.append(rec[0])\n",
    "            \n",
    "        \n",
    "        output_dict[person] = dict(predicted=predicted, correct=correct_prediction, should_follow=people_I_should_follow)\n",
    "    \n",
    "    return output_dict"
   ]
  },
  {
   "cell_type": "code",
   "execution_count": 82,
   "id": "82f6c3a2-05c6-4038-809d-afa73b1bc665",
   "metadata": {},
   "outputs": [],
   "source": [
    "# a dictionary with our names as keys, and rec list as the values \n",
    "# for me, a rec list is (person, score) tuples"
   ]
  },
  {
   "cell_type": "code",
   "execution_count": 83,
   "id": "560cd0fd-94db-46cb-9956-cb026428daf3",
   "metadata": {},
   "outputs": [],
   "source": [
    "our_recs = dict()\n",
    "user_accounts = ['Anas', 'MattNicholson', 'joshua_paup']\n",
    "\n",
    "for user in user_accounts:\n",
    "    accts = topk_scores32[topk_scores32['user'] == user]['item'].values\n",
    "    preds = topk_scores32[topk_scores32['user'] == user]['prediction'].values\n",
    "    our_recs[user] = list(zip(accts, preds))"
   ]
  },
  {
   "cell_type": "code",
   "execution_count": 84,
   "id": "85d574ae-736a-4e97-ba2a-d20422198f1a",
   "metadata": {},
   "outputs": [
    {
     "data": {
      "text/plain": [
       "{'Anas': [('Anas', 7.0665),\n",
       "  ('evijitghosh', 6.258918),\n",
       "  ('davidthewid', 5.826617),\n",
       "  ('sukrit', 5.373965),\n",
       "  ('sara', 5.261525),\n",
       "  ('andrewkuznet', 5.0508966),\n",
       "  ('samanthadalal', 4.810711),\n",
       "  ('skairam', 4.790081),\n",
       "  ('jr', 4.7526593),\n",
       "  ('jordant', 4.650952)],\n",
       " 'MattNicholson': [('msbernst', 8.212967),\n",
       "  ('Heycori', 7.760834),\n",
       "  ('MattNicholson', 7.4578395),\n",
       "  ('skairam', 7.087228),\n",
       "  ('jbigham', 6.846466),\n",
       "  ('andresmh', 6.826126),\n",
       "  ('bkeegan', 6.6153903),\n",
       "  ('aaroniidx', 6.5041976),\n",
       "  ('carl', 6.3311195),\n",
       "  ('emma_lurie', 6.040155)],\n",
       " 'joshua_paup': [('axz', 9.071303),\n",
       "  ('jbigham', 7.8865385),\n",
       "  ('msbernst', 7.7097316),\n",
       "  ('MattNicholson', 6.5180087),\n",
       "  ('sigchi', 6.3359466),\n",
       "  ('Heycori', 6.3343062),\n",
       "  ('blakeley', 6.3238444),\n",
       "  ('sara', 6.288517),\n",
       "  ('princess', 6.0874386),\n",
       "  ('jordant', 5.904695)]}"
      ]
     },
     "execution_count": 84,
     "metadata": {},
     "output_type": "execute_result"
    }
   ],
   "source": [
    "our_recs"
   ]
  },
  {
   "cell_type": "code",
   "execution_count": 87,
   "id": "57a5c2c4-9b4a-4f75-b6bd-f8a669de2cd4",
   "metadata": {},
   "outputs": [
    {
     "data": {
      "text/plain": [
       "[('cqz', 'kentrellowens'),\n",
       " ('cqz', 'ruotongw'),\n",
       " ('cqz', 'schaferj'),\n",
       " ('Gillian', 'kgajos'),\n",
       " ('Gillian', 'andreaforte')]"
      ]
     },
     "execution_count": 87,
     "metadata": {},
     "output_type": "execute_result"
    }
   ],
   "source": [
    "test[:5]"
   ]
  },
  {
   "cell_type": "code",
   "execution_count": 89,
   "id": "974f0d89-0178-461b-9d2d-b25267586885",
   "metadata": {},
   "outputs": [],
   "source": [
    "output = check_predictions(our_recs, test)"
   ]
  },
  {
   "cell_type": "code",
   "execution_count": 98,
   "id": "33c40b54-198f-418f-ae74-f4a40a12ff3c",
   "metadata": {},
   "outputs": [
    {
     "name": "stdout",
     "output_type": "stream",
     "text": [
      "\n",
      "Username: Anas \n",
      "\n",
      "Predicted list:\n",
      " ['Anas', 'evijitghosh', 'davidthewid', 'sukrit', 'sara', 'andrewkuznet', 'samanthadalal', 'skairam', 'jr', 'jordant']\n",
      "Correct predictions:\n",
      " []\n",
      "People to follow:\n",
      " ['Anas', 'evijitghosh', 'davidthewid', 'sukrit', 'sara', 'andrewkuznet', 'samanthadalal', 'skairam', 'jr', 'jordant']\n",
      "=====\n",
      "\n",
      "Username: MattNicholson \n",
      "\n",
      "Predicted list:\n",
      " ['msbernst', 'Heycori', 'MattNicholson', 'skairam', 'jbigham', 'andresmh', 'bkeegan', 'aaroniidx', 'carl', 'emma_lurie']\n",
      "Correct predictions:\n",
      " ['msbernst']\n",
      "People to follow:\n",
      " ['Heycori', 'MattNicholson', 'skairam', 'jbigham', 'andresmh', 'bkeegan', 'aaroniidx', 'carl', 'emma_lurie']\n",
      "=====\n",
      "\n",
      "Username: joshua_paup \n",
      "\n",
      "Predicted list:\n",
      " ['axz', 'jbigham', 'msbernst', 'MattNicholson', 'sigchi', 'Heycori', 'blakeley', 'sara', 'princess', 'jordant']\n",
      "Correct predictions:\n",
      " ['axz', 'MattNicholson']\n",
      "People to follow:\n",
      " ['jbigham', 'msbernst', 'sigchi', 'Heycori', 'blakeley', 'sara', 'princess', 'jordant']\n",
      "=====\n"
     ]
    }
   ],
   "source": [
    "for user in output.keys():\n",
    "    print(\"\\nUsername:\", user, \"\\n\")\n",
    "    print(\"Predicted list:\\n\",output[user]['predicted'])\n",
    "    print(\"Correct predictions:\\n\",output[user]['correct'])\n",
    "    print(\"People to follow:\\n\",output[user]['should_follow'])\n",
    "    print(\"=====\")"
   ]
  },
  {
   "cell_type": "markdown",
   "id": "7e764c1b-7371-4e18-8dd8-69cfbc504a12",
   "metadata": {},
   "source": [
    "### Cross validation for ndcg and pprecision"
   ]
  },
  {
   "cell_type": "code",
   "execution_count": 103,
   "id": "b1004bb3-8407-4fb6-a799-e8878c91c83d",
   "metadata": {},
   "outputs": [
    {
     "name": "stdout",
     "output_type": "stream",
     "text": [
      "Starting fold\n",
      "done preparing the data\n",
      "Already create adjacency matrix.\n",
      "Already normalize adjacency matrix.\n",
      "Using xavier initialization.\n",
      "Epoch 1 (train)0.6s: train loss = 0.50586 = (mf)0.50570 + (embed)0.00016\n",
      "Epoch 2 (train)0.4s: train loss = 0.33834 = (mf)0.33785 + (embed)0.00050\n",
      "Epoch 3 (train)0.4s: train loss = 0.32974 = (mf)0.32922 + (embed)0.00052\n",
      "Epoch 4 (train)0.5s: train loss = 0.30391 = (mf)0.30330 + (embed)0.00061\n",
      "Epoch 5 (train)0.5s + (eval)0.2s: train loss = 0.27877 = (mf)0.27803 + (embed)0.00074, recall = 0.29691, ndcg = 0.36515, precision = 0.21571, map = 0.19861\n",
      "Epoch 6 (train)0.5s: train loss = 0.25678 = (mf)0.25587 + (embed)0.00092\n",
      "Epoch 7 (train)0.4s: train loss = 0.24492 = (mf)0.24387 + (embed)0.00105\n",
      "Epoch 8 (train)0.5s: train loss = 0.23461 = (mf)0.23341 + (embed)0.00120\n",
      "Epoch 9 (train)0.5s: train loss = 0.22943 = (mf)0.22810 + (embed)0.00133\n",
      "Epoch 10 (train)0.5s + (eval)0.1s: train loss = 0.21582 = (mf)0.21435 + (embed)0.00147, recall = 0.30903, ndcg = 0.37801, precision = 0.22764, map = 0.20535\n",
      "done training the model\n",
      "NDCG: 0.31225359129495767 \t Precision: 0.23325688073394496\n",
      "Starting fold-1\n",
      "done preparing the data\n",
      "Already create adjacency matrix.\n",
      "Already normalize adjacency matrix.\n",
      "Using xavier initialization.\n",
      "Epoch 1 (train)0.6s: train loss = 0.50305 = (mf)0.50288 + (embed)0.00017\n",
      "Epoch 2 (train)0.5s: train loss = 0.34155 = (mf)0.34106 + (embed)0.00049\n",
      "Epoch 3 (train)0.5s: train loss = 0.34014 = (mf)0.33964 + (embed)0.00050\n",
      "Epoch 4 (train)0.4s: train loss = 0.32180 = (mf)0.32124 + (embed)0.00056\n",
      "Epoch 5 (train)0.5s + (eval)0.2s: train loss = 0.30170 = (mf)0.30103 + (embed)0.00067, recall = 0.28693, ndcg = 0.36063, precision = 0.21663, map = 0.19227\n",
      "Epoch 6 (train)0.4s: train loss = 0.28114 = (mf)0.28032 + (embed)0.00082\n",
      "Epoch 7 (train)0.5s: train loss = 0.25513 = (mf)0.25415 + (embed)0.00098\n",
      "Epoch 8 (train)0.5s: train loss = 0.23896 = (mf)0.23781 + (embed)0.00115\n",
      "Epoch 9 (train)0.5s: train loss = 0.22747 = (mf)0.22616 + (embed)0.00131\n",
      "Epoch 10 (train)0.5s + (eval)0.1s: train loss = 0.21983 = (mf)0.21837 + (embed)0.00146, recall = 0.30971, ndcg = 0.38156, precision = 0.23326, map = 0.20698\n",
      "done training the model\n",
      "NDCG: 0.3180401912935691 \t Precision: 0.2409403669724771\n",
      "Starting fold-2\n",
      "done preparing the data\n",
      "Already create adjacency matrix.\n",
      "Already normalize adjacency matrix.\n",
      "Using xavier initialization.\n",
      "Epoch 1 (train)0.6s: train loss = 0.50509 = (mf)0.50493 + (embed)0.00017\n",
      "Epoch 2 (train)0.4s: train loss = 0.35045 = (mf)0.34996 + (embed)0.00049\n",
      "Epoch 3 (train)0.5s: train loss = 0.33649 = (mf)0.33599 + (embed)0.00050\n",
      "Epoch 4 (train)0.4s: train loss = 0.31984 = (mf)0.31927 + (embed)0.00057\n",
      "Epoch 5 (train)0.4s + (eval)0.2s: train loss = 0.30225 = (mf)0.30158 + (embed)0.00067, recall = 0.30933, ndcg = 0.37196, precision = 0.22397, map = 0.20233\n",
      "Epoch 6 (train)0.5s: train loss = 0.27268 = (mf)0.27186 + (embed)0.00082\n",
      "Epoch 7 (train)0.4s: train loss = 0.25673 = (mf)0.25574 + (embed)0.00099\n",
      "Epoch 8 (train)0.4s: train loss = 0.24228 = (mf)0.24113 + (embed)0.00116\n",
      "Epoch 9 (train)0.4s: train loss = 0.22828 = (mf)0.22697 + (embed)0.00131\n",
      "Epoch 10 (train)0.4s + (eval)0.1s: train loss = 0.21791 = (mf)0.21643 + (embed)0.00148, recall = 0.32853, ndcg = 0.39916, precision = 0.23911, map = 0.22127\n",
      "done training the model\n",
      "NDCG: 0.32930589957119144 \t Precision: 0.24678899082568806\n",
      "Starting fold-3\n",
      "done preparing the data\n",
      "Already create adjacency matrix.\n",
      "Already normalize adjacency matrix.\n",
      "Using xavier initialization.\n",
      "Epoch 1 (train)0.6s: train loss = 0.50168 = (mf)0.50151 + (embed)0.00017\n",
      "Epoch 2 (train)0.5s: train loss = 0.35560 = (mf)0.35512 + (embed)0.00049\n",
      "Epoch 3 (train)0.5s: train loss = 0.33995 = (mf)0.33947 + (embed)0.00048\n",
      "Epoch 4 (train)0.5s: train loss = 0.32378 = (mf)0.32322 + (embed)0.00055\n",
      "Epoch 5 (train)0.5s + (eval)0.2s: train loss = 0.30385 = (mf)0.30320 + (embed)0.00065, recall = 0.29173, ndcg = 0.36321, precision = 0.21399, map = 0.19666\n",
      "Epoch 6 (train)0.4s: train loss = 0.28435 = (mf)0.28357 + (embed)0.00078\n",
      "Epoch 7 (train)0.5s: train loss = 0.25846 = (mf)0.25751 + (embed)0.00095\n",
      "Epoch 8 (train)0.4s: train loss = 0.24019 = (mf)0.23905 + (embed)0.00113\n",
      "Epoch 9 (train)0.5s: train loss = 0.22961 = (mf)0.22830 + (embed)0.00131\n",
      "Epoch 10 (train)0.4s + (eval)0.1s: train loss = 0.21622 = (mf)0.21475 + (embed)0.00147, recall = 0.32057, ndcg = 0.39159, precision = 0.23624, map = 0.21511\n",
      "done training the model\n",
      "NDCG: 0.32423005188183257 \t Precision: 0.24392201834862387\n",
      "Starting fold-4\n",
      "done preparing the data\n",
      "Already create adjacency matrix.\n",
      "Already normalize adjacency matrix.\n",
      "Using xavier initialization.\n",
      "Epoch 1 (train)0.6s: train loss = 0.51380 = (mf)0.51365 + (embed)0.00016\n",
      "Epoch 2 (train)0.5s: train loss = 0.34510 = (mf)0.34460 + (embed)0.00051\n",
      "Epoch 3 (train)0.5s: train loss = 0.30951 = (mf)0.30893 + (embed)0.00057\n",
      "Epoch 4 (train)0.5s: train loss = 0.28543 = (mf)0.28473 + (embed)0.00071\n",
      "Epoch 5 (train)0.4s + (eval)0.2s: train loss = 0.26211 = (mf)0.26124 + (embed)0.00086, recall = 0.30698, ndcg = 0.38299, precision = 0.22821, map = 0.20762\n",
      "Epoch 6 (train)0.5s: train loss = 0.24427 = (mf)0.24323 + (embed)0.00103\n",
      "Epoch 7 (train)0.5s: train loss = 0.23287 = (mf)0.23169 + (embed)0.00119\n",
      "Epoch 8 (train)0.4s: train loss = 0.22521 = (mf)0.22389 + (embed)0.00132\n",
      "Epoch 9 (train)0.4s: train loss = 0.21579 = (mf)0.21433 + (embed)0.00146\n",
      "Epoch 10 (train)0.5s + (eval)0.1s: train loss = 0.20478 = (mf)0.20317 + (embed)0.00161, recall = 0.31929, ndcg = 0.39486, precision = 0.23647, map = 0.21680\n",
      "done training the model\n",
      "NDCG: 0.3271192875991842 \t Precision: 0.24357798165137617\n"
     ]
    }
   ],
   "source": [
    "hci_ndcg_scores = []\n",
    "hci_precision_scores = []\n",
    "top_k = 10\n",
    "\n",
    "hparam32 = deeprec_utils.prepare_hparams(\n",
    "    \"LightGCN_modules/lightgcn.yaml\",\n",
    "    n_layers=3,\n",
    "    batch_size=512,\n",
    "    epochs=10,\n",
    "    embed_size=32,\n",
    "    learning_rate=0.01,\n",
    "    eval_epoch=5,\n",
    "    top_k=top_k,\n",
    ")\n",
    "\n",
    "subgraph_hci = read_g_obj(file=\"adj_matrices/G_hci.pkl\")\n",
    "\n",
    "for fold in [\"\", \"-1\", \"-2\", \"-3\", \"-4\"]:\n",
    "    \n",
    "    print(\"Starting fold{}\".format(fold))\n",
    "    \n",
    "    # reading test_train folds\n",
    "    with open(\"train_test/train{}.pkl\".format(fold), \"rb\") as pfile: \n",
    "        this_fold_train = pickle.load(pfile)\n",
    "    \n",
    "    with open(\"train_test/test{}.pkl\".format(fold), \"rb\") as pfile: \n",
    "        this_fold_test = pickle.load(pfile)\n",
    "    \n",
    "    with open(\"train_test/anti_test{}.pkl\".format(fold), \"rb\") as pfile: \n",
    "        this_fold_anti_test = pickle.load(pfile)\n",
    "        \n",
    "    # prepare the data\n",
    "    this_train_df, this_test_df = create_train_test_df(this_fold_train, this_fold_test, this_fold_anti_test)\n",
    "    \n",
    "    print(\"done preparing the data\")\n",
    "    \n",
    "    # train the model\n",
    "    data = ImplicitCF.ImplicitCF(\n",
    "        train=this_train_df,\n",
    "        test=this_test_df,\n",
    "        seed=2023,\n",
    "        col_user=\"user\",\n",
    "        col_item=\"item\",\n",
    "        col_rating=\"rating\",\n",
    "    )\n",
    "    \n",
    "    \n",
    "    model32 = LightGCN.LightGCN(hparam32, data, seed=2023)\n",
    "    model32.fit()\n",
    "    \n",
    "    print(\"done training the model\")\n",
    "    \n",
    "    # make the test recs\n",
    "    topk_scores32 = model32.recommend_k_items(this_test_df, top_k=top_k, remove_seen=True)\n",
    "    \n",
    "    # --- evaluate ----\n",
    "    \n",
    "    # NDCG\n",
    "    eval_ndcg32 = eval_utils.ndcg_at_k(this_test_df, topk_scores32, k=top_k)\n",
    "    hci_ndcg_scores.append(eval_ndcg32)\n",
    "    \n",
    "    # Precision\n",
    "    eval_precision = eval_utils.precision_at_k(this_test_df, topk_scores32, k=10)\n",
    "    hci_precision_scores.append(eval_precision)\n",
    "    \n",
    "    print(\"NDCG: {} \\t Precision: {}\".format(eval_ndcg32, eval_precision)) \n",
    "\n",
    "    \n",
    "    "
   ]
  },
  {
   "cell_type": "code",
   "execution_count": 104,
   "id": "31f6e8f6-49e3-4aee-9ceb-c25c37aea6ba",
   "metadata": {},
   "outputs": [
    {
     "data": {
      "text/plain": [
       "[0.31225359129495767,\n",
       " 0.3180401912935691,\n",
       " 0.32930589957119144,\n",
       " 0.32423005188183257,\n",
       " 0.3271192875991842]"
      ]
     },
     "execution_count": 104,
     "metadata": {},
     "output_type": "execute_result"
    }
   ],
   "source": [
    "hci_ndcg_scores"
   ]
  },
  {
   "cell_type": "code",
   "execution_count": 105,
   "id": "4151706f-5075-44ca-83ec-9dcaac66cf46",
   "metadata": {},
   "outputs": [
    {
     "data": {
      "text/plain": [
       "[0.23325688073394496,\n",
       " 0.2409403669724771,\n",
       " 0.24678899082568806,\n",
       " 0.24392201834862387,\n",
       " 0.24357798165137617]"
      ]
     },
     "execution_count": 105,
     "metadata": {},
     "output_type": "execute_result"
    }
   ],
   "source": [
    "hci_precision_scores"
   ]
  },
  {
   "cell_type": "code",
   "execution_count": null,
   "id": "ac5e5313-5c31-4b56-a7cd-e8bcaa48dda3",
   "metadata": {},
   "outputs": [],
   "source": []
  }
 ],
 "metadata": {
  "kernelspec": {
   "display_name": "Python 3 (ipykernel)",
   "language": "python",
   "name": "python3"
  },
  "language_info": {
   "codemirror_mode": {
    "name": "ipython",
    "version": 3
   },
   "file_extension": ".py",
   "mimetype": "text/x-python",
   "name": "python",
   "nbconvert_exporter": "python",
   "pygments_lexer": "ipython3",
   "version": "3.10.8"
  }
 },
 "nbformat": 4,
 "nbformat_minor": 5
}

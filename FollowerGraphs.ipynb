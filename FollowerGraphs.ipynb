{
 "cells": [
  {
   "cell_type": "markdown",
   "id": "69c46562-e244-49dd-a083-8928c7d8ac6f",
   "metadata": {},
   "source": [
    "# Followers Graphs\n",
    "\n",
    "The goal here is to construct a follower graph on Mastodon using the `GET /api/v1/directory HTTP/1.1` endpoint"
   ]
  },
  {
   "cell_type": "markdown",
   "id": "b8c77c35-eca0-4b50-bd9f-3b35f7d7ef64",
   "metadata": {},
   "source": [
    "## Setup"
   ]
  },
  {
   "cell_type": "code",
   "execution_count": 2,
   "id": "2f7d21db-f685-4389-b99b-572df9af9ef0",
   "metadata": {},
   "outputs": [],
   "source": [
    "import pandas as pd\n",
    "import requests as re\n",
    "import time\n",
    "import os\n",
    "import sqlite3\n",
    "import json\n",
    "import random\n",
    "from mastodon import Mastodon\n",
    "import networkx as nx"
   ]
  },
  {
   "cell_type": "markdown",
   "id": "81c4c3d8-ba94-419d-b536-3e059921b54f",
   "metadata": {},
   "source": [
    "### Pandas Set up"
   ]
  },
  {
   "cell_type": "code",
   "execution_count": null,
   "id": "6872b93d-1a42-4ff9-8f86-115124d70225",
   "metadata": {},
   "outputs": [],
   "source": [
    "# pandas options\n",
    "pd.set_option('display.max_columns', None)\n",
    "pd.options.mode.chained_assignment = None  # default='warn'"
   ]
  },
  {
   "cell_type": "markdown",
   "id": "3c6044b5-3ef6-4ed9-9a23-1fe5c8744d97",
   "metadata": {},
   "source": [
    "## Check how the followers thing is working\n",
    "\n",
    "According to https://docs.joinmastodon.org/methods/directory/\n",
    "\n",
    "The `GET /api/v1/directory HTTP/1.1` endpoint returns \"A directory of profiles that your website is aware of.\"\n",
    "\n",
    "I think this is exactly what we would want!\n",
    "\n"
   ]
  },
  {
   "cell_type": "code",
   "execution_count": 33,
   "id": "73647d63-dc05-4d8d-9d6d-f1c2fdfcb7a4",
   "metadata": {
    "tags": []
   },
   "outputs": [],
   "source": [
    "offset = 80"
   ]
  },
  {
   "cell_type": "code",
   "execution_count": 34,
   "id": "b892ec46-3655-40be-abfb-aaf0d81f3370",
   "metadata": {
    "tags": []
   },
   "outputs": [],
   "source": [
    "req_stem = \"https://hci.social/api/v1/directory?limit=80&local=true&order=new&offset={offset}\"\n",
    "req_query = req_stem.format(offset=offset)\n",
    "r = re.get(req_query)\n",
    "\n",
    "\n",
    "try:\n",
    "    profiles = r.json()\n",
    "except Exception as e:\n",
    "    print(e, offset)"
   ]
  },
  {
   "cell_type": "code",
   "execution_count": 35,
   "id": "3e742efd-44b3-4a07-b0e6-f2995c07b766",
   "metadata": {
    "tags": []
   },
   "outputs": [
    {
     "name": "stdout",
     "output_type": "stream",
     "text": [
      "{'id': '109467428920172086', 'username': 'AKWILL', 'acct': 'AKWILL', 'display_name': 'Alicia', 'locked': False, 'bot': False, 'discoverable': True, 'group': False, 'created_at': '2022-12-06T00:00:00.000Z', 'note': '<p>PhD Candidate at UMSI studying mental health informatics, health equity, and UX practices. RPCV, knitter, lizard/cat mom, she/they. Probably proud of you 🌈💅🥳</p>', 'url': 'https://hci.social/@AKWILL', 'uri': 'https://hci.social/users/AKWILL', 'avatar': 'https://hci.social/avatars/original/missing.png', 'avatar_static': 'https://hci.social/avatars/original/missing.png', 'header': 'https://hci.social/headers/original/missing.png', 'header_static': 'https://hci.social/headers/original/missing.png', 'followers_count': 2, 'following_count': 5, 'statuses_count': 0, 'last_status_at': None, 'noindex': False, 'emojis': [], 'roles': [], 'fields': []}\n"
     ]
    }
   ],
   "source": [
    "print(profiles[0])"
   ]
  },
  {
   "cell_type": "code",
   "execution_count": 36,
   "id": "71fc300c-f1a2-44ed-8e16-717c242ab9e9",
   "metadata": {
    "tags": []
   },
   "outputs": [
    {
     "data": {
      "text/plain": [
       "80"
      ]
     },
     "execution_count": 36,
     "metadata": {},
     "output_type": "execute_result"
    }
   ],
   "source": [
    "len(profiles)"
   ]
  },
  {
   "cell_type": "code",
   "execution_count": null,
   "id": "4b3f8248-d3db-478d-88b6-fbd34e8a5168",
   "metadata": {},
   "outputs": [],
   "source": []
  },
  {
   "cell_type": "code",
   "execution_count": null,
   "id": "dbfb54f8-6d95-4158-b9b0-ef759505b995",
   "metadata": {},
   "outputs": [],
   "source": []
  },
  {
   "cell_type": "markdown",
   "id": "86d67ca0-d4b8-456e-b05f-7df639e4e71f",
   "metadata": {},
   "source": [
    "### Some helper functions"
   ]
  },
  {
   "cell_type": "code",
   "execution_count": 62,
   "id": "679b40c2-37f4-4d94-bb5d-b340e1b736c1",
   "metadata": {
    "tags": []
   },
   "outputs": [],
   "source": [
    "def select_relevant_fields(iterable): \n",
    "    \"\"\"\n",
    "    Just a map to pull certain things out of the json\n",
    "    \n",
    "    \"\"\"\n",
    "    smaller_json = list(map(lambda x: \n",
    "                            dict(\n",
    "                                id=x[\"id\"],\n",
    "                                acct=x[\"acct\"],\n",
    "                                url=x[\"url\"], # so we can tell which server!\n",
    "                                created_at=x[\"created_at\"],\n",
    "                                followers_count=x[\"followers_count\"],\n",
    "                                following_count=x[\"following_count\"],\n",
    "                                statuses_count=x[\"statuses_count\"],\n",
    "                                last_status_at=x[\"last_status_at\"]\n",
    "                            ), \n",
    "                            iterable\n",
    "                           )\n",
    "                       )\n",
    "    \n",
    "    # add the server\n",
    "    new_list = []\n",
    "    for a_dict in smaller_json:\n",
    "        # add the server name\n",
    "        \n",
    "        # need both because there are different urls for local versus not\n",
    "        a_dict[\"instance\"] = a_dict[\"url\"].split(\"@\")[0].split(\"/users/\")[0]\n",
    "        \n",
    "        new_list.append(a_dict)\n",
    "   \n",
    "    return new_list"
   ]
  },
  {
   "cell_type": "code",
   "execution_count": 63,
   "id": "07f7c34b-7383-4350-8cbb-b2b2237b134e",
   "metadata": {
    "tags": []
   },
   "outputs": [
    {
     "data": {
      "text/html": [
       "<div>\n",
       "<style scoped>\n",
       "    .dataframe tbody tr th:only-of-type {\n",
       "        vertical-align: middle;\n",
       "    }\n",
       "\n",
       "    .dataframe tbody tr th {\n",
       "        vertical-align: top;\n",
       "    }\n",
       "\n",
       "    .dataframe thead th {\n",
       "        text-align: right;\n",
       "    }\n",
       "</style>\n",
       "<table border=\"1\" class=\"dataframe\">\n",
       "  <thead>\n",
       "    <tr style=\"text-align: right;\">\n",
       "      <th></th>\n",
       "      <th>id</th>\n",
       "      <th>acct</th>\n",
       "      <th>url</th>\n",
       "      <th>created_at</th>\n",
       "      <th>followers_count</th>\n",
       "      <th>following_count</th>\n",
       "      <th>statuses_count</th>\n",
       "      <th>last_status_at</th>\n",
       "      <th>instance</th>\n",
       "    </tr>\n",
       "  </thead>\n",
       "  <tbody>\n",
       "    <tr>\n",
       "      <th>0</th>\n",
       "      <td>109467428920172086</td>\n",
       "      <td>AKWILL</td>\n",
       "      <td>https://hci.social/@AKWILL</td>\n",
       "      <td>2022-12-06T00:00:00.000Z</td>\n",
       "      <td>2</td>\n",
       "      <td>5</td>\n",
       "      <td>0</td>\n",
       "      <td>None</td>\n",
       "      <td>https://hci.social/</td>\n",
       "    </tr>\n",
       "    <tr>\n",
       "      <th>1</th>\n",
       "      <td>109467229458219426</td>\n",
       "      <td>chiplay</td>\n",
       "      <td>https://hci.social/@chiplay</td>\n",
       "      <td>2022-12-06T00:00:00.000Z</td>\n",
       "      <td>92</td>\n",
       "      <td>9</td>\n",
       "      <td>39</td>\n",
       "      <td>2023-10-13</td>\n",
       "      <td>https://hci.social/</td>\n",
       "    </tr>\n",
       "    <tr>\n",
       "      <th>2</th>\n",
       "      <td>109464463797526434</td>\n",
       "      <td>robotnik</td>\n",
       "      <td>https://hci.social/@robotnik</td>\n",
       "      <td>2022-12-06T00:00:00.000Z</td>\n",
       "      <td>0</td>\n",
       "      <td>6</td>\n",
       "      <td>0</td>\n",
       "      <td>None</td>\n",
       "      <td>https://hci.social/</td>\n",
       "    </tr>\n",
       "    <tr>\n",
       "      <th>3</th>\n",
       "      <td>109463158338968179</td>\n",
       "      <td>labinthewild</td>\n",
       "      <td>https://hci.social/@labinthewild</td>\n",
       "      <td>2022-12-05T00:00:00.000Z</td>\n",
       "      <td>43</td>\n",
       "      <td>47</td>\n",
       "      <td>2</td>\n",
       "      <td>2023-02-09</td>\n",
       "      <td>https://hci.social/</td>\n",
       "    </tr>\n",
       "    <tr>\n",
       "      <th>4</th>\n",
       "      <td>109459389416719117</td>\n",
       "      <td>DianaF</td>\n",
       "      <td>https://hci.social/@DianaF</td>\n",
       "      <td>2022-12-05T00:00:00.000Z</td>\n",
       "      <td>20</td>\n",
       "      <td>72</td>\n",
       "      <td>1</td>\n",
       "      <td>2022-12-18</td>\n",
       "      <td>https://hci.social/</td>\n",
       "    </tr>\n",
       "    <tr>\n",
       "      <th>...</th>\n",
       "      <td>...</td>\n",
       "      <td>...</td>\n",
       "      <td>...</td>\n",
       "      <td>...</td>\n",
       "      <td>...</td>\n",
       "      <td>...</td>\n",
       "      <td>...</td>\n",
       "      <td>...</td>\n",
       "      <td>...</td>\n",
       "    </tr>\n",
       "    <tr>\n",
       "      <th>75</th>\n",
       "      <td>109367202126424699</td>\n",
       "      <td>DrSanchariDas</td>\n",
       "      <td>https://hci.social/@DrSanchariDas</td>\n",
       "      <td>2022-11-18T00:00:00.000Z</td>\n",
       "      <td>22</td>\n",
       "      <td>60</td>\n",
       "      <td>0</td>\n",
       "      <td>None</td>\n",
       "      <td>https://hci.social/</td>\n",
       "    </tr>\n",
       "    <tr>\n",
       "      <th>76</th>\n",
       "      <td>109367007675028391</td>\n",
       "      <td>wendyboucher</td>\n",
       "      <td>https://hci.social/@wendyboucher</td>\n",
       "      <td>2022-11-18T00:00:00.000Z</td>\n",
       "      <td>0</td>\n",
       "      <td>2</td>\n",
       "      <td>0</td>\n",
       "      <td>None</td>\n",
       "      <td>https://hci.social/</td>\n",
       "    </tr>\n",
       "    <tr>\n",
       "      <th>77</th>\n",
       "      <td>109366795394162940</td>\n",
       "      <td>arne</td>\n",
       "      <td>https://hci.social/@arne</td>\n",
       "      <td>2022-11-18T00:00:00.000Z</td>\n",
       "      <td>183</td>\n",
       "      <td>285</td>\n",
       "      <td>1</td>\n",
       "      <td>2022-12-20</td>\n",
       "      <td>https://hci.social/</td>\n",
       "    </tr>\n",
       "    <tr>\n",
       "      <th>78</th>\n",
       "      <td>109366768853363849</td>\n",
       "      <td>raydahl</td>\n",
       "      <td>https://hci.social/@raydahl</td>\n",
       "      <td>2022-11-18T00:00:00.000Z</td>\n",
       "      <td>210</td>\n",
       "      <td>322</td>\n",
       "      <td>256</td>\n",
       "      <td>2023-09-29</td>\n",
       "      <td>https://hci.social/</td>\n",
       "    </tr>\n",
       "    <tr>\n",
       "      <th>79</th>\n",
       "      <td>109366689489304275</td>\n",
       "      <td>volker</td>\n",
       "      <td>https://hci.social/@volker</td>\n",
       "      <td>2022-11-18T00:00:00.000Z</td>\n",
       "      <td>44</td>\n",
       "      <td>66</td>\n",
       "      <td>54</td>\n",
       "      <td>2023-11-10</td>\n",
       "      <td>https://hci.social/</td>\n",
       "    </tr>\n",
       "  </tbody>\n",
       "</table>\n",
       "<p>80 rows × 9 columns</p>\n",
       "</div>"
      ],
      "text/plain": [
       "                    id           acct                                url  \\\n",
       "0   109467428920172086         AKWILL         https://hci.social/@AKWILL   \n",
       "1   109467229458219426        chiplay        https://hci.social/@chiplay   \n",
       "2   109464463797526434       robotnik       https://hci.social/@robotnik   \n",
       "3   109463158338968179   labinthewild   https://hci.social/@labinthewild   \n",
       "4   109459389416719117         DianaF         https://hci.social/@DianaF   \n",
       "..                 ...            ...                                ...   \n",
       "75  109367202126424699  DrSanchariDas  https://hci.social/@DrSanchariDas   \n",
       "76  109367007675028391   wendyboucher   https://hci.social/@wendyboucher   \n",
       "77  109366795394162940           arne           https://hci.social/@arne   \n",
       "78  109366768853363849        raydahl        https://hci.social/@raydahl   \n",
       "79  109366689489304275         volker         https://hci.social/@volker   \n",
       "\n",
       "                  created_at  followers_count  following_count  \\\n",
       "0   2022-12-06T00:00:00.000Z                2                5   \n",
       "1   2022-12-06T00:00:00.000Z               92                9   \n",
       "2   2022-12-06T00:00:00.000Z                0                6   \n",
       "3   2022-12-05T00:00:00.000Z               43               47   \n",
       "4   2022-12-05T00:00:00.000Z               20               72   \n",
       "..                       ...              ...              ...   \n",
       "75  2022-11-18T00:00:00.000Z               22               60   \n",
       "76  2022-11-18T00:00:00.000Z                0                2   \n",
       "77  2022-11-18T00:00:00.000Z              183              285   \n",
       "78  2022-11-18T00:00:00.000Z              210              322   \n",
       "79  2022-11-18T00:00:00.000Z               44               66   \n",
       "\n",
       "    statuses_count last_status_at             instance  \n",
       "0                0           None  https://hci.social/  \n",
       "1               39     2023-10-13  https://hci.social/  \n",
       "2                0           None  https://hci.social/  \n",
       "3                2     2023-02-09  https://hci.social/  \n",
       "4                1     2022-12-18  https://hci.social/  \n",
       "..             ...            ...                  ...  \n",
       "75               0           None  https://hci.social/  \n",
       "76               0           None  https://hci.social/  \n",
       "77               1     2022-12-20  https://hci.social/  \n",
       "78             256     2023-09-29  https://hci.social/  \n",
       "79              54     2023-11-10  https://hci.social/  \n",
       "\n",
       "[80 rows x 9 columns]"
      ]
     },
     "execution_count": 63,
     "metadata": {},
     "output_type": "execute_result"
    }
   ],
   "source": [
    "pd.DataFrame(select_relevant_fields(profiles))"
   ]
  },
  {
   "cell_type": "code",
   "execution_count": null,
   "id": "a38e7d65-ca6a-48ca-bced-dcd670a50e13",
   "metadata": {},
   "outputs": [],
   "source": []
  },
  {
   "cell_type": "code",
   "execution_count": 58,
   "id": "ed470e66-5646-4513-ac9c-fbb4210cf105",
   "metadata": {
    "tags": []
   },
   "outputs": [
    {
     "data": {
      "text/plain": [
       "'https://bird.makeup'"
      ]
     },
     "execution_count": 58,
     "metadata": {},
     "output_type": "execute_result"
    }
   ],
   "source": [
    "\"https://bird.makeup/users/thelancetph\".split(\"/users/\")[0]"
   ]
  },
  {
   "cell_type": "code",
   "execution_count": 59,
   "id": "e512b7cf-4650-4b4e-9fd8-8ca71b2e851f",
   "metadata": {
    "tags": []
   },
   "outputs": [
    {
     "data": {
      "text/plain": [
       "'https://bird.makeup'"
      ]
     },
     "execution_count": 59,
     "metadata": {},
     "output_type": "execute_result"
    }
   ],
   "source": [
    "\"https://bird.makeup/users/thelancetph\".split(\"@\")[0].split(\"/users/\")[0]"
   ]
  },
  {
   "cell_type": "code",
   "execution_count": null,
   "id": "76a23952-f142-4bf7-964f-1a1ba43b5df0",
   "metadata": {},
   "outputs": [],
   "source": []
  },
  {
   "cell_type": "markdown",
   "id": "2f6cf83a-c6b2-4d69-8f2b-feec53054504",
   "metadata": {},
   "source": [
    "## Do it again!"
   ]
  },
  {
   "cell_type": "code",
   "execution_count": 64,
   "id": "73878deb-9124-403c-9852-72f87a283f42",
   "metadata": {
    "tags": []
   },
   "outputs": [],
   "source": [
    "def pull_profiles(file_path=\"data/profiles/\", local_only=True, offset=0, stride=80, write=True):\n",
    "    \"\"\"\n",
    "    \n",
    "    \"\"\"\n",
    "    profiles_df = pd.DataFrame()\n",
    "    chunk_df = pd.DataFrame()\n",
    "\n",
    "    req_stem = \"https://hci.social/api/v1/directory?limit=80&local={local_only}&order=new&offset={offset}\"\n",
    "    req_query = req_stem.format(offset=offset, local_only=\"true\" if local_only else \"false\")\n",
    "    r = re.get(req_query)\n",
    "\n",
    "    try:\n",
    "        profiles = r.json()\n",
    "    except Exception as e:\n",
    "        print(e, offset)\n",
    "\n",
    "    ii = 0\n",
    "\n",
    "    while len(profiles) > 0:\n",
    "        # keep going until you run out!\n",
    "\n",
    "        this_profiles_chunk = pd.DataFrame(select_relevant_fields(profiles))\n",
    "\n",
    "        # TODO: Don't concat these because we don't want huge CSVs! \n",
    "        # the newest thing is at the top, so concat old to the new\n",
    "        profiles_df = pd.concat([this_profiles_chunk, profiles_df], axis=0)\n",
    "\n",
    "        # Dataframe for 10 interations\n",
    "        chunk_df = pd.concat([this_profiles_chunk, chunk_df], axis=0)\n",
    "\n",
    "        # find out your new min_id\n",
    "        most_recent_created_time = this_profiles_chunk[\"created_at\"].max()\n",
    "\n",
    "        if (ii + 1) % 10 == 0:\n",
    "            print(\"caching results\") \n",
    "            if write:\n",
    "                chunk_df.to_csv(file_path + \"{}_profile_chunk_{}.csv\".format(\"local\" if local_only else \"global\", ii), index=False)\n",
    "            chunk_df = pd.DataFrame()\n",
    "\n",
    "        ii += 1\n",
    "        offset += stride\n",
    "\n",
    "        print(\"I am so proud of you, the last profile was created at {}\".format(most_recent_created_time))\n",
    "\n",
    "        # don't get booted off the API\n",
    "        time.sleep(1)\n",
    "\n",
    "        # make another call\n",
    "        req_query = req_stem.format(offset=offset, local_only=\"true\" if local_only else \"false\")\n",
    "        r = re.get(req_query)\n",
    "\n",
    "        try:\n",
    "            profiles = r.json()\n",
    "        except Exception as e:\n",
    "            print(e, offset)\n",
    "\n",
    "\n",
    "    print(\"DONE! You did so good!!\")\n",
    "            \n",
    "    if write:\n",
    "        profiles_df.to_csv(file_path + \"hci_social_profiles_{}.csv\".format(\"local\" if local_only else \"global\"), index=False)\n",
    "    \n",
    "    return profiles_df\n"
   ]
  },
  {
   "cell_type": "code",
   "execution_count": 53,
   "id": "c4b1fed8-df68-42b0-86aa-5696d689e260",
   "metadata": {
    "tags": []
   },
   "outputs": [
    {
     "name": "stdout",
     "output_type": "stream",
     "text": [
      "I am so proud of you, the last profile was created at 2023-11-09T00:00:00.000Z\n",
      "I am so proud of you, the last profile was created at 2022-12-06T00:00:00.000Z\n",
      "I am so proud of you, the last profile was created at 2022-11-18T00:00:00.000Z\n",
      "I am so proud of you, the last profile was created at 2022-11-11T00:00:00.000Z\n",
      "I am so proud of you, the last profile was created at 2022-11-07T00:00:00.000Z\n",
      "I am so proud of you, the last profile was created at 2022-11-04T00:00:00.000Z\n",
      "I am so proud of you, the last profile was created at 2022-10-31T00:00:00.000Z\n",
      "I am so proud of you, the last profile was created at 2022-10-27T00:00:00.000Z\n",
      "I am so proud of you, the last profile was created at 2022-05-12T00:00:00.000Z\n",
      "DONE! You did so good!!\n"
     ]
    }
   ],
   "source": [
    "local_profiles = pull_profiles(local_only=True)"
   ]
  },
  {
   "cell_type": "code",
   "execution_count": null,
   "id": "384c3ded-5d5e-4332-9c48-d7873618290e",
   "metadata": {},
   "outputs": [],
   "source": []
  },
  {
   "cell_type": "code",
   "execution_count": 65,
   "id": "12946201-313e-44ac-8bcf-0a58a9c5abf3",
   "metadata": {
    "tags": []
   },
   "outputs": [
    {
     "name": "stdout",
     "output_type": "stream",
     "text": [
      "I am so proud of you, the last profile was created at 2023-11-15T00:00:00.000Z\n",
      "I am so proud of you, the last profile was created at 2023-11-15T00:00:00.000Z\n",
      "I am so proud of you, the last profile was created at 2023-11-14T00:00:00.000Z\n",
      "I am so proud of you, the last profile was created at 2023-11-14T00:00:00.000Z\n",
      "I am so proud of you, the last profile was created at 2023-11-14T00:00:00.000Z\n",
      "I am so proud of you, the last profile was created at 2023-11-14T00:00:00.000Z\n",
      "I am so proud of you, the last profile was created at 2023-11-13T00:00:00.000Z\n",
      "I am so proud of you, the last profile was created at 2023-11-13T00:00:00.000Z\n",
      "I am so proud of you, the last profile was created at 2023-11-12T00:00:00.000Z\n",
      "caching results\n",
      "I am so proud of you, the last profile was created at 2023-11-12T00:00:00.000Z\n",
      "I am so proud of you, the last profile was created at 2023-11-12T00:00:00.000Z\n",
      "I am so proud of you, the last profile was created at 2023-11-11T00:00:00.000Z\n",
      "I am so proud of you, the last profile was created at 2023-11-11T00:00:00.000Z\n",
      "I am so proud of you, the last profile was created at 2023-11-10T00:00:00.000Z\n",
      "I am so proud of you, the last profile was created at 2023-11-10T00:00:00.000Z\n",
      "I am so proud of you, the last profile was created at 2023-11-09T00:00:00.000Z\n",
      "I am so proud of you, the last profile was created at 2023-11-09T00:00:00.000Z\n",
      "I am so proud of you, the last profile was created at 2023-11-09T00:00:00.000Z\n",
      "I am so proud of you, the last profile was created at 2023-11-08T00:00:00.000Z\n",
      "caching results\n",
      "I am so proud of you, the last profile was created at 2023-11-08T00:00:00.000Z\n",
      "I am so proud of you, the last profile was created at 2023-11-08T00:00:00.000Z\n",
      "I am so proud of you, the last profile was created at 2023-11-07T00:00:00.000Z\n",
      "I am so proud of you, the last profile was created at 2023-11-07T00:00:00.000Z\n",
      "I am so proud of you, the last profile was created at 2023-11-07T00:00:00.000Z\n",
      "I am so proud of you, the last profile was created at 2023-11-06T00:00:00.000Z\n",
      "I am so proud of you, the last profile was created at 2023-11-06T00:00:00.000Z\n",
      "I am so proud of you, the last profile was created at 2023-11-05T00:00:00.000Z\n",
      "I am so proud of you, the last profile was created at 2023-11-05T00:00:00.000Z\n",
      "I am so proud of you, the last profile was created at 2023-11-05T00:00:00.000Z\n",
      "caching results\n",
      "I am so proud of you, the last profile was created at 2023-11-04T00:00:00.000Z\n",
      "I am so proud of you, the last profile was created at 2023-11-04T00:00:00.000Z\n",
      "I am so proud of you, the last profile was created at 2023-11-03T00:00:00.000Z\n",
      "I am so proud of you, the last profile was created at 2023-11-03T00:00:00.000Z\n",
      "I am so proud of you, the last profile was created at 2023-11-03T00:00:00.000Z\n",
      "I am so proud of you, the last profile was created at 2023-11-02T00:00:00.000Z\n",
      "I am so proud of you, the last profile was created at 2023-11-02T00:00:00.000Z\n",
      "I am so proud of you, the last profile was created at 2023-11-02T00:00:00.000Z\n",
      "I am so proud of you, the last profile was created at 2023-11-01T00:00:00.000Z\n",
      "I am so proud of you, the last profile was created at 2023-11-01T00:00:00.000Z\n",
      "caching results\n",
      "I am so proud of you, the last profile was created at 2023-11-01T00:00:00.000Z\n",
      "I am so proud of you, the last profile was created at 2023-11-01T00:00:00.000Z\n",
      "I am so proud of you, the last profile was created at 2023-10-31T00:00:00.000Z\n",
      "I am so proud of you, the last profile was created at 2023-10-31T00:00:00.000Z\n",
      "I am so proud of you, the last profile was created at 2023-10-31T00:00:00.000Z\n",
      "I am so proud of you, the last profile was created at 2023-10-30T00:00:00.000Z\n",
      "I am so proud of you, the last profile was created at 2023-10-30T00:00:00.000Z\n",
      "I am so proud of you, the last profile was created at 2023-10-30T00:00:00.000Z\n",
      "I am so proud of you, the last profile was created at 2023-10-29T00:00:00.000Z\n",
      "I am so proud of you, the last profile was created at 2023-10-29T00:00:00.000Z\n",
      "caching results\n",
      "I am so proud of you, the last profile was created at 2023-10-28T00:00:00.000Z\n",
      "I am so proud of you, the last profile was created at 2023-10-28T00:00:00.000Z\n",
      "I am so proud of you, the last profile was created at 2023-10-28T00:00:00.000Z\n",
      "I am so proud of you, the last profile was created at 2023-10-27T00:00:00.000Z\n",
      "I am so proud of you, the last profile was created at 2023-10-27T00:00:00.000Z\n",
      "I am so proud of you, the last profile was created at 2023-10-27T00:00:00.000Z\n",
      "I am so proud of you, the last profile was created at 2023-10-26T00:00:00.000Z\n",
      "I am so proud of you, the last profile was created at 2023-10-26T00:00:00.000Z\n",
      "I am so proud of you, the last profile was created at 2023-10-26T00:00:00.000Z\n",
      "I am so proud of you, the last profile was created at 2023-10-26T00:00:00.000Z\n",
      "caching results\n",
      "I am so proud of you, the last profile was created at 2023-10-25T00:00:00.000Z\n",
      "I am so proud of you, the last profile was created at 2023-10-25T00:00:00.000Z\n",
      "I am so proud of you, the last profile was created at 2023-10-25T00:00:00.000Z\n",
      "I am so proud of you, the last profile was created at 2023-10-24T00:00:00.000Z\n",
      "I am so proud of you, the last profile was created at 2023-10-24T00:00:00.000Z\n",
      "I am so proud of you, the last profile was created at 2023-10-24T00:00:00.000Z\n",
      "I am so proud of you, the last profile was created at 2023-10-24T00:00:00.000Z\n",
      "I am so proud of you, the last profile was created at 2023-10-23T00:00:00.000Z\n",
      "I am so proud of you, the last profile was created at 2023-10-23T00:00:00.000Z\n",
      "I am so proud of you, the last profile was created at 2023-10-23T00:00:00.000Z\n",
      "caching results\n",
      "I am so proud of you, the last profile was created at 2023-10-22T00:00:00.000Z\n",
      "I am so proud of you, the last profile was created at 2023-10-22T00:00:00.000Z\n",
      "I am so proud of you, the last profile was created at 2023-10-22T00:00:00.000Z\n",
      "I am so proud of you, the last profile was created at 2023-10-21T00:00:00.000Z\n",
      "I am so proud of you, the last profile was created at 2023-10-22T00:00:00.000Z\n",
      "I am so proud of you, the last profile was created at 2023-10-21T00:00:00.000Z\n",
      "I am so proud of you, the last profile was created at 2023-10-20T00:00:00.000Z\n",
      "I am so proud of you, the last profile was created at 2023-10-20T00:00:00.000Z\n",
      "I am so proud of you, the last profile was created at 2023-10-20T00:00:00.000Z\n",
      "I am so proud of you, the last profile was created at 2023-10-20T00:00:00.000Z\n",
      "caching results\n",
      "I am so proud of you, the last profile was created at 2023-10-20T00:00:00.000Z\n",
      "I am so proud of you, the last profile was created at 2023-10-20T00:00:00.000Z\n",
      "I am so proud of you, the last profile was created at 2023-10-19T00:00:00.000Z\n",
      "I am so proud of you, the last profile was created at 2023-10-19T00:00:00.000Z\n",
      "I am so proud of you, the last profile was created at 2023-10-19T00:00:00.000Z\n",
      "I am so proud of you, the last profile was created at 2023-10-19T00:00:00.000Z\n",
      "I am so proud of you, the last profile was created at 2023-10-19T00:00:00.000Z\n",
      "I am so proud of you, the last profile was created at 2023-10-18T00:00:00.000Z\n",
      "I am so proud of you, the last profile was created at 2023-10-17T00:00:00.000Z\n",
      "I am so proud of you, the last profile was created at 2023-10-17T00:00:00.000Z\n",
      "caching results\n",
      "I am so proud of you, the last profile was created at 2023-10-16T00:00:00.000Z\n",
      "I am so proud of you, the last profile was created at 2023-10-16T00:00:00.000Z\n",
      "I am so proud of you, the last profile was created at 2023-10-15T00:00:00.000Z\n",
      "I am so proud of you, the last profile was created at 2023-10-15T00:00:00.000Z\n",
      "I am so proud of you, the last profile was created at 2023-10-14T00:00:00.000Z\n",
      "I am so proud of you, the last profile was created at 2023-10-14T00:00:00.000Z\n",
      "I am so proud of you, the last profile was created at 2023-10-14T00:00:00.000Z\n",
      "I am so proud of you, the last profile was created at 2023-10-13T00:00:00.000Z\n",
      "I am so proud of you, the last profile was created at 2023-10-13T00:00:00.000Z\n",
      "I am so proud of you, the last profile was created at 2023-10-13T00:00:00.000Z\n",
      "caching results\n",
      "I am so proud of you, the last profile was created at 2023-10-12T00:00:00.000Z\n",
      "I am so proud of you, the last profile was created at 2023-10-12T00:00:00.000Z\n",
      "I am so proud of you, the last profile was created at 2023-10-12T00:00:00.000Z\n",
      "I am so proud of you, the last profile was created at 2023-10-21T00:00:00.000Z\n",
      "I am so proud of you, the last profile was created at 2023-10-11T00:00:00.000Z\n",
      "I am so proud of you, the last profile was created at 2023-10-11T00:00:00.000Z\n",
      "I am so proud of you, the last profile was created at 2023-10-11T00:00:00.000Z\n",
      "I am so proud of you, the last profile was created at 2023-10-10T00:00:00.000Z\n",
      "I am so proud of you, the last profile was created at 2023-10-10T00:00:00.000Z\n",
      "I am so proud of you, the last profile was created at 2023-10-10T00:00:00.000Z\n",
      "caching results\n",
      "I am so proud of you, the last profile was created at 2023-10-10T00:00:00.000Z\n",
      "I am so proud of you, the last profile was created at 2023-10-09T00:00:00.000Z\n",
      "I am so proud of you, the last profile was created at 2023-10-09T00:00:00.000Z\n",
      "I am so proud of you, the last profile was created at 2023-10-09T00:00:00.000Z\n",
      "I am so proud of you, the last profile was created at 2023-10-09T00:00:00.000Z\n",
      "I am so proud of you, the last profile was created at 2023-10-08T00:00:00.000Z\n",
      "I am so proud of you, the last profile was created at 2023-10-08T00:00:00.000Z\n",
      "I am so proud of you, the last profile was created at 2023-10-07T00:00:00.000Z\n",
      "I am so proud of you, the last profile was created at 2023-10-07T00:00:00.000Z\n",
      "I am so proud of you, the last profile was created at 2023-10-07T00:00:00.000Z\n",
      "caching results\n",
      "I am so proud of you, the last profile was created at 2023-10-07T00:00:00.000Z\n",
      "I am so proud of you, the last profile was created at 2023-10-06T00:00:00.000Z\n",
      "I am so proud of you, the last profile was created at 2023-10-06T00:00:00.000Z\n",
      "I am so proud of you, the last profile was created at 2023-10-06T00:00:00.000Z\n",
      "I am so proud of you, the last profile was created at 2023-10-05T00:00:00.000Z\n",
      "I am so proud of you, the last profile was created at 2023-10-05T00:00:00.000Z\n",
      "I am so proud of you, the last profile was created at 2023-10-05T00:00:00.000Z\n",
      "I am so proud of you, the last profile was created at 2023-10-16T00:00:00.000Z\n",
      "I am so proud of you, the last profile was created at 2023-10-04T00:00:00.000Z\n",
      "I am so proud of you, the last profile was created at 2023-10-04T00:00:00.000Z\n",
      "caching results\n",
      "I am so proud of you, the last profile was created at 2023-10-04T00:00:00.000Z\n",
      "I am so proud of you, the last profile was created at 2023-10-03T00:00:00.000Z\n",
      "I am so proud of you, the last profile was created at 2023-10-03T00:00:00.000Z\n",
      "I am so proud of you, the last profile was created at 2023-10-03T00:00:00.000Z\n",
      "I am so proud of you, the last profile was created at 2023-10-03T00:00:00.000Z\n",
      "I am so proud of you, the last profile was created at 2023-10-02T00:00:00.000Z\n",
      "I am so proud of you, the last profile was created at 2023-10-02T00:00:00.000Z\n",
      "I am so proud of you, the last profile was created at 2023-10-02T00:00:00.000Z\n",
      "I am so proud of you, the last profile was created at 2023-10-01T00:00:00.000Z\n",
      "I am so proud of you, the last profile was created at 2023-10-01T00:00:00.000Z\n",
      "caching results\n",
      "I am so proud of you, the last profile was created at 2023-10-01T00:00:00.000Z\n",
      "I am so proud of you, the last profile was created at 2023-09-30T00:00:00.000Z\n",
      "I am so proud of you, the last profile was created at 2023-09-30T00:00:00.000Z\n",
      "I am so proud of you, the last profile was created at 2023-09-30T00:00:00.000Z\n",
      "I am so proud of you, the last profile was created at 2023-09-30T00:00:00.000Z\n",
      "I am so proud of you, the last profile was created at 2023-09-30T00:00:00.000Z\n",
      "I am so proud of you, the last profile was created at 2023-09-29T00:00:00.000Z\n",
      "I am so proud of you, the last profile was created at 2023-09-29T00:00:00.000Z\n",
      "I am so proud of you, the last profile was created at 2023-09-29T00:00:00.000Z\n",
      "I am so proud of you, the last profile was created at 2023-09-29T00:00:00.000Z\n",
      "caching results\n",
      "I am so proud of you, the last profile was created at 2023-09-29T00:00:00.000Z\n",
      "I am so proud of you, the last profile was created at 2023-09-28T00:00:00.000Z\n",
      "I am so proud of you, the last profile was created at 2023-09-28T00:00:00.000Z\n",
      "I am so proud of you, the last profile was created at 2023-09-28T00:00:00.000Z\n",
      "I am so proud of you, the last profile was created at 2023-09-27T00:00:00.000Z\n",
      "I am so proud of you, the last profile was created at 2023-09-27T00:00:00.000Z\n",
      "I am so proud of you, the last profile was created at 2023-09-27T00:00:00.000Z\n",
      "I am so proud of you, the last profile was created at 2023-09-27T00:00:00.000Z\n",
      "I am so proud of you, the last profile was created at 2023-09-27T00:00:00.000Z\n",
      "I am so proud of you, the last profile was created at 2023-09-26T00:00:00.000Z\n",
      "caching results\n",
      "I am so proud of you, the last profile was created at 2023-09-26T00:00:00.000Z\n",
      "I am so proud of you, the last profile was created at 2023-09-26T00:00:00.000Z\n",
      "I am so proud of you, the last profile was created at 2023-09-25T00:00:00.000Z\n",
      "I am so proud of you, the last profile was created at 2023-09-25T00:00:00.000Z\n",
      "I am so proud of you, the last profile was created at 2023-09-25T00:00:00.000Z\n",
      "I am so proud of you, the last profile was created at 2023-09-24T00:00:00.000Z\n",
      "I am so proud of you, the last profile was created at 2023-09-24T00:00:00.000Z\n",
      "I am so proud of you, the last profile was created at 2023-09-24T00:00:00.000Z\n",
      "I am so proud of you, the last profile was created at 2023-09-23T00:00:00.000Z\n",
      "I am so proud of you, the last profile was created at 2023-09-23T00:00:00.000Z\n",
      "caching results\n",
      "I am so proud of you, the last profile was created at 2023-09-23T00:00:00.000Z\n",
      "I am so proud of you, the last profile was created at 2023-09-23T00:00:00.000Z\n",
      "I am so proud of you, the last profile was created at 2023-09-22T00:00:00.000Z\n",
      "I am so proud of you, the last profile was created at 2023-09-22T00:00:00.000Z\n",
      "I am so proud of you, the last profile was created at 2023-09-22T00:00:00.000Z\n",
      "I am so proud of you, the last profile was created at 2023-09-22T00:00:00.000Z\n",
      "I am so proud of you, the last profile was created at 2023-09-21T00:00:00.000Z\n",
      "I am so proud of you, the last profile was created at 2023-09-21T00:00:00.000Z\n",
      "I am so proud of you, the last profile was created at 2023-09-21T00:00:00.000Z\n",
      "I am so proud of you, the last profile was created at 2023-09-21T00:00:00.000Z\n",
      "caching results\n",
      "I am so proud of you, the last profile was created at 2023-09-21T00:00:00.000Z\n",
      "I am so proud of you, the last profile was created at 2023-09-20T00:00:00.000Z\n",
      "I am so proud of you, the last profile was created at 2023-09-20T00:00:00.000Z\n",
      "I am so proud of you, the last profile was created at 2023-09-20T00:00:00.000Z\n",
      "I am so proud of you, the last profile was created at 2023-09-19T00:00:00.000Z\n",
      "I am so proud of you, the last profile was created at 2023-10-13T00:00:00.000Z\n",
      "I am so proud of you, the last profile was created at 2023-09-19T00:00:00.000Z\n",
      "I am so proud of you, the last profile was created at 2023-09-19T00:00:00.000Z\n",
      "I am so proud of you, the last profile was created at 2023-09-19T00:00:00.000Z\n",
      "I am so proud of you, the last profile was created at 2023-09-19T00:00:00.000Z\n",
      "caching results\n",
      "I am so proud of you, the last profile was created at 2023-09-19T00:00:00.000Z\n",
      "I am so proud of you, the last profile was created at 2023-09-18T00:00:00.000Z\n",
      "I am so proud of you, the last profile was created at 2023-09-18T00:00:00.000Z\n",
      "I am so proud of you, the last profile was created at 2023-09-18T00:00:00.000Z\n",
      "I am so proud of you, the last profile was created at 2023-09-17T00:00:00.000Z\n",
      "I am so proud of you, the last profile was created at 2023-09-17T00:00:00.000Z\n",
      "I am so proud of you, the last profile was created at 2023-09-16T00:00:00.000Z\n",
      "I am so proud of you, the last profile was created at 2023-09-16T00:00:00.000Z\n",
      "I am so proud of you, the last profile was created at 2023-09-15T00:00:00.000Z\n",
      "I am so proud of you, the last profile was created at 2023-09-15T00:00:00.000Z\n",
      "caching results\n",
      "I am so proud of you, the last profile was created at 2023-09-15T00:00:00.000Z\n",
      "I am so proud of you, the last profile was created at 2023-09-15T00:00:00.000Z\n",
      "I am so proud of you, the last profile was created at 2023-09-14T00:00:00.000Z\n",
      "I am so proud of you, the last profile was created at 2023-09-14T00:00:00.000Z\n",
      "I am so proud of you, the last profile was created at 2023-09-14T00:00:00.000Z\n",
      "I am so proud of you, the last profile was created at 2023-09-14T00:00:00.000Z\n",
      "I am so proud of you, the last profile was created at 2023-09-13T00:00:00.000Z\n",
      "I am so proud of you, the last profile was created at 2023-09-13T00:00:00.000Z\n",
      "I am so proud of you, the last profile was created at 2023-09-13T00:00:00.000Z\n",
      "I am so proud of you, the last profile was created at 2023-09-12T00:00:00.000Z\n",
      "caching results\n",
      "I am so proud of you, the last profile was created at 2023-09-12T00:00:00.000Z\n",
      "I am so proud of you, the last profile was created at 2023-09-12T00:00:00.000Z\n",
      "I am so proud of you, the last profile was created at 2023-09-12T00:00:00.000Z\n",
      "I am so proud of you, the last profile was created at 2023-09-11T00:00:00.000Z\n",
      "I am so proud of you, the last profile was created at 2023-09-11T00:00:00.000Z\n",
      "I am so proud of you, the last profile was created at 2023-09-11T00:00:00.000Z\n",
      "I am so proud of you, the last profile was created at 2023-09-10T00:00:00.000Z\n",
      "I am so proud of you, the last profile was created at 2023-09-10T00:00:00.000Z\n",
      "I am so proud of you, the last profile was created at 2023-09-10T00:00:00.000Z\n",
      "I am so proud of you, the last profile was created at 2023-09-09T00:00:00.000Z\n",
      "caching results\n",
      "I am so proud of you, the last profile was created at 2023-09-09T00:00:00.000Z\n",
      "I am so proud of you, the last profile was created at 2023-09-09T00:00:00.000Z\n",
      "I am so proud of you, the last profile was created at 2023-09-09T00:00:00.000Z\n",
      "I am so proud of you, the last profile was created at 2023-09-08T00:00:00.000Z\n",
      "I am so proud of you, the last profile was created at 2023-09-08T00:00:00.000Z\n",
      "I am so proud of you, the last profile was created at 2023-09-08T00:00:00.000Z\n",
      "I am so proud of you, the last profile was created at 2023-09-07T00:00:00.000Z\n",
      "I am so proud of you, the last profile was created at 2023-09-07T00:00:00.000Z\n",
      "I am so proud of you, the last profile was created at 2023-09-06T00:00:00.000Z\n",
      "I am so proud of you, the last profile was created at 2023-09-06T00:00:00.000Z\n",
      "caching results\n",
      "I am so proud of you, the last profile was created at 2023-09-05T00:00:00.000Z\n",
      "I am so proud of you, the last profile was created at 2023-09-05T00:00:00.000Z\n",
      "I am so proud of you, the last profile was created at 2023-09-04T00:00:00.000Z\n",
      "I am so proud of you, the last profile was created at 2023-09-04T00:00:00.000Z\n",
      "I am so proud of you, the last profile was created at 2023-09-04T00:00:00.000Z\n",
      "I am so proud of you, the last profile was created at 2023-09-03T00:00:00.000Z\n",
      "I am so proud of you, the last profile was created at 2023-09-03T00:00:00.000Z\n",
      "I am so proud of you, the last profile was created at 2023-09-02T00:00:00.000Z\n",
      "I am so proud of you, the last profile was created at 2023-09-02T00:00:00.000Z\n",
      "I am so proud of you, the last profile was created at 2023-09-01T00:00:00.000Z\n",
      "caching results\n",
      "I am so proud of you, the last profile was created at 2023-09-01T00:00:00.000Z\n",
      "I am so proud of you, the last profile was created at 2023-08-31T00:00:00.000Z\n",
      "I am so proud of you, the last profile was created at 2023-08-31T00:00:00.000Z\n",
      "I am so proud of you, the last profile was created at 2023-08-31T00:00:00.000Z\n",
      "I am so proud of you, the last profile was created at 2023-08-30T00:00:00.000Z\n",
      "I am so proud of you, the last profile was created at 2023-08-30T00:00:00.000Z\n",
      "I am so proud of you, the last profile was created at 2023-08-29T00:00:00.000Z\n",
      "I am so proud of you, the last profile was created at 2023-08-29T00:00:00.000Z\n",
      "I am so proud of you, the last profile was created at 2023-08-29T00:00:00.000Z\n",
      "I am so proud of you, the last profile was created at 2023-08-28T00:00:00.000Z\n",
      "caching results\n",
      "I am so proud of you, the last profile was created at 2023-08-28T00:00:00.000Z\n",
      "I am so proud of you, the last profile was created at 2023-08-27T00:00:00.000Z\n",
      "I am so proud of you, the last profile was created at 2023-08-27T00:00:00.000Z\n",
      "I am so proud of you, the last profile was created at 2023-08-26T00:00:00.000Z\n",
      "I am so proud of you, the last profile was created at 2023-08-26T00:00:00.000Z\n",
      "I am so proud of you, the last profile was created at 2023-08-25T00:00:00.000Z\n",
      "I am so proud of you, the last profile was created at 2023-08-25T00:00:00.000Z\n",
      "I am so proud of you, the last profile was created at 2023-08-25T00:00:00.000Z\n",
      "I am so proud of you, the last profile was created at 2023-08-24T00:00:00.000Z\n",
      "I am so proud of you, the last profile was created at 2023-08-24T00:00:00.000Z\n",
      "caching results\n",
      "I am so proud of you, the last profile was created at 2023-08-24T00:00:00.000Z\n",
      "I am so proud of you, the last profile was created at 2023-08-24T00:00:00.000Z\n",
      "I am so proud of you, the last profile was created at 2023-08-23T00:00:00.000Z\n",
      "I am so proud of you, the last profile was created at 2023-08-23T00:00:00.000Z\n",
      "I am so proud of you, the last profile was created at 2023-08-23T00:00:00.000Z\n",
      "I am so proud of you, the last profile was created at 2023-08-22T00:00:00.000Z\n",
      "I am so proud of you, the last profile was created at 2023-08-22T00:00:00.000Z\n",
      "I am so proud of you, the last profile was created at 2023-09-16T00:00:00.000Z\n",
      "I am so proud of you, the last profile was created at 2023-08-21T00:00:00.000Z\n",
      "I am so proud of you, the last profile was created at 2023-08-21T00:00:00.000Z\n",
      "caching results\n",
      "I am so proud of you, the last profile was created at 2023-08-20T00:00:00.000Z\n",
      "I am so proud of you, the last profile was created at 2023-08-20T00:00:00.000Z\n",
      "I am so proud of you, the last profile was created at 2023-08-20T00:00:00.000Z\n",
      "I am so proud of you, the last profile was created at 2023-08-19T00:00:00.000Z\n",
      "I am so proud of you, the last profile was created at 2023-08-19T00:00:00.000Z\n",
      "I am so proud of you, the last profile was created at 2023-08-19T00:00:00.000Z\n",
      "I am so proud of you, the last profile was created at 2023-08-18T00:00:00.000Z\n",
      "I am so proud of you, the last profile was created at 2023-08-18T00:00:00.000Z\n",
      "I am so proud of you, the last profile was created at 2023-08-18T00:00:00.000Z\n",
      "I am so proud of you, the last profile was created at 2023-08-17T00:00:00.000Z\n",
      "caching results\n",
      "I am so proud of you, the last profile was created at 2023-08-17T00:00:00.000Z\n",
      "I am so proud of you, the last profile was created at 2023-08-17T00:00:00.000Z\n",
      "I am so proud of you, the last profile was created at 2023-08-16T00:00:00.000Z\n",
      "I am so proud of you, the last profile was created at 2023-08-16T00:00:00.000Z\n",
      "I am so proud of you, the last profile was created at 2023-08-16T00:00:00.000Z\n",
      "I am so proud of you, the last profile was created at 2023-08-15T00:00:00.000Z\n",
      "I am so proud of you, the last profile was created at 2023-08-15T00:00:00.000Z\n",
      "I am so proud of you, the last profile was created at 2023-08-15T00:00:00.000Z\n",
      "I am so proud of you, the last profile was created at 2023-08-14T00:00:00.000Z\n",
      "I am so proud of you, the last profile was created at 2023-08-14T00:00:00.000Z\n",
      "caching results\n",
      "I am so proud of you, the last profile was created at 2023-08-14T00:00:00.000Z\n",
      "I am so proud of you, the last profile was created at 2023-10-08T00:00:00.000Z\n",
      "I am so proud of you, the last profile was created at 2023-08-13T00:00:00.000Z\n",
      "I am so proud of you, the last profile was created at 2023-08-13T00:00:00.000Z\n",
      "I am so proud of you, the last profile was created at 2023-08-13T00:00:00.000Z\n",
      "I am so proud of you, the last profile was created at 2023-08-13T00:00:00.000Z\n",
      "I am so proud of you, the last profile was created at 2023-08-12T00:00:00.000Z\n",
      "I am so proud of you, the last profile was created at 2023-08-12T00:00:00.000Z\n",
      "I am so proud of you, the last profile was created at 2023-08-12T00:00:00.000Z\n",
      "I am so proud of you, the last profile was created at 2023-08-12T00:00:00.000Z\n",
      "caching results\n",
      "I am so proud of you, the last profile was created at 2023-08-11T00:00:00.000Z\n",
      "I am so proud of you, the last profile was created at 2023-08-11T00:00:00.000Z\n",
      "I am so proud of you, the last profile was created at 2023-08-11T00:00:00.000Z\n",
      "I am so proud of you, the last profile was created at 2023-08-11T00:00:00.000Z\n",
      "I am so proud of you, the last profile was created at 2023-08-11T00:00:00.000Z\n",
      "I am so proud of you, the last profile was created at 2023-08-10T00:00:00.000Z\n",
      "I am so proud of you, the last profile was created at 2023-08-10T00:00:00.000Z\n",
      "I am so proud of you, the last profile was created at 2023-08-10T00:00:00.000Z\n",
      "I am so proud of you, the last profile was created at 2023-08-10T00:00:00.000Z\n",
      "I am so proud of you, the last profile was created at 2023-08-09T00:00:00.000Z\n",
      "caching results\n",
      "I am so proud of you, the last profile was created at 2023-08-09T00:00:00.000Z\n",
      "I am so proud of you, the last profile was created at 2023-08-09T00:00:00.000Z\n",
      "I am so proud of you, the last profile was created at 2023-08-09T00:00:00.000Z\n"
     ]
    },
    {
     "ename": "KeyboardInterrupt",
     "evalue": "",
     "output_type": "error",
     "traceback": [
      "\u001b[0;31m---------------------------------------------------------------------------\u001b[0m",
      "\u001b[0;31mKeyboardInterrupt\u001b[0m                         Traceback (most recent call last)",
      "Cell \u001b[0;32mIn[65], line 1\u001b[0m\n\u001b[0;32m----> 1\u001b[0m all_profiles \u001b[38;5;241m=\u001b[39m \u001b[43mpull_profiles\u001b[49m\u001b[43m(\u001b[49m\u001b[43mlocal_only\u001b[49m\u001b[38;5;241;43m=\u001b[39;49m\u001b[38;5;28;43;01mFalse\u001b[39;49;00m\u001b[43m)\u001b[49m\n",
      "Cell \u001b[0;32mIn[64], line 50\u001b[0m, in \u001b[0;36mpull_profiles\u001b[0;34m(file_path, local_only, offset, stride, write)\u001b[0m\n\u001b[1;32m     48\u001b[0m \u001b[38;5;66;03m# make another call\u001b[39;00m\n\u001b[1;32m     49\u001b[0m req_query \u001b[38;5;241m=\u001b[39m req_stem\u001b[38;5;241m.\u001b[39mformat(offset\u001b[38;5;241m=\u001b[39moffset, local_only\u001b[38;5;241m=\u001b[39m\u001b[38;5;124m\"\u001b[39m\u001b[38;5;124mtrue\u001b[39m\u001b[38;5;124m\"\u001b[39m \u001b[38;5;28;01mif\u001b[39;00m local_only \u001b[38;5;28;01melse\u001b[39;00m \u001b[38;5;124m\"\u001b[39m\u001b[38;5;124mfalse\u001b[39m\u001b[38;5;124m\"\u001b[39m)\n\u001b[0;32m---> 50\u001b[0m r \u001b[38;5;241m=\u001b[39m \u001b[43mre\u001b[49m\u001b[38;5;241;43m.\u001b[39;49m\u001b[43mget\u001b[49m\u001b[43m(\u001b[49m\u001b[43mreq_query\u001b[49m\u001b[43m)\u001b[49m\n\u001b[1;32m     52\u001b[0m \u001b[38;5;28;01mtry\u001b[39;00m:\n\u001b[1;32m     53\u001b[0m     profiles \u001b[38;5;241m=\u001b[39m r\u001b[38;5;241m.\u001b[39mjson()\n",
      "File \u001b[0;32m~/anaconda3/envs/rec-sys-final-project/lib/python3.11/site-packages/requests/api.py:73\u001b[0m, in \u001b[0;36mget\u001b[0;34m(url, params, **kwargs)\u001b[0m\n\u001b[1;32m     62\u001b[0m \u001b[38;5;28;01mdef\u001b[39;00m \u001b[38;5;21mget\u001b[39m(url, params\u001b[38;5;241m=\u001b[39m\u001b[38;5;28;01mNone\u001b[39;00m, \u001b[38;5;241m*\u001b[39m\u001b[38;5;241m*\u001b[39mkwargs):\n\u001b[1;32m     63\u001b[0m \u001b[38;5;250m    \u001b[39m\u001b[38;5;124mr\u001b[39m\u001b[38;5;124;03m\"\"\"Sends a GET request.\u001b[39;00m\n\u001b[1;32m     64\u001b[0m \n\u001b[1;32m     65\u001b[0m \u001b[38;5;124;03m    :param url: URL for the new :class:`Request` object.\u001b[39;00m\n\u001b[0;32m   (...)\u001b[0m\n\u001b[1;32m     70\u001b[0m \u001b[38;5;124;03m    :rtype: requests.Response\u001b[39;00m\n\u001b[1;32m     71\u001b[0m \u001b[38;5;124;03m    \"\"\"\u001b[39;00m\n\u001b[0;32m---> 73\u001b[0m     \u001b[38;5;28;01mreturn\u001b[39;00m \u001b[43mrequest\u001b[49m\u001b[43m(\u001b[49m\u001b[38;5;124;43m\"\u001b[39;49m\u001b[38;5;124;43mget\u001b[39;49m\u001b[38;5;124;43m\"\u001b[39;49m\u001b[43m,\u001b[49m\u001b[43m \u001b[49m\u001b[43murl\u001b[49m\u001b[43m,\u001b[49m\u001b[43m \u001b[49m\u001b[43mparams\u001b[49m\u001b[38;5;241;43m=\u001b[39;49m\u001b[43mparams\u001b[49m\u001b[43m,\u001b[49m\u001b[43m \u001b[49m\u001b[38;5;241;43m*\u001b[39;49m\u001b[38;5;241;43m*\u001b[39;49m\u001b[43mkwargs\u001b[49m\u001b[43m)\u001b[49m\n",
      "File \u001b[0;32m~/anaconda3/envs/rec-sys-final-project/lib/python3.11/site-packages/requests/api.py:59\u001b[0m, in \u001b[0;36mrequest\u001b[0;34m(method, url, **kwargs)\u001b[0m\n\u001b[1;32m     55\u001b[0m \u001b[38;5;66;03m# By using the 'with' statement we are sure the session is closed, thus we\u001b[39;00m\n\u001b[1;32m     56\u001b[0m \u001b[38;5;66;03m# avoid leaving sockets open which can trigger a ResourceWarning in some\u001b[39;00m\n\u001b[1;32m     57\u001b[0m \u001b[38;5;66;03m# cases, and look like a memory leak in others.\u001b[39;00m\n\u001b[1;32m     58\u001b[0m \u001b[38;5;28;01mwith\u001b[39;00m sessions\u001b[38;5;241m.\u001b[39mSession() \u001b[38;5;28;01mas\u001b[39;00m session:\n\u001b[0;32m---> 59\u001b[0m     \u001b[38;5;28;01mreturn\u001b[39;00m \u001b[43msession\u001b[49m\u001b[38;5;241;43m.\u001b[39;49m\u001b[43mrequest\u001b[49m\u001b[43m(\u001b[49m\u001b[43mmethod\u001b[49m\u001b[38;5;241;43m=\u001b[39;49m\u001b[43mmethod\u001b[49m\u001b[43m,\u001b[49m\u001b[43m \u001b[49m\u001b[43murl\u001b[49m\u001b[38;5;241;43m=\u001b[39;49m\u001b[43murl\u001b[49m\u001b[43m,\u001b[49m\u001b[43m \u001b[49m\u001b[38;5;241;43m*\u001b[39;49m\u001b[38;5;241;43m*\u001b[39;49m\u001b[43mkwargs\u001b[49m\u001b[43m)\u001b[49m\n",
      "File \u001b[0;32m~/anaconda3/envs/rec-sys-final-project/lib/python3.11/site-packages/requests/sessions.py:589\u001b[0m, in \u001b[0;36mSession.request\u001b[0;34m(self, method, url, params, data, headers, cookies, files, auth, timeout, allow_redirects, proxies, hooks, stream, verify, cert, json)\u001b[0m\n\u001b[1;32m    584\u001b[0m send_kwargs \u001b[38;5;241m=\u001b[39m {\n\u001b[1;32m    585\u001b[0m     \u001b[38;5;124m\"\u001b[39m\u001b[38;5;124mtimeout\u001b[39m\u001b[38;5;124m\"\u001b[39m: timeout,\n\u001b[1;32m    586\u001b[0m     \u001b[38;5;124m\"\u001b[39m\u001b[38;5;124mallow_redirects\u001b[39m\u001b[38;5;124m\"\u001b[39m: allow_redirects,\n\u001b[1;32m    587\u001b[0m }\n\u001b[1;32m    588\u001b[0m send_kwargs\u001b[38;5;241m.\u001b[39mupdate(settings)\n\u001b[0;32m--> 589\u001b[0m resp \u001b[38;5;241m=\u001b[39m \u001b[38;5;28;43mself\u001b[39;49m\u001b[38;5;241;43m.\u001b[39;49m\u001b[43msend\u001b[49m\u001b[43m(\u001b[49m\u001b[43mprep\u001b[49m\u001b[43m,\u001b[49m\u001b[43m \u001b[49m\u001b[38;5;241;43m*\u001b[39;49m\u001b[38;5;241;43m*\u001b[39;49m\u001b[43msend_kwargs\u001b[49m\u001b[43m)\u001b[49m\n\u001b[1;32m    591\u001b[0m \u001b[38;5;28;01mreturn\u001b[39;00m resp\n",
      "File \u001b[0;32m~/anaconda3/envs/rec-sys-final-project/lib/python3.11/site-packages/requests/sessions.py:703\u001b[0m, in \u001b[0;36mSession.send\u001b[0;34m(self, request, **kwargs)\u001b[0m\n\u001b[1;32m    700\u001b[0m start \u001b[38;5;241m=\u001b[39m preferred_clock()\n\u001b[1;32m    702\u001b[0m \u001b[38;5;66;03m# Send the request\u001b[39;00m\n\u001b[0;32m--> 703\u001b[0m r \u001b[38;5;241m=\u001b[39m \u001b[43madapter\u001b[49m\u001b[38;5;241;43m.\u001b[39;49m\u001b[43msend\u001b[49m\u001b[43m(\u001b[49m\u001b[43mrequest\u001b[49m\u001b[43m,\u001b[49m\u001b[43m \u001b[49m\u001b[38;5;241;43m*\u001b[39;49m\u001b[38;5;241;43m*\u001b[39;49m\u001b[43mkwargs\u001b[49m\u001b[43m)\u001b[49m\n\u001b[1;32m    705\u001b[0m \u001b[38;5;66;03m# Total elapsed time of the request (approximately)\u001b[39;00m\n\u001b[1;32m    706\u001b[0m elapsed \u001b[38;5;241m=\u001b[39m preferred_clock() \u001b[38;5;241m-\u001b[39m start\n",
      "File \u001b[0;32m~/anaconda3/envs/rec-sys-final-project/lib/python3.11/site-packages/requests/adapters.py:486\u001b[0m, in \u001b[0;36mHTTPAdapter.send\u001b[0;34m(self, request, stream, timeout, verify, cert, proxies)\u001b[0m\n\u001b[1;32m    483\u001b[0m     timeout \u001b[38;5;241m=\u001b[39m TimeoutSauce(connect\u001b[38;5;241m=\u001b[39mtimeout, read\u001b[38;5;241m=\u001b[39mtimeout)\n\u001b[1;32m    485\u001b[0m \u001b[38;5;28;01mtry\u001b[39;00m:\n\u001b[0;32m--> 486\u001b[0m     resp \u001b[38;5;241m=\u001b[39m \u001b[43mconn\u001b[49m\u001b[38;5;241;43m.\u001b[39;49m\u001b[43murlopen\u001b[49m\u001b[43m(\u001b[49m\n\u001b[1;32m    487\u001b[0m \u001b[43m        \u001b[49m\u001b[43mmethod\u001b[49m\u001b[38;5;241;43m=\u001b[39;49m\u001b[43mrequest\u001b[49m\u001b[38;5;241;43m.\u001b[39;49m\u001b[43mmethod\u001b[49m\u001b[43m,\u001b[49m\n\u001b[1;32m    488\u001b[0m \u001b[43m        \u001b[49m\u001b[43murl\u001b[49m\u001b[38;5;241;43m=\u001b[39;49m\u001b[43murl\u001b[49m\u001b[43m,\u001b[49m\n\u001b[1;32m    489\u001b[0m \u001b[43m        \u001b[49m\u001b[43mbody\u001b[49m\u001b[38;5;241;43m=\u001b[39;49m\u001b[43mrequest\u001b[49m\u001b[38;5;241;43m.\u001b[39;49m\u001b[43mbody\u001b[49m\u001b[43m,\u001b[49m\n\u001b[1;32m    490\u001b[0m \u001b[43m        \u001b[49m\u001b[43mheaders\u001b[49m\u001b[38;5;241;43m=\u001b[39;49m\u001b[43mrequest\u001b[49m\u001b[38;5;241;43m.\u001b[39;49m\u001b[43mheaders\u001b[49m\u001b[43m,\u001b[49m\n\u001b[1;32m    491\u001b[0m \u001b[43m        \u001b[49m\u001b[43mredirect\u001b[49m\u001b[38;5;241;43m=\u001b[39;49m\u001b[38;5;28;43;01mFalse\u001b[39;49;00m\u001b[43m,\u001b[49m\n\u001b[1;32m    492\u001b[0m \u001b[43m        \u001b[49m\u001b[43massert_same_host\u001b[49m\u001b[38;5;241;43m=\u001b[39;49m\u001b[38;5;28;43;01mFalse\u001b[39;49;00m\u001b[43m,\u001b[49m\n\u001b[1;32m    493\u001b[0m \u001b[43m        \u001b[49m\u001b[43mpreload_content\u001b[49m\u001b[38;5;241;43m=\u001b[39;49m\u001b[38;5;28;43;01mFalse\u001b[39;49;00m\u001b[43m,\u001b[49m\n\u001b[1;32m    494\u001b[0m \u001b[43m        \u001b[49m\u001b[43mdecode_content\u001b[49m\u001b[38;5;241;43m=\u001b[39;49m\u001b[38;5;28;43;01mFalse\u001b[39;49;00m\u001b[43m,\u001b[49m\n\u001b[1;32m    495\u001b[0m \u001b[43m        \u001b[49m\u001b[43mretries\u001b[49m\u001b[38;5;241;43m=\u001b[39;49m\u001b[38;5;28;43mself\u001b[39;49m\u001b[38;5;241;43m.\u001b[39;49m\u001b[43mmax_retries\u001b[49m\u001b[43m,\u001b[49m\n\u001b[1;32m    496\u001b[0m \u001b[43m        \u001b[49m\u001b[43mtimeout\u001b[49m\u001b[38;5;241;43m=\u001b[39;49m\u001b[43mtimeout\u001b[49m\u001b[43m,\u001b[49m\n\u001b[1;32m    497\u001b[0m \u001b[43m        \u001b[49m\u001b[43mchunked\u001b[49m\u001b[38;5;241;43m=\u001b[39;49m\u001b[43mchunked\u001b[49m\u001b[43m,\u001b[49m\n\u001b[1;32m    498\u001b[0m \u001b[43m    \u001b[49m\u001b[43m)\u001b[49m\n\u001b[1;32m    500\u001b[0m \u001b[38;5;28;01mexcept\u001b[39;00m (ProtocolError, \u001b[38;5;167;01mOSError\u001b[39;00m) \u001b[38;5;28;01mas\u001b[39;00m err:\n\u001b[1;32m    501\u001b[0m     \u001b[38;5;28;01mraise\u001b[39;00m \u001b[38;5;167;01mConnectionError\u001b[39;00m(err, request\u001b[38;5;241m=\u001b[39mrequest)\n",
      "File \u001b[0;32m~/anaconda3/envs/rec-sys-final-project/lib/python3.11/site-packages/urllib3/connectionpool.py:791\u001b[0m, in \u001b[0;36mHTTPConnectionPool.urlopen\u001b[0;34m(self, method, url, body, headers, retries, redirect, assert_same_host, timeout, pool_timeout, release_conn, chunked, body_pos, preload_content, decode_content, **response_kw)\u001b[0m\n\u001b[1;32m    788\u001b[0m response_conn \u001b[38;5;241m=\u001b[39m conn \u001b[38;5;28;01mif\u001b[39;00m \u001b[38;5;129;01mnot\u001b[39;00m release_conn \u001b[38;5;28;01melse\u001b[39;00m \u001b[38;5;28;01mNone\u001b[39;00m\n\u001b[1;32m    790\u001b[0m \u001b[38;5;66;03m# Make the request on the HTTPConnection object\u001b[39;00m\n\u001b[0;32m--> 791\u001b[0m response \u001b[38;5;241m=\u001b[39m \u001b[38;5;28;43mself\u001b[39;49m\u001b[38;5;241;43m.\u001b[39;49m\u001b[43m_make_request\u001b[49m\u001b[43m(\u001b[49m\n\u001b[1;32m    792\u001b[0m \u001b[43m    \u001b[49m\u001b[43mconn\u001b[49m\u001b[43m,\u001b[49m\n\u001b[1;32m    793\u001b[0m \u001b[43m    \u001b[49m\u001b[43mmethod\u001b[49m\u001b[43m,\u001b[49m\n\u001b[1;32m    794\u001b[0m \u001b[43m    \u001b[49m\u001b[43murl\u001b[49m\u001b[43m,\u001b[49m\n\u001b[1;32m    795\u001b[0m \u001b[43m    \u001b[49m\u001b[43mtimeout\u001b[49m\u001b[38;5;241;43m=\u001b[39;49m\u001b[43mtimeout_obj\u001b[49m\u001b[43m,\u001b[49m\n\u001b[1;32m    796\u001b[0m \u001b[43m    \u001b[49m\u001b[43mbody\u001b[49m\u001b[38;5;241;43m=\u001b[39;49m\u001b[43mbody\u001b[49m\u001b[43m,\u001b[49m\n\u001b[1;32m    797\u001b[0m \u001b[43m    \u001b[49m\u001b[43mheaders\u001b[49m\u001b[38;5;241;43m=\u001b[39;49m\u001b[43mheaders\u001b[49m\u001b[43m,\u001b[49m\n\u001b[1;32m    798\u001b[0m \u001b[43m    \u001b[49m\u001b[43mchunked\u001b[49m\u001b[38;5;241;43m=\u001b[39;49m\u001b[43mchunked\u001b[49m\u001b[43m,\u001b[49m\n\u001b[1;32m    799\u001b[0m \u001b[43m    \u001b[49m\u001b[43mretries\u001b[49m\u001b[38;5;241;43m=\u001b[39;49m\u001b[43mretries\u001b[49m\u001b[43m,\u001b[49m\n\u001b[1;32m    800\u001b[0m \u001b[43m    \u001b[49m\u001b[43mresponse_conn\u001b[49m\u001b[38;5;241;43m=\u001b[39;49m\u001b[43mresponse_conn\u001b[49m\u001b[43m,\u001b[49m\n\u001b[1;32m    801\u001b[0m \u001b[43m    \u001b[49m\u001b[43mpreload_content\u001b[49m\u001b[38;5;241;43m=\u001b[39;49m\u001b[43mpreload_content\u001b[49m\u001b[43m,\u001b[49m\n\u001b[1;32m    802\u001b[0m \u001b[43m    \u001b[49m\u001b[43mdecode_content\u001b[49m\u001b[38;5;241;43m=\u001b[39;49m\u001b[43mdecode_content\u001b[49m\u001b[43m,\u001b[49m\n\u001b[1;32m    803\u001b[0m \u001b[43m    \u001b[49m\u001b[38;5;241;43m*\u001b[39;49m\u001b[38;5;241;43m*\u001b[39;49m\u001b[43mresponse_kw\u001b[49m\u001b[43m,\u001b[49m\n\u001b[1;32m    804\u001b[0m \u001b[43m\u001b[49m\u001b[43m)\u001b[49m\n\u001b[1;32m    806\u001b[0m \u001b[38;5;66;03m# Everything went great!\u001b[39;00m\n\u001b[1;32m    807\u001b[0m clean_exit \u001b[38;5;241m=\u001b[39m \u001b[38;5;28;01mTrue\u001b[39;00m\n",
      "File \u001b[0;32m~/anaconda3/envs/rec-sys-final-project/lib/python3.11/site-packages/urllib3/connectionpool.py:537\u001b[0m, in \u001b[0;36mHTTPConnectionPool._make_request\u001b[0;34m(self, conn, method, url, body, headers, retries, timeout, chunked, response_conn, preload_content, decode_content, enforce_content_length)\u001b[0m\n\u001b[1;32m    535\u001b[0m \u001b[38;5;66;03m# Receive the response from the server\u001b[39;00m\n\u001b[1;32m    536\u001b[0m \u001b[38;5;28;01mtry\u001b[39;00m:\n\u001b[0;32m--> 537\u001b[0m     response \u001b[38;5;241m=\u001b[39m \u001b[43mconn\u001b[49m\u001b[38;5;241;43m.\u001b[39;49m\u001b[43mgetresponse\u001b[49m\u001b[43m(\u001b[49m\u001b[43m)\u001b[49m\n\u001b[1;32m    538\u001b[0m \u001b[38;5;28;01mexcept\u001b[39;00m (BaseSSLError, \u001b[38;5;167;01mOSError\u001b[39;00m) \u001b[38;5;28;01mas\u001b[39;00m e:\n\u001b[1;32m    539\u001b[0m     \u001b[38;5;28mself\u001b[39m\u001b[38;5;241m.\u001b[39m_raise_timeout(err\u001b[38;5;241m=\u001b[39me, url\u001b[38;5;241m=\u001b[39murl, timeout_value\u001b[38;5;241m=\u001b[39mread_timeout)\n",
      "File \u001b[0;32m~/anaconda3/envs/rec-sys-final-project/lib/python3.11/site-packages/urllib3/connection.py:461\u001b[0m, in \u001b[0;36mHTTPConnection.getresponse\u001b[0;34m(self)\u001b[0m\n\u001b[1;32m    458\u001b[0m \u001b[38;5;28;01mfrom\u001b[39;00m \u001b[38;5;21;01m.\u001b[39;00m\u001b[38;5;21;01mresponse\u001b[39;00m \u001b[38;5;28;01mimport\u001b[39;00m HTTPResponse\n\u001b[1;32m    460\u001b[0m \u001b[38;5;66;03m# Get the response from http.client.HTTPConnection\u001b[39;00m\n\u001b[0;32m--> 461\u001b[0m httplib_response \u001b[38;5;241m=\u001b[39m \u001b[38;5;28;43msuper\u001b[39;49m\u001b[43m(\u001b[49m\u001b[43m)\u001b[49m\u001b[38;5;241;43m.\u001b[39;49m\u001b[43mgetresponse\u001b[49m\u001b[43m(\u001b[49m\u001b[43m)\u001b[49m\n\u001b[1;32m    463\u001b[0m \u001b[38;5;28;01mtry\u001b[39;00m:\n\u001b[1;32m    464\u001b[0m     assert_header_parsing(httplib_response\u001b[38;5;241m.\u001b[39mmsg)\n",
      "File \u001b[0;32m~/anaconda3/envs/rec-sys-final-project/lib/python3.11/http/client.py:1378\u001b[0m, in \u001b[0;36mHTTPConnection.getresponse\u001b[0;34m(self)\u001b[0m\n\u001b[1;32m   1376\u001b[0m \u001b[38;5;28;01mtry\u001b[39;00m:\n\u001b[1;32m   1377\u001b[0m     \u001b[38;5;28;01mtry\u001b[39;00m:\n\u001b[0;32m-> 1378\u001b[0m         \u001b[43mresponse\u001b[49m\u001b[38;5;241;43m.\u001b[39;49m\u001b[43mbegin\u001b[49m\u001b[43m(\u001b[49m\u001b[43m)\u001b[49m\n\u001b[1;32m   1379\u001b[0m     \u001b[38;5;28;01mexcept\u001b[39;00m \u001b[38;5;167;01mConnectionError\u001b[39;00m:\n\u001b[1;32m   1380\u001b[0m         \u001b[38;5;28mself\u001b[39m\u001b[38;5;241m.\u001b[39mclose()\n",
      "File \u001b[0;32m~/anaconda3/envs/rec-sys-final-project/lib/python3.11/http/client.py:318\u001b[0m, in \u001b[0;36mHTTPResponse.begin\u001b[0;34m(self)\u001b[0m\n\u001b[1;32m    316\u001b[0m \u001b[38;5;66;03m# read until we get a non-100 response\u001b[39;00m\n\u001b[1;32m    317\u001b[0m \u001b[38;5;28;01mwhile\u001b[39;00m \u001b[38;5;28;01mTrue\u001b[39;00m:\n\u001b[0;32m--> 318\u001b[0m     version, status, reason \u001b[38;5;241m=\u001b[39m \u001b[38;5;28;43mself\u001b[39;49m\u001b[38;5;241;43m.\u001b[39;49m\u001b[43m_read_status\u001b[49m\u001b[43m(\u001b[49m\u001b[43m)\u001b[49m\n\u001b[1;32m    319\u001b[0m     \u001b[38;5;28;01mif\u001b[39;00m status \u001b[38;5;241m!=\u001b[39m CONTINUE:\n\u001b[1;32m    320\u001b[0m         \u001b[38;5;28;01mbreak\u001b[39;00m\n",
      "File \u001b[0;32m~/anaconda3/envs/rec-sys-final-project/lib/python3.11/http/client.py:279\u001b[0m, in \u001b[0;36mHTTPResponse._read_status\u001b[0;34m(self)\u001b[0m\n\u001b[1;32m    278\u001b[0m \u001b[38;5;28;01mdef\u001b[39;00m \u001b[38;5;21m_read_status\u001b[39m(\u001b[38;5;28mself\u001b[39m):\n\u001b[0;32m--> 279\u001b[0m     line \u001b[38;5;241m=\u001b[39m \u001b[38;5;28mstr\u001b[39m(\u001b[38;5;28mself\u001b[39m\u001b[38;5;241m.\u001b[39mfp\u001b[38;5;241m.\u001b[39mreadline(_MAXLINE \u001b[38;5;241m+\u001b[39m \u001b[38;5;241m1\u001b[39m), \u001b[38;5;124m\"\u001b[39m\u001b[38;5;124miso-8859-1\u001b[39m\u001b[38;5;124m\"\u001b[39m)\n\u001b[1;32m    280\u001b[0m     \u001b[38;5;28;01mif\u001b[39;00m \u001b[38;5;28mlen\u001b[39m(line) \u001b[38;5;241m>\u001b[39m _MAXLINE:\n\u001b[1;32m    281\u001b[0m         \u001b[38;5;28;01mraise\u001b[39;00m LineTooLong(\u001b[38;5;124m\"\u001b[39m\u001b[38;5;124mstatus line\u001b[39m\u001b[38;5;124m\"\u001b[39m)\n",
      "File \u001b[0;32m~/anaconda3/envs/rec-sys-final-project/lib/python3.11/socket.py:706\u001b[0m, in \u001b[0;36mSocketIO.readinto\u001b[0;34m(self, b)\u001b[0m\n\u001b[1;32m    704\u001b[0m \u001b[38;5;28;01mwhile\u001b[39;00m \u001b[38;5;28;01mTrue\u001b[39;00m:\n\u001b[1;32m    705\u001b[0m     \u001b[38;5;28;01mtry\u001b[39;00m:\n\u001b[0;32m--> 706\u001b[0m         \u001b[38;5;28;01mreturn\u001b[39;00m \u001b[38;5;28;43mself\u001b[39;49m\u001b[38;5;241;43m.\u001b[39;49m\u001b[43m_sock\u001b[49m\u001b[38;5;241;43m.\u001b[39;49m\u001b[43mrecv_into\u001b[49m\u001b[43m(\u001b[49m\u001b[43mb\u001b[49m\u001b[43m)\u001b[49m\n\u001b[1;32m    707\u001b[0m     \u001b[38;5;28;01mexcept\u001b[39;00m timeout:\n\u001b[1;32m    708\u001b[0m         \u001b[38;5;28mself\u001b[39m\u001b[38;5;241m.\u001b[39m_timeout_occurred \u001b[38;5;241m=\u001b[39m \u001b[38;5;28;01mTrue\u001b[39;00m\n",
      "File \u001b[0;32m~/anaconda3/envs/rec-sys-final-project/lib/python3.11/ssl.py:1311\u001b[0m, in \u001b[0;36mSSLSocket.recv_into\u001b[0;34m(self, buffer, nbytes, flags)\u001b[0m\n\u001b[1;32m   1307\u001b[0m     \u001b[38;5;28;01mif\u001b[39;00m flags \u001b[38;5;241m!=\u001b[39m \u001b[38;5;241m0\u001b[39m:\n\u001b[1;32m   1308\u001b[0m         \u001b[38;5;28;01mraise\u001b[39;00m \u001b[38;5;167;01mValueError\u001b[39;00m(\n\u001b[1;32m   1309\u001b[0m           \u001b[38;5;124m\"\u001b[39m\u001b[38;5;124mnon-zero flags not allowed in calls to recv_into() on \u001b[39m\u001b[38;5;132;01m%s\u001b[39;00m\u001b[38;5;124m\"\u001b[39m \u001b[38;5;241m%\u001b[39m\n\u001b[1;32m   1310\u001b[0m           \u001b[38;5;28mself\u001b[39m\u001b[38;5;241m.\u001b[39m\u001b[38;5;18m__class__\u001b[39m)\n\u001b[0;32m-> 1311\u001b[0m     \u001b[38;5;28;01mreturn\u001b[39;00m \u001b[38;5;28;43mself\u001b[39;49m\u001b[38;5;241;43m.\u001b[39;49m\u001b[43mread\u001b[49m\u001b[43m(\u001b[49m\u001b[43mnbytes\u001b[49m\u001b[43m,\u001b[49m\u001b[43m \u001b[49m\u001b[43mbuffer\u001b[49m\u001b[43m)\u001b[49m\n\u001b[1;32m   1312\u001b[0m \u001b[38;5;28;01melse\u001b[39;00m:\n\u001b[1;32m   1313\u001b[0m     \u001b[38;5;28;01mreturn\u001b[39;00m \u001b[38;5;28msuper\u001b[39m()\u001b[38;5;241m.\u001b[39mrecv_into(buffer, nbytes, flags)\n",
      "File \u001b[0;32m~/anaconda3/envs/rec-sys-final-project/lib/python3.11/ssl.py:1167\u001b[0m, in \u001b[0;36mSSLSocket.read\u001b[0;34m(self, len, buffer)\u001b[0m\n\u001b[1;32m   1165\u001b[0m \u001b[38;5;28;01mtry\u001b[39;00m:\n\u001b[1;32m   1166\u001b[0m     \u001b[38;5;28;01mif\u001b[39;00m buffer \u001b[38;5;129;01mis\u001b[39;00m \u001b[38;5;129;01mnot\u001b[39;00m \u001b[38;5;28;01mNone\u001b[39;00m:\n\u001b[0;32m-> 1167\u001b[0m         \u001b[38;5;28;01mreturn\u001b[39;00m \u001b[38;5;28;43mself\u001b[39;49m\u001b[38;5;241;43m.\u001b[39;49m\u001b[43m_sslobj\u001b[49m\u001b[38;5;241;43m.\u001b[39;49m\u001b[43mread\u001b[49m\u001b[43m(\u001b[49m\u001b[38;5;28;43mlen\u001b[39;49m\u001b[43m,\u001b[49m\u001b[43m \u001b[49m\u001b[43mbuffer\u001b[49m\u001b[43m)\u001b[49m\n\u001b[1;32m   1168\u001b[0m     \u001b[38;5;28;01melse\u001b[39;00m:\n\u001b[1;32m   1169\u001b[0m         \u001b[38;5;28;01mreturn\u001b[39;00m \u001b[38;5;28mself\u001b[39m\u001b[38;5;241m.\u001b[39m_sslobj\u001b[38;5;241m.\u001b[39mread(\u001b[38;5;28mlen\u001b[39m)\n",
      "\u001b[0;31mKeyboardInterrupt\u001b[0m: "
     ]
    }
   ],
   "source": [
    "# this might give us all? like mastodon.social?\n",
    "all_profiles = pull_profiles(local_only=False)"
   ]
  },
  {
   "cell_type": "markdown",
   "id": "4fe4b91c-a3a3-41a1-9d80-88df396c8a84",
   "metadata": {},
   "source": [
    "Too many account here! I think instead, we should pick a big, but not huge instance and do it there!"
   ]
  },
  {
   "cell_type": "code",
   "execution_count": null,
   "id": "ff49892d-8af8-4a77-a421-768fa9baef0e",
   "metadata": {},
   "outputs": [],
   "source": []
  },
  {
   "cell_type": "markdown",
   "id": "980956d6-d8e9-4fcb-b4dd-016ab0ac73d4",
   "metadata": {},
   "source": [
    "## Compute following graph!"
   ]
  },
  {
   "cell_type": "code",
   "execution_count": 66,
   "id": "614e4f97-d2d9-4cb1-91a2-08dfa9d9dd23",
   "metadata": {
    "tags": []
   },
   "outputs": [],
   "source": [
    "df = pd.read_csv(\"data/profiles/hci_social_profiles_local.csv\")"
   ]
  },
  {
   "cell_type": "code",
   "execution_count": 162,
   "id": "1ad243a0-6694-441f-bb98-4d723c324bb9",
   "metadata": {
    "tags": []
   },
   "outputs": [
    {
     "data": {
      "text/html": [
       "<div>\n",
       "<style scoped>\n",
       "    .dataframe tbody tr th:only-of-type {\n",
       "        vertical-align: middle;\n",
       "    }\n",
       "\n",
       "    .dataframe tbody tr th {\n",
       "        vertical-align: top;\n",
       "    }\n",
       "\n",
       "    .dataframe thead th {\n",
       "        text-align: right;\n",
       "    }\n",
       "</style>\n",
       "<table border=\"1\" class=\"dataframe\">\n",
       "  <thead>\n",
       "    <tr style=\"text-align: right;\">\n",
       "      <th></th>\n",
       "      <th>id</th>\n",
       "      <th>acct</th>\n",
       "      <th>url</th>\n",
       "      <th>created_at</th>\n",
       "      <th>followers_count</th>\n",
       "      <th>following_count</th>\n",
       "      <th>statuses_count</th>\n",
       "      <th>last_status_at</th>\n",
       "      <th>instance</th>\n",
       "    </tr>\n",
       "  </thead>\n",
       "  <tbody>\n",
       "    <tr>\n",
       "      <th>0</th>\n",
       "      <td>108286624813793740</td>\n",
       "      <td>cqz</td>\n",
       "      <td>https://hci.social/@cqz</td>\n",
       "      <td>2022-05-12T00:00:00.000Z</td>\n",
       "      <td>49</td>\n",
       "      <td>20</td>\n",
       "      <td>24</td>\n",
       "      <td>2023-11-03</td>\n",
       "      <td>https://hci.social/</td>\n",
       "    </tr>\n",
       "    <tr>\n",
       "      <th>1</th>\n",
       "      <td>108286142941695868</td>\n",
       "      <td>Gillian</td>\n",
       "      <td>https://hci.social/@Gillian</td>\n",
       "      <td>2022-05-12T00:00:00.000Z</td>\n",
       "      <td>368</td>\n",
       "      <td>271</td>\n",
       "      <td>36</td>\n",
       "      <td>2022-12-23</td>\n",
       "      <td>https://hci.social/</td>\n",
       "    </tr>\n",
       "    <tr>\n",
       "      <th>2</th>\n",
       "      <td>108286014897638184</td>\n",
       "      <td>AndreaHCI</td>\n",
       "      <td>https://hci.social/@AndreaHCI</td>\n",
       "      <td>2022-05-11T00:00:00.000Z</td>\n",
       "      <td>12</td>\n",
       "      <td>9</td>\n",
       "      <td>1</td>\n",
       "      <td>2022-12-26</td>\n",
       "      <td>https://hci.social/</td>\n",
       "    </tr>\n",
       "    <tr>\n",
       "      <th>3</th>\n",
       "      <td>108285815791532398</td>\n",
       "      <td>izd</td>\n",
       "      <td>https://hci.social/@izd</td>\n",
       "      <td>2022-05-11T00:00:00.000Z</td>\n",
       "      <td>39</td>\n",
       "      <td>22</td>\n",
       "      <td>37</td>\n",
       "      <td>2023-10-12</td>\n",
       "      <td>https://hci.social/</td>\n",
       "    </tr>\n",
       "    <tr>\n",
       "      <th>4</th>\n",
       "      <td>108285424167487793</td>\n",
       "      <td>shirinfeiz</td>\n",
       "      <td>https://hci.social/@shirinfeiz</td>\n",
       "      <td>2022-05-11T00:00:00.000Z</td>\n",
       "      <td>12</td>\n",
       "      <td>20</td>\n",
       "      <td>0</td>\n",
       "      <td>NaN</td>\n",
       "      <td>https://hci.social/</td>\n",
       "    </tr>\n",
       "    <tr>\n",
       "      <th>5</th>\n",
       "      <td>108285175735137681</td>\n",
       "      <td>Helena</td>\n",
       "      <td>https://hci.social/@Helena</td>\n",
       "      <td>2022-05-11T00:00:00.000Z</td>\n",
       "      <td>93</td>\n",
       "      <td>89</td>\n",
       "      <td>11</td>\n",
       "      <td>2023-02-27</td>\n",
       "      <td>https://hci.social/</td>\n",
       "    </tr>\n",
       "    <tr>\n",
       "      <th>6</th>\n",
       "      <td>108284677476769450</td>\n",
       "      <td>mlam</td>\n",
       "      <td>https://hci.social/@mlam</td>\n",
       "      <td>2022-05-11T00:00:00.000Z</td>\n",
       "      <td>101</td>\n",
       "      <td>77</td>\n",
       "      <td>7</td>\n",
       "      <td>2023-04-12</td>\n",
       "      <td>https://hci.social/</td>\n",
       "    </tr>\n",
       "    <tr>\n",
       "      <th>7</th>\n",
       "      <td>108284650613162617</td>\n",
       "      <td>sukrit</td>\n",
       "      <td>https://hci.social/@sukrit</td>\n",
       "      <td>2022-05-11T00:00:00.000Z</td>\n",
       "      <td>291</td>\n",
       "      <td>255</td>\n",
       "      <td>269</td>\n",
       "      <td>2023-11-02</td>\n",
       "      <td>https://hci.social/</td>\n",
       "    </tr>\n",
       "    <tr>\n",
       "      <th>8</th>\n",
       "      <td>108284640329969016</td>\n",
       "      <td>parastoo</td>\n",
       "      <td>https://hci.social/@parastoo</td>\n",
       "      <td>2022-05-11T00:00:00.000Z</td>\n",
       "      <td>85</td>\n",
       "      <td>28</td>\n",
       "      <td>7</td>\n",
       "      <td>2023-09-09</td>\n",
       "      <td>https://hci.social/</td>\n",
       "    </tr>\n",
       "    <tr>\n",
       "      <th>9</th>\n",
       "      <td>108284496969846045</td>\n",
       "      <td>masmart</td>\n",
       "      <td>https://hci.social/@masmart</td>\n",
       "      <td>2022-05-11T00:00:00.000Z</td>\n",
       "      <td>118</td>\n",
       "      <td>218</td>\n",
       "      <td>26</td>\n",
       "      <td>2023-08-09</td>\n",
       "      <td>https://hci.social/</td>\n",
       "    </tr>\n",
       "  </tbody>\n",
       "</table>\n",
       "</div>"
      ],
      "text/plain": [
       "                   id        acct                             url  \\\n",
       "0  108286624813793740         cqz         https://hci.social/@cqz   \n",
       "1  108286142941695868     Gillian     https://hci.social/@Gillian   \n",
       "2  108286014897638184   AndreaHCI   https://hci.social/@AndreaHCI   \n",
       "3  108285815791532398         izd         https://hci.social/@izd   \n",
       "4  108285424167487793  shirinfeiz  https://hci.social/@shirinfeiz   \n",
       "5  108285175735137681      Helena      https://hci.social/@Helena   \n",
       "6  108284677476769450        mlam        https://hci.social/@mlam   \n",
       "7  108284650613162617      sukrit      https://hci.social/@sukrit   \n",
       "8  108284640329969016    parastoo    https://hci.social/@parastoo   \n",
       "9  108284496969846045     masmart     https://hci.social/@masmart   \n",
       "\n",
       "                 created_at  followers_count  following_count  statuses_count  \\\n",
       "0  2022-05-12T00:00:00.000Z               49               20              24   \n",
       "1  2022-05-12T00:00:00.000Z              368              271              36   \n",
       "2  2022-05-11T00:00:00.000Z               12                9               1   \n",
       "3  2022-05-11T00:00:00.000Z               39               22              37   \n",
       "4  2022-05-11T00:00:00.000Z               12               20               0   \n",
       "5  2022-05-11T00:00:00.000Z               93               89              11   \n",
       "6  2022-05-11T00:00:00.000Z              101               77               7   \n",
       "7  2022-05-11T00:00:00.000Z              291              255             269   \n",
       "8  2022-05-11T00:00:00.000Z               85               28               7   \n",
       "9  2022-05-11T00:00:00.000Z              118              218              26   \n",
       "\n",
       "  last_status_at             instance  \n",
       "0     2023-11-03  https://hci.social/  \n",
       "1     2022-12-23  https://hci.social/  \n",
       "2     2022-12-26  https://hci.social/  \n",
       "3     2023-10-12  https://hci.social/  \n",
       "4            NaN  https://hci.social/  \n",
       "5     2023-02-27  https://hci.social/  \n",
       "6     2023-04-12  https://hci.social/  \n",
       "7     2023-11-02  https://hci.social/  \n",
       "8     2023-09-09  https://hci.social/  \n",
       "9     2023-08-09  https://hci.social/  "
      ]
     },
     "execution_count": 162,
     "metadata": {},
     "output_type": "execute_result"
    }
   ],
   "source": [
    "df.head(10)"
   ]
  },
  {
   "cell_type": "code",
   "execution_count": null,
   "id": "814f0e22-2148-4b29-a8e3-c3d3bafe3923",
   "metadata": {},
   "outputs": [],
   "source": []
  },
  {
   "cell_type": "code",
   "execution_count": null,
   "id": "2fdd5f56-dbdc-4a75-b8b9-287dd26e7036",
   "metadata": {},
   "outputs": [],
   "source": []
  },
  {
   "cell_type": "markdown",
   "id": "fba9e717-240a-4ea9-bb07-9172eacc4ca9",
   "metadata": {},
   "source": [
    "### Make a networkx thing"
   ]
  },
  {
   "cell_type": "code",
   "execution_count": 75,
   "id": "b8b712da-88c9-4e88-9203-74aeb22d4ba3",
   "metadata": {
    "tags": []
   },
   "outputs": [],
   "source": [
    "G = nx.DiGraph()"
   ]
  },
  {
   "cell_type": "code",
   "execution_count": 76,
   "id": "f60aba55-ad85-4a1b-b116-6d311f9c60c7",
   "metadata": {
    "tags": []
   },
   "outputs": [],
   "source": [
    "# these will be labelled by the index\n",
    "G.add_nodes_from(list(df.iterrows()))"
   ]
  },
  {
   "cell_type": "code",
   "execution_count": 80,
   "id": "5df8b5b5-db56-48a6-b249-a80b8c2bbe57",
   "metadata": {
    "tags": []
   },
   "outputs": [],
   "source": [
    "# make some id to index maps\n",
    "index_to_local_id_map = {k: v[\"id\"] for k, v in df.iterrows()}\n",
    "local_id_to_index_map = {v: k for k, v in index_to_local_id_map.items()}\n"
   ]
  },
  {
   "cell_type": "markdown",
   "id": "700c9e6f-decb-4912-ac47-4304651c83bd",
   "metadata": {},
   "source": [
    "#### Show that we can pull followers/following"
   ]
  },
  {
   "cell_type": "code",
   "execution_count": 104,
   "id": "10a985fc-21fe-45fe-a860-f4bc3fa4a7ed",
   "metadata": {
    "tags": []
   },
   "outputs": [],
   "source": [
    "def select_relevant_following_fields(iterable): \n",
    "    \"\"\"\n",
    "    Just a map to pull certain things out of the json\n",
    "    \n",
    "    \"\"\"\n",
    "    smaller_json = list(map(lambda x: \n",
    "                            dict(\n",
    "                                id=x[\"id\"],\n",
    "                                acct=x[\"acct\"],\n",
    "                                url=x[\"url\"], # so we can tell which server!\n",
    "                                created_at=x[\"created_at\"],\n",
    "                                followers_count=x[\"followers_count\"],\n",
    "                                following_count=x[\"following_count\"],\n",
    "                                statuses_count=x[\"statuses_count\"],\n",
    "                                last_status_at=x[\"last_status_at\"]\n",
    "                            ), \n",
    "                            iterable\n",
    "                           )\n",
    "                       )\n",
    "    \n",
    "    # add the server\n",
    "    new_list = []\n",
    "    for a_dict in smaller_json:\n",
    "        # add the server name\n",
    "        \n",
    "        # need both because there are different urls for local versus not\n",
    "        a_dict[\"instance\"] = a_dict[\"url\"].split(\"@\")[0].split(\"/users/\")[0]\n",
    "        \n",
    "        new_list.append(a_dict)\n",
    "   \n",
    "    return new_list"
   ]
  },
  {
   "cell_type": "code",
   "execution_count": null,
   "id": "7d2209d5-a82c-4bd3-8a58-5a65df4c03eb",
   "metadata": {},
   "outputs": [],
   "source": []
  },
  {
   "cell_type": "code",
   "execution_count": 157,
   "id": "ede8c612-1b1e-4fd6-9e30-d7aaa746b4c6",
   "metadata": {
    "tags": []
   },
   "outputs": [
    {
     "data": {
      "text/plain": [
       "108286624813793740"
      ]
     },
     "execution_count": 157,
     "metadata": {},
     "output_type": "execute_result"
    }
   ],
   "source": [
    "id = df.iloc[0][\"id\"]\n",
    "id"
   ]
  },
  {
   "cell_type": "code",
   "execution_count": 134,
   "id": "840094e3-056d-4d62-b276-2f2086932570",
   "metadata": {
    "tags": []
   },
   "outputs": [],
   "source": [
    "this_user_followers = []"
   ]
  },
  {
   "cell_type": "code",
   "execution_count": 135,
   "id": "71b58454-1b4b-420e-a755-e14e712c66ae",
   "metadata": {
    "tags": []
   },
   "outputs": [],
   "source": [
    "followers_string = \"https://hci.social/api/v1/accounts/{id}/followers?limit={limit}\""
   ]
  },
  {
   "cell_type": "code",
   "execution_count": 136,
   "id": "1f9ecabb-af62-4615-ae5b-fa83eb36c12c",
   "metadata": {
    "tags": []
   },
   "outputs": [],
   "source": [
    "followers_query = followers_string.format(id=id, limit=80)\n",
    "r = re.get(followers_query)"
   ]
  },
  {
   "cell_type": "code",
   "execution_count": 137,
   "id": "9f9cb842-8f56-4083-a94c-8b953624edf9",
   "metadata": {
    "tags": []
   },
   "outputs": [],
   "source": [
    "try:\n",
    "    follower_list = r.json()\n",
    "except Exception as e:\n",
    "    print(e, offset)\n",
    "\n",
    "this_user_followers.extend(follower_list)"
   ]
  },
  {
   "cell_type": "code",
   "execution_count": 138,
   "id": "7d474d8a-d0aa-4833-a157-4b02202689ae",
   "metadata": {
    "tags": []
   },
   "outputs": [
    {
     "data": {
      "text/plain": [
       "80"
      ]
     },
     "execution_count": 138,
     "metadata": {},
     "output_type": "execute_result"
    }
   ],
   "source": [
    "len(this_user_followers)"
   ]
  },
  {
   "cell_type": "code",
   "execution_count": 126,
   "id": "3ba348d5-5a29-49f2-b57c-00dcf0a73afd",
   "metadata": {
    "tags": []
   },
   "outputs": [
    {
     "data": {
      "text/plain": [
       "'https://hci.social/api/v1/accounts/108286142941695868/followers?limit=80&max_id=151166'"
      ]
     },
     "execution_count": 126,
     "metadata": {},
     "output_type": "execute_result"
    }
   ],
   "source": [
    "str(r.headers[\"Link\"]).split('>; rel=\"next\",')[0].strip(\"<\")"
   ]
  },
  {
   "cell_type": "code",
   "execution_count": 139,
   "id": "24200c6e-4b37-4a74-8f7a-0735b3d65ad8",
   "metadata": {
    "tags": []
   },
   "outputs": [],
   "source": [
    "r = re.get(str(r.headers[\"Link\"]).split('>; rel=\"next\",')[0].strip(\"<\"))\n",
    "\n",
    "try:\n",
    "    follower_list = r.json()\n",
    "except Exception as e:\n",
    "    print(e, offset)\n",
    "\n",
    "    \n",
    "this_user_followers.extend(follower_list)"
   ]
  },
  {
   "cell_type": "code",
   "execution_count": 140,
   "id": "c216239f-8a26-42d9-bde9-75bd2b0b8a52",
   "metadata": {
    "tags": []
   },
   "outputs": [
    {
     "data": {
      "text/plain": [
       "160"
      ]
     },
     "execution_count": 140,
     "metadata": {},
     "output_type": "execute_result"
    }
   ],
   "source": [
    "len(this_user_followers)"
   ]
  },
  {
   "cell_type": "code",
   "execution_count": 143,
   "id": "06cd38b6-1612-40c8-bc9e-2c60e735d9fe",
   "metadata": {
    "tags": []
   },
   "outputs": [],
   "source": [
    "r = re.get(str(r.headers[\"Link\"]).split('>; rel=\"next\",')[0].strip(\"<\"))\n",
    "\n",
    "try:\n",
    "    follower_list = r.json()\n",
    "except Exception as e:\n",
    "    print(e, offset)\n",
    "\n",
    "    \n",
    "this_user_followers.extend(follower_list)"
   ]
  },
  {
   "cell_type": "code",
   "execution_count": 144,
   "id": "a092c324-21b0-429b-ba5b-4e5ec8d6cf12",
   "metadata": {
    "tags": []
   },
   "outputs": [
    {
     "data": {
      "text/plain": [
       "240"
      ]
     },
     "execution_count": 144,
     "metadata": {},
     "output_type": "execute_result"
    }
   ],
   "source": [
    "len(this_user_followers)"
   ]
  },
  {
   "cell_type": "code",
   "execution_count": null,
   "id": "4da56aac-aa57-4cf1-a0ec-781090ac157c",
   "metadata": {},
   "outputs": [],
   "source": []
  },
  {
   "cell_type": "code",
   "execution_count": 182,
   "id": "05e5c256-1780-474e-b4c2-9616496626cd",
   "metadata": {
    "tags": []
   },
   "outputs": [],
   "source": [
    "\n",
    "def get_this_user_network(user_id, which=\"following\", verbose=False):\n",
    "    \"\"\"\n",
    "    Params:\n",
    "        which (str):\n",
    "            one of followers or following\n",
    "    \n",
    "    \n",
    "    \"\"\"\n",
    "\n",
    "    this_user_followers = []\n",
    "    this_batch_follower_list = []\n",
    "\n",
    "    followers_string = \"https://hci.social/api/v1/accounts/{id}/{which}?limit={limit}\"\n",
    "    next_query = followers_string.format(id=user_id, limit=80, which=which)\n",
    "    r = re.get(next_query)\n",
    "\n",
    "    if verbose:\n",
    "        print(next_query)\n",
    "\n",
    "    \n",
    "    # dumpster fire of a loop!\n",
    "\n",
    "    while True:\n",
    "        r = re.get(next_query)\n",
    "\n",
    "        try:\n",
    "            this_batch_follower_list = r.json()\n",
    "            next_query = str(r.headers[\"Link\"]).split('>; rel=\"next\",')[0].strip(\"<\")\n",
    "\n",
    "\n",
    "        except Exception as e:\n",
    "            print(e, id)\n",
    "            break\n",
    "\n",
    "        if len(this_batch_follower_list) == 0:\n",
    "            break\n",
    "\n",
    "        this_user_followers.extend(select_relevant_following_fields(this_batch_follower_list))\n",
    "\n",
    "        if '; rel=\"prev\"' in next_query:\n",
    "\n",
    "            break\n",
    "\n",
    "        if verbose:\n",
    "            print(next_query)\n",
    "        \n",
    "    return this_user_followers\n",
    "    \n"
   ]
  },
  {
   "cell_type": "code",
   "execution_count": 183,
   "id": "62289fde-b3e5-4c5c-af70-0e3dbc03cc66",
   "metadata": {
    "tags": []
   },
   "outputs": [
    {
     "data": {
      "text/plain": [
       "255"
      ]
     },
     "execution_count": 183,
     "metadata": {},
     "output_type": "execute_result"
    }
   ],
   "source": [
    "test = get_this_user_network(df.iloc[7][\"id\"], which=\"following\")\n",
    "\n",
    "len(test)"
   ]
  },
  {
   "cell_type": "code",
   "execution_count": null,
   "id": "b489d05e-0be0-493d-810d-2a9af473eb8c",
   "metadata": {
    "tags": []
   },
   "outputs": [],
   "source": []
  },
  {
   "cell_type": "code",
   "execution_count": 174,
   "id": "b15cdb2e-67c3-4f09-b412-03bcd74ea230",
   "metadata": {
    "tags": []
   },
   "outputs": [
    {
     "data": {
      "text/plain": [
       "291"
      ]
     },
     "execution_count": 174,
     "metadata": {},
     "output_type": "execute_result"
    }
   ],
   "source": [
    "len(this_user_followers)"
   ]
  },
  {
   "cell_type": "code",
   "execution_count": null,
   "id": "bad0607c-aed2-4670-bc92-9299401e37ed",
   "metadata": {},
   "outputs": [],
   "source": []
  },
  {
   "cell_type": "code",
   "execution_count": null,
   "id": "dda917fd-8ae9-4a9d-b50c-8fd997f9c6f2",
   "metadata": {},
   "outputs": [],
   "source": []
  },
  {
   "cell_type": "code",
   "execution_count": null,
   "id": "f989c062-ca1a-48ab-9a32-412bc0ddae17",
   "metadata": {
    "tags": []
   },
   "outputs": [],
   "source": []
  },
  {
   "cell_type": "code",
   "execution_count": null,
   "id": "4c557f35-d0cb-4d4f-a5f7-68bf36d1a78b",
   "metadata": {},
   "outputs": [],
   "source": []
  },
  {
   "cell_type": "code",
   "execution_count": null,
   "id": "bd893a25-7099-4b53-b160-8231d7f9c53a",
   "metadata": {},
   "outputs": [],
   "source": []
  },
  {
   "cell_type": "code",
   "execution_count": null,
   "id": "689a6059-9e3c-44e9-a974-206c722700fb",
   "metadata": {},
   "outputs": [],
   "source": []
  },
  {
   "cell_type": "code",
   "execution_count": null,
   "id": "52863ac7-a4c2-4d84-8852-34f99ee9a4b7",
   "metadata": {},
   "outputs": [],
   "source": []
  },
  {
   "cell_type": "code",
   "execution_count": null,
   "id": "d5d60925-d4b1-4e8e-acc2-e2dbdd94b031",
   "metadata": {},
   "outputs": [],
   "source": []
  },
  {
   "cell_type": "code",
   "execution_count": null,
   "id": "e4af1694-852a-4d65-97d0-6b67e22a2dbf",
   "metadata": {},
   "outputs": [],
   "source": []
  }
 ],
 "metadata": {
  "kernelspec": {
   "display_name": "Python 3 (ipykernel)",
   "language": "python",
   "name": "python3"
  },
  "language_info": {
   "codemirror_mode": {
    "name": "ipython",
    "version": 3
   },
   "file_extension": ".py",
   "mimetype": "text/x-python",
   "name": "python",
   "nbconvert_exporter": "python",
   "pygments_lexer": "ipython3",
   "version": "3.11.6"
  }
 },
 "nbformat": 4,
 "nbformat_minor": 5
}

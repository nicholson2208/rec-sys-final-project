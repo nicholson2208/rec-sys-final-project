{
 "cells": [
  {
   "cell_type": "markdown",
   "id": "f8e47149-d664-4cd5-a81f-10ffe7614d76",
   "metadata": {},
   "source": [
    "# A notebook to see what the data pulling process is like"
   ]
  },
  {
   "cell_type": "code",
   "execution_count": null,
   "id": "48f355b5-93b8-4b38-a840-208f20219dc4",
   "metadata": {},
   "outputs": [],
   "source": [
    "import pandas as pd\n",
    "import requests as re\n",
    "import time\n",
    "import os\n",
    "import sqlite3\n",
    "import json\n",
    "import random"
   ]
  }
 ],
 "metadata": {
  "kernelspec": {
   "display_name": "Python 3 (ipykernel)",
   "language": "python",
   "name": "python3"
  },
  "language_info": {
   "codemirror_mode": {
    "name": "ipython",
    "version": 3
   },
   "file_extension": ".py",
   "mimetype": "text/x-python",
   "name": "python",
   "nbconvert_exporter": "python",
   "pygments_lexer": "ipython3",
   "version": "3.11.6"
  }
 },
 "nbformat": 4,
 "nbformat_minor": 5
}

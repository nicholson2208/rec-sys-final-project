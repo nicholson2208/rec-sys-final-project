{
 "cells": [
  {
   "cell_type": "code",
   "execution_count": 4,
   "metadata": {},
   "outputs": [],
   "source": [
    "#code implemented\n",
    "# https://stellargraph.readthedocs.io/en/stable/demos/link-prediction/gcn-link-prediction.html"
   ]
  },
  {
   "cell_type": "code",
   "execution_count": 1,
   "metadata": {},
   "outputs": [],
   "source": [
    "import networkx as nx"
   ]
  },
  {
   "cell_type": "code",
   "execution_count": 27,
   "metadata": {},
   "outputs": [],
   "source": [
    "# Stellar graph requires python 3.6\n",
    "\n",
    "from stellargraph import StellarGraph\n",
    "from stellargraph.data import EdgeSplitter\n",
    "from stellargraph.mapper import FullBatchLinkGenerator\n",
    "from stellargraph.layer import GCN, LinkEmbedding\n",
    "\n",
    "\n",
    "from tensorflow import keras\n",
    "from sklearn import preprocessing, feature_extraction, model_selection\n",
    "\n",
    "from stellargraph import globalvar\n",
    "from IPython.display import display, HTML\n",
    "%matplotlib inline"
   ]
  },
  {
   "cell_type": "code",
   "execution_count": 63,
   "metadata": {},
   "outputs": [],
   "source": [
    "# from scipy.sparse import load_npz\n",
    "\n",
    "# adj_matrix = load_npz(\"adj_matrix.npz\")"
   ]
  },
  {
   "cell_type": "code",
   "execution_count": 113,
   "metadata": {},
   "outputs": [],
   "source": [
    "# len(adj_matrix.toarray())"
   ]
  },
  {
   "cell_type": "code",
   "execution_count": 95,
   "metadata": {},
   "outputs": [
    {
     "name": "stdout",
     "output_type": "stream",
     "text": [
      "Requirement already satisfied: pickle5 in c:\\users\\bhiha\\anaconda3\\envs\\stellargraph-env\\lib\\site-packages (0.0.12)\n"
     ]
    }
   ],
   "source": [
    "!pip3 install pickle5\n",
    "import pickle5 as pickle\n",
    "\n",
    "with open(\"following_dict.pkl\", \"rb\") as file:\n",
    "    following_dict = pickle.load(file)"
   ]
  },
  {
   "cell_type": "code",
   "execution_count": 184,
   "metadata": {},
   "outputs": [],
   "source": [
    "users_data = pd.read_csv(\"data/profiles/extended_df_complete.csv\")\n",
    "users_data_clean = users_data.drop_duplicates(subset=[\"acct\"], keep=\"first\")\n",
    "users_data_clean = users_data_clean[users_data_clean[\"acct\"].isin(following_dict.keys())]"
   ]
  },
  {
   "cell_type": "code",
   "execution_count": 185,
   "metadata": {},
   "outputs": [
    {
     "data": {
      "text/plain": [
       "1528"
      ]
     },
     "execution_count": 185,
     "metadata": {},
     "output_type": "execute_result"
    }
   ],
   "source": [
    "len(users_data_clean)"
   ]
  },
  {
   "cell_type": "code",
   "execution_count": 303,
   "metadata": {},
   "outputs": [],
   "source": []
  },
  {
   "cell_type": "code",
   "execution_count": 313,
   "metadata": {},
   "outputs": [
    {
     "data": {
      "text/plain": [
       "24700"
      ]
     },
     "execution_count": 313,
     "metadata": {},
     "output_type": "execute_result"
    }
   ],
   "source": []
  },
  {
   "cell_type": "code",
   "execution_count": 287,
   "metadata": {},
   "outputs": [
    {
     "data": {
      "text/plain": [
       "[{'id': '108281471355576477',\n",
       "  'acct': 'ntnsndr@social.coop',\n",
       "  'url': 'https://social.coop/@ntnsndr',\n",
       "  'created_at': '2017-04-26T00:00:00.000Z',\n",
       "  'followers_count': 2636,\n",
       "  'following_count': 701,\n",
       "  'statuses_count': 4633,\n",
       "  'last_status_at': '2023-11-24',\n",
       "  'instance': 'https://social.coop/'},\n",
       " {'id': '109383542503003937',\n",
       "  'acct': 'hlauriejones',\n",
       "  'url': 'https://hci.social/@hlauriejones',\n",
       "  'created_at': '2022-11-21T00:00:00.000Z',\n",
       "  'followers_count': 1,\n",
       "  'following_count': 15,\n",
       "  'statuses_count': 0,\n",
       "  'last_status_at': '2023-02-16',\n",
       "  'instance': 'https://hci.social/'},\n",
       " {'id': '109381349901173914',\n",
       "  'acct': 'rodlux@maly.io',\n",
       "  'url': 'https://maly.io/@rodlux',\n",
       "  'created_at': '2022-11-20T00:00:00.000Z',\n",
       "  'followers_count': 552,\n",
       "  'following_count': 2953,\n",
       "  'statuses_count': 1315,\n",
       "  'last_status_at': '2023-11-21',\n",
       "  'instance': 'https://maly.io/'},\n",
       " {'id': '108280940426884986',\n",
       "  'acct': 'evanmpeck',\n",
       "  'url': 'https://hci.social/@evanmpeck',\n",
       "  'created_at': '2022-05-11T00:00:00.000Z',\n",
       "  'followers_count': 750,\n",
       "  'following_count': 291,\n",
       "  'statuses_count': 207,\n",
       "  'last_status_at': '2023-10-30',\n",
       "  'instance': 'https://hci.social/'},\n",
       " {'id': '109922322798915437',\n",
       "  'acct': 'joshua_paup',\n",
       "  'url': 'https://hci.social/@joshua_paup',\n",
       "  'created_at': '2023-02-24T00:00:00.000Z',\n",
       "  'followers_count': 11,\n",
       "  'following_count': 14,\n",
       "  'statuses_count': 1,\n",
       "  'last_status_at': '2023-09-28',\n",
       "  'instance': 'https://hci.social/'},\n",
       " {'id': '109286212438824477',\n",
       "  'acct': 'emilymbender@dair-community.social',\n",
       "  'url': 'https://dair-community.social/@emilymbender',\n",
       "  'created_at': '2022-11-04T00:00:00.000Z',\n",
       "  'followers_count': 21062,\n",
       "  'following_count': 344,\n",
       "  'statuses_count': 2508,\n",
       "  'last_status_at': '2023-11-24',\n",
       "  'instance': 'https://dair-community.social/'},\n",
       " {'id': '109300228694892432',\n",
       "  'acct': 'infinimatt',\n",
       "  'url': 'https://hci.social/@infinimatt',\n",
       "  'created_at': '2022-11-07T00:00:00.000Z',\n",
       "  'followers_count': 381,\n",
       "  'following_count': 601,\n",
       "  'statuses_count': 4299,\n",
       "  'last_status_at': '2023-11-25',\n",
       "  'instance': 'https://hci.social/'},\n",
       " {'id': '109569663505599096',\n",
       "  'acct': 'mdekstrand',\n",
       "  'url': 'https://hci.social/@mdekstrand',\n",
       "  'created_at': '2022-12-24T00:00:00.000Z',\n",
       "  'followers_count': 799,\n",
       "  'following_count': 463,\n",
       "  'statuses_count': 990,\n",
       "  'last_status_at': '2023-11-23',\n",
       "  'instance': 'https://hci.social/'},\n",
       " {'id': '111007491170416778',\n",
       "  'acct': 'stephan@them.cheeky.wales',\n",
       "  'url': 'https://them.cheeky.wales/@stephan',\n",
       "  'created_at': '2023-09-04T00:00:00.000Z',\n",
       "  'followers_count': 786,\n",
       "  'following_count': 870,\n",
       "  'statuses_count': 1574,\n",
       "  'last_status_at': '2023-11-24',\n",
       "  'instance': 'https://them.cheeky.wales/'},\n",
       " {'id': '110633919800553477',\n",
       "  'acct': 'cyberlyra@hachyderm.io',\n",
       "  'url': 'https://hachyderm.io/@cyberlyra',\n",
       "  'created_at': '2023-06-30T00:00:00.000Z',\n",
       "  'followers_count': 3269,\n",
       "  'following_count': 513,\n",
       "  'statuses_count': 571,\n",
       "  'last_status_at': '2023-11-24',\n",
       "  'instance': 'https://hachyderm.io/'},\n",
       " {'id': '110064508351942053',\n",
       "  'acct': 'hlauriejones@mastodon.social',\n",
       "  'url': 'https://mastodon.social/@hlauriejones',\n",
       "  'created_at': '2023-03-22T00:00:00.000Z',\n",
       "  'followers_count': 7,\n",
       "  'following_count': 13,\n",
       "  'statuses_count': 1,\n",
       "  'last_status_at': '2023-06-08',\n",
       "  'instance': 'https://mastodon.social/'},\n",
       " {'id': '109253008628854953',\n",
       "  'acct': 'jojoed@mastodon.social',\n",
       "  'url': 'https://mastodon.social/@jojoed',\n",
       "  'created_at': '2022-10-29T00:00:00.000Z',\n",
       "  'followers_count': 50,\n",
       "  'following_count': 165,\n",
       "  'statuses_count': 21,\n",
       "  'last_status_at': '2022-11-17',\n",
       "  'instance': 'https://mastodon.social/'},\n",
       " {'id': '109243855399509456',\n",
       "  'acct': 'melodwama',\n",
       "  'url': 'https://hci.social/@melodwama',\n",
       "  'created_at': '2022-10-28T00:00:00.000Z',\n",
       "  'followers_count': 48,\n",
       "  'following_count': 230,\n",
       "  'statuses_count': 0,\n",
       "  'last_status_at': None,\n",
       "  'instance': 'https://hci.social/'},\n",
       " {'id': '108784385297014450',\n",
       "  'acct': 'jonathan@charade.social',\n",
       "  'url': 'https://charade.social/users/jonathan',\n",
       "  'created_at': '2022-08-08T00:00:00.000Z',\n",
       "  'followers_count': 188,\n",
       "  'following_count': 424,\n",
       "  'statuses_count': 804,\n",
       "  'last_status_at': '2023-11-24',\n",
       "  'instance': 'https://charade.social'},\n",
       " {'id': '109322955539034366',\n",
       "  'acct': 'Caesar_X@dice.camp',\n",
       "  'url': 'https://dice.camp/@Caesar_X',\n",
       "  'created_at': '2022-11-07T00:00:00.000Z',\n",
       "  'followers_count': 34,\n",
       "  'following_count': 51,\n",
       "  'statuses_count': 14,\n",
       "  'last_status_at': None,\n",
       "  'instance': 'https://dice.camp/'},\n",
       " {'id': '109315706617208949',\n",
       "  'acct': 'khean@mastodon.design',\n",
       "  'url': 'https://mastodon.design/@khean',\n",
       "  'created_at': '2022-11-07T00:00:00.000Z',\n",
       "  'followers_count': 42,\n",
       "  'following_count': 72,\n",
       "  'statuses_count': 44,\n",
       "  'last_status_at': '2023-10-10',\n",
       "  'instance': 'https://mastodon.design/'},\n",
       " {'id': '109287358754208188',\n",
       "  'acct': 'tracky@mastodon.social',\n",
       "  'url': 'https://mastodon.social/@tracky',\n",
       "  'created_at': '2022-10-26T00:00:00.000Z',\n",
       "  'followers_count': 97,\n",
       "  'following_count': 222,\n",
       "  'statuses_count': 512,\n",
       "  'last_status_at': '2023-11-23',\n",
       "  'instance': 'https://mastodon.social/'},\n",
       " {'id': '109315322074635223',\n",
       "  'acct': 'ilen@mastodon.social',\n",
       "  'url': 'https://mastodon.social/@ilen',\n",
       "  'created_at': '2018-08-27T00:00:00.000Z',\n",
       "  'followers_count': 179,\n",
       "  'following_count': 271,\n",
       "  'statuses_count': 573,\n",
       "  'last_status_at': '2023-11-18',\n",
       "  'instance': 'https://mastodon.social/'},\n",
       " {'id': '109413837131966479',\n",
       "  'acct': 'msyvr@recurse.social',\n",
       "  'url': 'https://recurse.social/@msyvr',\n",
       "  'created_at': '2022-11-24T00:00:00.000Z',\n",
       "  'followers_count': 413,\n",
       "  'following_count': 665,\n",
       "  'statuses_count': 159,\n",
       "  'last_status_at': '2023-08-22',\n",
       "  'instance': 'https://recurse.social/'},\n",
       " {'id': '109380497285810571',\n",
       "  'acct': 'indiealexh@tny.social',\n",
       "  'url': 'https://tny.social/@indiealexh',\n",
       "  'created_at': '2022-11-22T00:00:00.000Z',\n",
       "  'followers_count': 197,\n",
       "  'following_count': 166,\n",
       "  'statuses_count': 567,\n",
       "  'last_status_at': '2023-11-18',\n",
       "  'instance': 'https://tny.social/'},\n",
       " {'id': '109297442164987771',\n",
       "  'acct': 'lsweeneymiran@toot.bldrweb.org',\n",
       "  'url': 'https://toot.bldrweb.org/@lsweeneymiran',\n",
       "  'created_at': '2022-11-06T00:00:00.000Z',\n",
       "  'followers_count': 919,\n",
       "  'following_count': 1869,\n",
       "  'statuses_count': 0,\n",
       "  'last_status_at': '2023-02-22',\n",
       "  'instance': 'https://toot.bldrweb.org/'},\n",
       " {'id': '109297785517181039',\n",
       "  'acct': 'ericmbudd@toot.bldrweb.org',\n",
       "  'url': 'https://toot.bldrweb.org/@ericmbudd',\n",
       "  'created_at': '2022-11-06T00:00:00.000Z',\n",
       "  'followers_count': 1193,\n",
       "  'following_count': 3624,\n",
       "  'statuses_count': 783,\n",
       "  'last_status_at': '2023-11-21',\n",
       "  'instance': 'https://toot.bldrweb.org/'},\n",
       " {'id': '109299258593763766',\n",
       "  'acct': 'vish@hachyderm.io',\n",
       "  'url': 'https://hachyderm.io/@vish',\n",
       "  'created_at': '2022-11-06T00:00:00.000Z',\n",
       "  'followers_count': 35,\n",
       "  'following_count': 67,\n",
       "  'statuses_count': 59,\n",
       "  'last_status_at': '2023-03-14',\n",
       "  'instance': 'https://hachyderm.io/'},\n",
       " {'id': '109247088196765503',\n",
       "  'acct': 'jritchie@mastodon.social',\n",
       "  'url': 'https://mastodon.social/@jritchie',\n",
       "  'created_at': '2022-10-28T00:00:00.000Z',\n",
       "  'followers_count': 309,\n",
       "  'following_count': 435,\n",
       "  'statuses_count': 124,\n",
       "  'last_status_at': '2023-06-14',\n",
       "  'instance': 'https://mastodon.social/'},\n",
       " {'id': '108280786728609112',\n",
       "  'acct': 'AlanDRitchie@mastodon.social',\n",
       "  'url': 'https://mastodon.social/@AlanDRitchie',\n",
       "  'created_at': '2022-04-25T00:00:00.000Z',\n",
       "  'followers_count': 107,\n",
       "  'following_count': 362,\n",
       "  'statuses_count': 17,\n",
       "  'last_status_at': '2023-11-09',\n",
       "  'instance': 'https://mastodon.social/'},\n",
       " {'id': '108236151346190358',\n",
       "  'acct': 'karger',\n",
       "  'url': 'https://hci.social/@karger',\n",
       "  'created_at': '2022-05-03T00:00:00.000Z',\n",
       "  'followers_count': 567,\n",
       "  'following_count': 106,\n",
       "  'statuses_count': 197,\n",
       "  'last_status_at': '2023-11-20',\n",
       "  'instance': 'https://hci.social/'},\n",
       " {'id': '109246920387216141',\n",
       "  'acct': 'div_online',\n",
       "  'url': 'https://hci.social/@div_online',\n",
       "  'created_at': '2022-10-28T00:00:00.000Z',\n",
       "  'followers_count': 42,\n",
       "  'following_count': 64,\n",
       "  'statuses_count': 9,\n",
       "  'last_status_at': '2023-01-02',\n",
       "  'instance': 'https://hci.social/'},\n",
       " {'id': '109249481015869430',\n",
       "  'acct': 'shamikalashawn',\n",
       "  'url': 'https://hci.social/@shamikalashawn',\n",
       "  'created_at': '2022-10-29T00:00:00.000Z',\n",
       "  'followers_count': 145,\n",
       "  'following_count': 122,\n",
       "  'statuses_count': 59,\n",
       "  'last_status_at': '2023-09-26',\n",
       "  'instance': 'https://hci.social/'},\n",
       " {'id': '108282263983363823',\n",
       "  'acct': 'alarith',\n",
       "  'url': 'https://hci.social/@alarith',\n",
       "  'created_at': '2022-05-11T00:00:00.000Z',\n",
       "  'followers_count': 207,\n",
       "  'following_count': 252,\n",
       "  'statuses_count': 182,\n",
       "  'last_status_at': '2023-11-23',\n",
       "  'instance': 'https://hci.social/'},\n",
       " {'id': '109243660992938384',\n",
       "  'acct': 'PavelASamsonov@mastodon.social',\n",
       "  'url': 'https://mastodon.social/@PavelASamsonov',\n",
       "  'created_at': '2022-10-28T00:00:00.000Z',\n",
       "  'followers_count': 3985,\n",
       "  'following_count': 914,\n",
       "  'statuses_count': 2367,\n",
       "  'last_status_at': '2023-11-17',\n",
       "  'instance': 'https://mastodon.social/'},\n",
       " {'id': '109251511743902458',\n",
       "  'acct': 'ophiryotam@mastodon.social',\n",
       "  'url': 'https://mastodon.social/@ophiryotam',\n",
       "  'created_at': '2022-10-29T00:00:00.000Z',\n",
       "  'followers_count': 694,\n",
       "  'following_count': 358,\n",
       "  'statuses_count': 251,\n",
       "  'last_status_at': '2023-05-14',\n",
       "  'instance': 'https://mastodon.social/'},\n",
       " {'id': '108236223653826827',\n",
       "  'acct': 'axz',\n",
       "  'url': 'https://hci.social/@axz',\n",
       "  'created_at': '2022-05-03T00:00:00.000Z',\n",
       "  'followers_count': 2422,\n",
       "  'following_count': 1177,\n",
       "  'statuses_count': 803,\n",
       "  'last_status_at': '2023-11-19',\n",
       "  'instance': 'https://hci.social/'},\n",
       " {'id': '108231283285506135',\n",
       "  'acct': 'YuhanLiu',\n",
       "  'url': 'https://hci.social/@YuhanLiu',\n",
       "  'created_at': '2022-05-02T00:00:00.000Z',\n",
       "  'followers_count': 119,\n",
       "  'following_count': 63,\n",
       "  'statuses_count': 10,\n",
       "  'last_status_at': '2023-09-20',\n",
       "  'instance': 'https://hci.social/'},\n",
       " {'id': '109218172527535005',\n",
       "  'acct': 'geomblog@mastodon.social',\n",
       "  'url': 'https://mastodon.social/@geomblog',\n",
       "  'created_at': '2022-10-21T00:00:00.000Z',\n",
       "  'followers_count': 1721,\n",
       "  'following_count': 326,\n",
       "  'statuses_count': 368,\n",
       "  'last_status_at': '2023-03-26',\n",
       "  'instance': 'https://mastodon.social/'},\n",
       " {'id': '109248656088746093',\n",
       "  'acct': 'aselbst@mastodon.social',\n",
       "  'url': 'https://mastodon.social/@aselbst',\n",
       "  'created_at': '2022-10-28T00:00:00.000Z',\n",
       "  'followers_count': 4,\n",
       "  'following_count': 4,\n",
       "  'statuses_count': 0,\n",
       "  'last_status_at': None,\n",
       "  'instance': 'https://mastodon.social/'},\n",
       " {'id': '109244322983410165',\n",
       "  'acct': 'carolinerpitt',\n",
       "  'url': 'https://hci.social/@carolinerpitt',\n",
       "  'created_at': '2022-10-28T00:00:00.000Z',\n",
       "  'followers_count': 575,\n",
       "  'following_count': 675,\n",
       "  'statuses_count': 650,\n",
       "  'last_status_at': '2023-11-20',\n",
       "  'instance': 'https://hci.social/'},\n",
       " {'id': '109248774045666943',\n",
       "  'acct': 'seeress_stasia@mastodon.social',\n",
       "  'url': 'https://mastodon.social/@seeress_stasia',\n",
       "  'created_at': '2022-10-29T00:00:00.000Z',\n",
       "  'followers_count': 12,\n",
       "  'following_count': 26,\n",
       "  'statuses_count': 22,\n",
       "  'last_status_at': '2022-12-23',\n",
       "  'instance': 'https://mastodon.social/'},\n",
       " {'id': '109248525508716712',\n",
       "  'acct': 'cfiesler',\n",
       "  'url': 'https://hci.social/@cfiesler',\n",
       "  'created_at': '2022-10-28T00:00:00.000Z',\n",
       "  'followers_count': 11630,\n",
       "  'following_count': 407,\n",
       "  'statuses_count': 1787,\n",
       "  'last_status_at': '2023-11-24',\n",
       "  'instance': 'https://hci.social/'},\n",
       " {'id': '109246287516331013',\n",
       "  'acct': 'joshmyersdean',\n",
       "  'url': 'https://hci.social/@joshmyersdean',\n",
       "  'created_at': '2022-10-28T00:00:00.000Z',\n",
       "  'followers_count': 9,\n",
       "  'following_count': 15,\n",
       "  'statuses_count': 2,\n",
       "  'last_status_at': '2022-10-28',\n",
       "  'instance': 'https://hci.social/'},\n",
       " {'id': '109246813694103173',\n",
       "  'acct': 'johannagunawan',\n",
       "  'url': 'https://hci.social/@johannagunawan',\n",
       "  'created_at': '2022-10-28T00:00:00.000Z',\n",
       "  'followers_count': 160,\n",
       "  'following_count': 110,\n",
       "  'statuses_count': 50,\n",
       "  'last_status_at': '2023-04-04',\n",
       "  'instance': 'https://hci.social/'},\n",
       " {'id': '108319681357082422',\n",
       "  'acct': 'schaferj',\n",
       "  'url': 'https://hci.social/@schaferj',\n",
       "  'created_at': '2022-05-17T00:00:00.000Z',\n",
       "  'followers_count': 722,\n",
       "  'following_count': 978,\n",
       "  'statuses_count': 182,\n",
       "  'last_status_at': '2023-11-06',\n",
       "  'instance': 'https://hci.social/'},\n",
       " {'id': '109236492681129439',\n",
       "  'acct': 'princess',\n",
       "  'url': 'https://hci.social/@princess',\n",
       "  'created_at': '2022-10-26T00:00:00.000Z',\n",
       "  'followers_count': 141,\n",
       "  'following_count': 113,\n",
       "  'statuses_count': 29,\n",
       "  'last_status_at': '2023-07-05',\n",
       "  'instance': 'https://hci.social/'},\n",
       " {'id': '109243077327270968',\n",
       "  'acct': 'MattNicholson',\n",
       "  'url': 'https://hci.social/@MattNicholson',\n",
       "  'created_at': '2022-10-28T00:00:00.000Z',\n",
       "  'followers_count': 61,\n",
       "  'following_count': 114,\n",
       "  'statuses_count': 8,\n",
       "  'last_status_at': '2023-10-31',\n",
       "  'instance': 'https://hci.social/'},\n",
       " {'id': '109246477924463986',\n",
       "  'acct': 'VCalambur',\n",
       "  'url': 'https://hci.social/@VCalambur',\n",
       "  'created_at': '2022-10-28T00:00:00.000Z',\n",
       "  'followers_count': 151,\n",
       "  'following_count': 215,\n",
       "  'statuses_count': 55,\n",
       "  'last_status_at': '2023-11-15',\n",
       "  'instance': 'https://hci.social/'},\n",
       " {'id': '109243943869810816',\n",
       "  'acct': 'blakeley',\n",
       "  'url': 'https://hci.social/@blakeley',\n",
       "  'created_at': '2022-10-28T00:00:00.000Z',\n",
       "  'followers_count': 154,\n",
       "  'following_count': 76,\n",
       "  'statuses_count': 29,\n",
       "  'last_status_at': '2023-05-25',\n",
       "  'instance': 'https://hci.social/'},\n",
       " {'id': '108233111945670878',\n",
       "  'acct': 'andresmh',\n",
       "  'url': 'https://hci.social/@andresmh',\n",
       "  'created_at': '2022-05-02T00:00:00.000Z',\n",
       "  'followers_count': 2577,\n",
       "  'following_count': 867,\n",
       "  'statuses_count': 6293,\n",
       "  'last_status_at': '2023-11-24',\n",
       "  'instance': 'https://hci.social/'},\n",
       " {'id': '108280517522446278',\n",
       "  'acct': 'jbigham',\n",
       "  'url': 'https://hci.social/@jbigham',\n",
       "  'created_at': '2022-05-11T00:00:00.000Z',\n",
       "  'followers_count': 2893,\n",
       "  'following_count': 1160,\n",
       "  'statuses_count': 3875,\n",
       "  'last_status_at': '2023-11-24',\n",
       "  'instance': 'https://hci.social/'},\n",
       " {'id': '108280556926327188',\n",
       "  'acct': 'bkeegan',\n",
       "  'url': 'https://hci.social/@bkeegan',\n",
       "  'created_at': '2022-05-11T00:00:00.000Z',\n",
       "  'followers_count': 2898,\n",
       "  'following_count': 1691,\n",
       "  'statuses_count': 5097,\n",
       "  'last_status_at': '2023-11-25',\n",
       "  'instance': 'https://hci.social/'}]"
      ]
     },
     "execution_count": 287,
     "metadata": {},
     "output_type": "execute_result"
    }
   ],
   "source": [
    "following_dict['Anas']"
   ]
  },
  {
   "cell_type": "code",
   "execution_count": 319,
   "metadata": {},
   "outputs": [
    {
     "data": {
      "text/plain": [
       "str"
      ]
     },
     "execution_count": 319,
     "metadata": {},
     "output_type": "execute_result"
    }
   ],
   "source": [
    "type(str(users_data_clean[users_data_clean[\"acct\"] == \"Anas\"]['id'].values[0]))"
   ]
  },
  {
   "cell_type": "code",
   "execution_count": 318,
   "metadata": {},
   "outputs": [
    {
     "data": {
      "text/plain": [
       "str"
      ]
     },
     "execution_count": 318,
     "metadata": {},
     "output_type": "execute_result"
    }
   ],
   "source": [
    "type(following_dict['Anas'][0]['id'])"
   ]
  },
  {
   "cell_type": "code",
   "execution_count": 341,
   "metadata": {},
   "outputs": [
    {
     "data": {
      "text/plain": [
       "1528"
      ]
     },
     "execution_count": 341,
     "metadata": {},
     "output_type": "execute_result"
    }
   ],
   "source": [
    "G_hci = nx.DiGraph()\n",
    "# use either dict as a statign point because they have the same keys!\n",
    "G_hci.add_nodes_from(users_data_clean[\"id\"].values)\n",
    "G_hci.number_of_nodes()"
   ]
  },
  {
   "cell_type": "code",
   "execution_count": 342,
   "metadata": {},
   "outputs": [],
   "source": [
    "# loop over the df\n",
    "\n",
    "for index, user in list(users_data_clean.iterrows()):\n",
    "    this_node = user[\"acct\"]\n",
    "    user_id = str(users_data_clean[users_data_clean[\"acct\"] == this_node][\"id\"].values[0])\n",
    "\n",
    "    if user_id not in G_hci:\n",
    "        G_hci.add_node(this_node)\n",
    "\n",
    "    # add the following edges\n",
    "    for user_following in following_dict[this_node]:\n",
    "        following_node = user_following[\"id\"]\n",
    "\n",
    "        if \"@\" in following_node:\n",
    "            # only get the local instance\n",
    "            # i.e. keep only hci.social\n",
    "            continue\n",
    "\n",
    "        if following_node not in G_hci.nodes:\n",
    "            G_hci.add_node(following_node)\n",
    " \n",
    "        candidate_edge = (user_id, following_node)\n",
    "\n",
    "        if candidate_edge not in G_hci.edges:\n",
    "            G_hci.add_edge(*candidate_edge)"
   ]
  },
  {
   "cell_type": "code",
   "execution_count": 343,
   "metadata": {},
   "outputs": [
    {
     "data": {
      "text/plain": [
       "24888"
      ]
     },
     "execution_count": 343,
     "metadata": {},
     "output_type": "execute_result"
    }
   ],
   "source": [
    "G_hci.number_of_nodes()"
   ]
  },
  {
   "cell_type": "code",
   "execution_count": 333,
   "metadata": {},
   "outputs": [
    {
     "data": {
      "text/plain": [
       "24888"
      ]
     },
     "execution_count": 333,
     "metadata": {},
     "output_type": "execute_result"
    }
   ],
   "source": [
    "len(set(G_hci.nodes))"
   ]
  },
  {
   "cell_type": "code",
   "execution_count": 272,
   "metadata": {},
   "outputs": [
    {
     "data": {
      "text/plain": [
       "85108"
      ]
     },
     "execution_count": 272,
     "metadata": {},
     "output_type": "execute_result"
    }
   ],
   "source": [
    "G_hci.number_of_edges()"
   ]
  },
  {
   "cell_type": "markdown",
   "metadata": {},
   "source": [
    "### Create features matrix"
   ]
  },
  {
   "cell_type": "code",
   "execution_count": null,
   "metadata": {},
   "outputs": [],
   "source": [
    "#create dataframe for features\n",
    "# https://stackoverflow.com/questions/42806398/create-adjacency-matrix-for-two-columns-in-pandas-dataframe"
   ]
  },
  {
   "cell_type": "code",
   "execution_count": 157,
   "metadata": {},
   "outputs": [],
   "source": [
    "# adj_matrix_df = pd.DataFrame(nx.to_numpy_array(G_hci), columns=G_hci.nodes, index=G_hci.nodes)"
   ]
  },
  {
   "cell_type": "code",
   "execution_count": 207,
   "metadata": {},
   "outputs": [],
   "source": [
    "users_data_clean[\"created_at\"] = pd.to_datetime(\n",
    "    users_data_clean[\"created_at\"]\n",
    ")  # conver\n",
    "\n",
    "users_data_clean[\"unix_timestamp\"] = (\n",
    "    users_data_clean[\"created_at\"].astype(int) // 10**9\n",
    ")  # Convert nanoseconds to secondst to datetime"
   ]
  },
  {
   "cell_type": "code",
   "execution_count": 233,
   "metadata": {},
   "outputs": [],
   "source": [
    "features = users_data_clean[\n",
    "    [\"id\",\"unix_timestamp\", \"followers_count\", \"following_count\", \"statuses_count\"]\n",
    "]\n",
    "features = features.set_index(\"id\")"
   ]
  },
  {
   "cell_type": "code",
   "execution_count": 234,
   "metadata": {},
   "outputs": [
    {
     "data": {
      "text/html": [
       "<div>\n",
       "<style scoped>\n",
       "    .dataframe tbody tr th:only-of-type {\n",
       "        vertical-align: middle;\n",
       "    }\n",
       "\n",
       "    .dataframe tbody tr th {\n",
       "        vertical-align: top;\n",
       "    }\n",
       "\n",
       "    .dataframe thead th {\n",
       "        text-align: right;\n",
       "    }\n",
       "</style>\n",
       "<table border=\"1\" class=\"dataframe\">\n",
       "  <thead>\n",
       "    <tr style=\"text-align: right;\">\n",
       "      <th></th>\n",
       "      <th>unix_timestamp</th>\n",
       "      <th>followers_count</th>\n",
       "      <th>following_count</th>\n",
       "      <th>statuses_count</th>\n",
       "    </tr>\n",
       "    <tr>\n",
       "      <th>id</th>\n",
       "      <th></th>\n",
       "      <th></th>\n",
       "      <th></th>\n",
       "      <th></th>\n",
       "    </tr>\n",
       "  </thead>\n",
       "  <tbody>\n",
       "    <tr>\n",
       "      <th>108286624813793740</th>\n",
       "      <td>1652313600</td>\n",
       "      <td>48</td>\n",
       "      <td>20</td>\n",
       "      <td>24</td>\n",
       "    </tr>\n",
       "    <tr>\n",
       "      <th>108286142941695868</th>\n",
       "      <td>1652313600</td>\n",
       "      <td>368</td>\n",
       "      <td>271</td>\n",
       "      <td>36</td>\n",
       "    </tr>\n",
       "    <tr>\n",
       "      <th>108286014897638184</th>\n",
       "      <td>1652227200</td>\n",
       "      <td>13</td>\n",
       "      <td>9</td>\n",
       "      <td>1</td>\n",
       "    </tr>\n",
       "    <tr>\n",
       "      <th>108285815791532398</th>\n",
       "      <td>1652227200</td>\n",
       "      <td>39</td>\n",
       "      <td>22</td>\n",
       "      <td>37</td>\n",
       "    </tr>\n",
       "    <tr>\n",
       "      <th>108285424167487793</th>\n",
       "      <td>1652227200</td>\n",
       "      <td>12</td>\n",
       "      <td>20</td>\n",
       "      <td>0</td>\n",
       "    </tr>\n",
       "  </tbody>\n",
       "</table>\n",
       "</div>"
      ],
      "text/plain": [
       "                    unix_timestamp  followers_count  following_count  \\\n",
       "id                                                                     \n",
       "108286624813793740      1652313600               48               20   \n",
       "108286142941695868      1652313600              368              271   \n",
       "108286014897638184      1652227200               13                9   \n",
       "108285815791532398      1652227200               39               22   \n",
       "108285424167487793      1652227200               12               20   \n",
       "\n",
       "                    statuses_count  \n",
       "id                                  \n",
       "108286624813793740              24  \n",
       "108286142941695868              36  \n",
       "108286014897638184               1  \n",
       "108285815791532398              37  \n",
       "108285424167487793               0  "
      ]
     },
     "execution_count": 234,
     "metadata": {},
     "output_type": "execute_result"
    }
   ],
   "source": [
    "features.head()"
   ]
  },
  {
   "cell_type": "code",
   "execution_count": 229,
   "metadata": {},
   "outputs": [
    {
     "name": "stdout",
     "output_type": "stream",
     "text": [
      "<class 'pandas.core.frame.DataFrame'>\n",
      "Int64Index: 1528 entries, 0 to 2161\n",
      "Data columns (total 5 columns):\n",
      " #   Column           Non-Null Count  Dtype\n",
      "---  ------           --------------  -----\n",
      " 0   id               1528 non-null   int64\n",
      " 1   unix_timestamp   1528 non-null   int64\n",
      " 2   followers_count  1528 non-null   int64\n",
      " 3   following_count  1528 non-null   int64\n",
      " 4   statuses_count   1528 non-null   int64\n",
      "dtypes: int64(5)\n",
      "memory usage: 71.6 KB\n"
     ]
    }
   ],
   "source": [
    "features.info()"
   ]
  },
  {
   "cell_type": "markdown",
   "metadata": {},
   "source": [
    "### Preparing the graph"
   ]
  },
  {
   "cell_type": "code",
   "execution_count": 235,
   "metadata": {},
   "outputs": [],
   "source": [
    "G = StellarGraph.from_networkx(\n",
    "    G_hci.to_undirected(),\n",
    "    node_type_default=\"user\",\n",
    "    edge_type_default=\"follows\",\n",
    "    node_features=features,\n",
    ")"
   ]
  },
  {
   "cell_type": "code",
   "execution_count": null,
   "metadata": {},
   "outputs": [],
   "source": []
  },
  {
   "cell_type": "code",
   "execution_count": 236,
   "metadata": {},
   "outputs": [
    {
     "name": "stdout",
     "output_type": "stream",
     "text": [
      "StellarGraph: Undirected multigraph\n",
      " Nodes: 1528, Edges: 0\n",
      "\n",
      " Node types:\n",
      "  user: [1528]\n",
      "    Features: float32 vector, length 4\n",
      "    Edge types: none\n",
      "\n",
      " Edge types:\n"
     ]
    }
   ],
   "source": [
    "print(G.info())"
   ]
  },
  {
   "cell_type": "code",
   "execution_count": 238,
   "metadata": {},
   "outputs": [
    {
     "ename": "IndexError",
     "evalue": "single positional indexer is out-of-bounds",
     "output_type": "error",
     "traceback": [
      "\u001b[1;31m---------------------------------------------------------------------------\u001b[0m",
      "\u001b[1;31mIndexError\u001b[0m                                Traceback (most recent call last)",
      "\u001b[1;32m<ipython-input-238-a804f2e0ad11>\u001b[0m in \u001b[0;36m<module>\u001b[1;34m\u001b[0m\n\u001b[0;32m      5\u001b[0m \u001b[1;31m# reduced graph G_test with the sampled links removed:\u001b[0m\u001b[1;33m\u001b[0m\u001b[1;33m\u001b[0m\u001b[1;33m\u001b[0m\u001b[0m\n\u001b[0;32m      6\u001b[0m G_test, edge_ids_test, edge_labels_test = edge_splitter_test.train_test_split(\n\u001b[1;32m----> 7\u001b[1;33m     \u001b[0mp\u001b[0m\u001b[1;33m=\u001b[0m\u001b[1;36m0.1\u001b[0m\u001b[1;33m,\u001b[0m \u001b[0mmethod\u001b[0m\u001b[1;33m=\u001b[0m\u001b[1;34m\"global\"\u001b[0m\u001b[1;33m,\u001b[0m \u001b[0mkeep_connected\u001b[0m\u001b[1;33m=\u001b[0m\u001b[1;32mTrue\u001b[0m\u001b[1;33m\u001b[0m\u001b[1;33m\u001b[0m\u001b[0m\n\u001b[0m\u001b[0;32m      8\u001b[0m )\n",
      "\u001b[1;32mc:\\Users\\bhiha\\anaconda3\\envs\\stellargraph-env\\lib\\site-packages\\stellargraph\\data\\edge_splitter.py\u001b[0m in \u001b[0;36mtrain_test_split\u001b[1;34m(self, p, method, probs, keep_connected, edge_label, edge_attribute_label, edge_attribute_threshold, attribute_is_datetime, seed)\u001b[0m\n\u001b[0;32m    376\u001b[0m         \u001b[1;32melse\u001b[0m\u001b[1;33m:\u001b[0m  \u001b[1;31m# working with a homogeneous graph\u001b[0m\u001b[1;33m\u001b[0m\u001b[1;33m\u001b[0m\u001b[0m\n\u001b[0;32m    377\u001b[0m             edge_data_ids, edge_data_labels = self._train_test_split_homogeneous(\n\u001b[1;32m--> 378\u001b[1;33m                 \u001b[0mp\u001b[0m\u001b[1;33m=\u001b[0m\u001b[0mp\u001b[0m\u001b[1;33m,\u001b[0m \u001b[0mmethod\u001b[0m\u001b[1;33m=\u001b[0m\u001b[0mmethod\u001b[0m\u001b[1;33m,\u001b[0m \u001b[0mprobs\u001b[0m\u001b[1;33m=\u001b[0m\u001b[0mprobs\u001b[0m\u001b[1;33m,\u001b[0m \u001b[0mkeep_connected\u001b[0m\u001b[1;33m=\u001b[0m\u001b[0mkeep_connected\u001b[0m\u001b[1;33m\u001b[0m\u001b[1;33m\u001b[0m\u001b[0m\n\u001b[0m\u001b[0;32m    379\u001b[0m             )\n\u001b[0;32m    380\u001b[0m \u001b[1;33m\u001b[0m\u001b[0m\n",
      "\u001b[1;32mc:\\Users\\bhiha\\anaconda3\\envs\\stellargraph-env\\lib\\site-packages\\stellargraph\\data\\edge_splitter.py\u001b[0m in \u001b[0;36m_train_test_split_homogeneous\u001b[1;34m(self, p, method, probs, keep_connected)\u001b[0m\n\u001b[0;32m    121\u001b[0m         \u001b[0mdf\u001b[0m \u001b[1;33m=\u001b[0m \u001b[0mpd\u001b[0m\u001b[1;33m.\u001b[0m\u001b[0mDataFrame\u001b[0m\u001b[1;33m(\u001b[0m\u001b[0mpositive_edges\u001b[0m\u001b[1;33m)\u001b[0m\u001b[1;33m\u001b[0m\u001b[1;33m\u001b[0m\u001b[0m\n\u001b[0;32m    122\u001b[0m         \u001b[0mself\u001b[0m\u001b[1;33m.\u001b[0m\u001b[0mpositive_edges_ids\u001b[0m \u001b[1;33m=\u001b[0m \u001b[0mnp\u001b[0m\u001b[1;33m.\u001b[0m\u001b[0marray\u001b[0m\u001b[1;33m(\u001b[0m\u001b[0mdf\u001b[0m\u001b[1;33m.\u001b[0m\u001b[0miloc\u001b[0m\u001b[1;33m[\u001b[0m\u001b[1;33m:\u001b[0m\u001b[1;33m,\u001b[0m \u001b[1;36m0\u001b[0m\u001b[1;33m:\u001b[0m\u001b[1;36m2\u001b[0m\u001b[1;33m]\u001b[0m\u001b[1;33m)\u001b[0m\u001b[1;33m\u001b[0m\u001b[1;33m\u001b[0m\u001b[0m\n\u001b[1;32m--> 123\u001b[1;33m         \u001b[0mself\u001b[0m\u001b[1;33m.\u001b[0m\u001b[0mpositive_edges_labels\u001b[0m \u001b[1;33m=\u001b[0m \u001b[0mnp\u001b[0m\u001b[1;33m.\u001b[0m\u001b[0marray\u001b[0m\u001b[1;33m(\u001b[0m\u001b[0mdf\u001b[0m\u001b[1;33m.\u001b[0m\u001b[0miloc\u001b[0m\u001b[1;33m[\u001b[0m\u001b[1;33m:\u001b[0m\u001b[1;33m,\u001b[0m \u001b[1;36m2\u001b[0m\u001b[1;33m]\u001b[0m\u001b[1;33m)\u001b[0m\u001b[1;33m\u001b[0m\u001b[1;33m\u001b[0m\u001b[0m\n\u001b[0m\u001b[0;32m    124\u001b[0m \u001b[1;33m\u001b[0m\u001b[0m\n\u001b[0;32m    125\u001b[0m         \u001b[1;32mif\u001b[0m \u001b[0mmethod\u001b[0m \u001b[1;33m==\u001b[0m \u001b[1;34m\"global\"\u001b[0m\u001b[1;33m:\u001b[0m\u001b[1;33m\u001b[0m\u001b[1;33m\u001b[0m\u001b[0m\n",
      "\u001b[1;32mc:\\Users\\bhiha\\anaconda3\\envs\\stellargraph-env\\lib\\site-packages\\pandas\\core\\indexing.py\u001b[0m in \u001b[0;36m__getitem__\u001b[1;34m(self, key)\u001b[0m\n\u001b[0;32m    871\u001b[0m                     \u001b[1;31m# AttributeError for IntervalTree get_value\u001b[0m\u001b[1;33m\u001b[0m\u001b[1;33m\u001b[0m\u001b[1;33m\u001b[0m\u001b[0m\n\u001b[0;32m    872\u001b[0m                     \u001b[1;32mpass\u001b[0m\u001b[1;33m\u001b[0m\u001b[1;33m\u001b[0m\u001b[0m\n\u001b[1;32m--> 873\u001b[1;33m             \u001b[1;32mreturn\u001b[0m \u001b[0mself\u001b[0m\u001b[1;33m.\u001b[0m\u001b[0m_getitem_tuple\u001b[0m\u001b[1;33m(\u001b[0m\u001b[0mkey\u001b[0m\u001b[1;33m)\u001b[0m\u001b[1;33m\u001b[0m\u001b[1;33m\u001b[0m\u001b[0m\n\u001b[0m\u001b[0;32m    874\u001b[0m         \u001b[1;32melse\u001b[0m\u001b[1;33m:\u001b[0m\u001b[1;33m\u001b[0m\u001b[1;33m\u001b[0m\u001b[0m\n\u001b[0;32m    875\u001b[0m             \u001b[1;31m# we by definition only have the 0th axis\u001b[0m\u001b[1;33m\u001b[0m\u001b[1;33m\u001b[0m\u001b[1;33m\u001b[0m\u001b[0m\n",
      "\u001b[1;32mc:\\Users\\bhiha\\anaconda3\\envs\\stellargraph-env\\lib\\site-packages\\pandas\\core\\indexing.py\u001b[0m in \u001b[0;36m_getitem_tuple\u001b[1;34m(self, tup)\u001b[0m\n\u001b[0;32m   1441\u001b[0m     \u001b[1;32mdef\u001b[0m \u001b[0m_getitem_tuple\u001b[0m\u001b[1;33m(\u001b[0m\u001b[0mself\u001b[0m\u001b[1;33m,\u001b[0m \u001b[0mtup\u001b[0m\u001b[1;33m:\u001b[0m \u001b[0mTuple\u001b[0m\u001b[1;33m)\u001b[0m\u001b[1;33m:\u001b[0m\u001b[1;33m\u001b[0m\u001b[1;33m\u001b[0m\u001b[0m\n\u001b[0;32m   1442\u001b[0m \u001b[1;33m\u001b[0m\u001b[0m\n\u001b[1;32m-> 1443\u001b[1;33m         \u001b[0mself\u001b[0m\u001b[1;33m.\u001b[0m\u001b[0m_has_valid_tuple\u001b[0m\u001b[1;33m(\u001b[0m\u001b[0mtup\u001b[0m\u001b[1;33m)\u001b[0m\u001b[1;33m\u001b[0m\u001b[1;33m\u001b[0m\u001b[0m\n\u001b[0m\u001b[0;32m   1444\u001b[0m         \u001b[1;32mtry\u001b[0m\u001b[1;33m:\u001b[0m\u001b[1;33m\u001b[0m\u001b[1;33m\u001b[0m\u001b[0m\n\u001b[0;32m   1445\u001b[0m             \u001b[1;32mreturn\u001b[0m \u001b[0mself\u001b[0m\u001b[1;33m.\u001b[0m\u001b[0m_getitem_lowerdim\u001b[0m\u001b[1;33m(\u001b[0m\u001b[0mtup\u001b[0m\u001b[1;33m)\u001b[0m\u001b[1;33m\u001b[0m\u001b[1;33m\u001b[0m\u001b[0m\n",
      "\u001b[1;32mc:\\Users\\bhiha\\anaconda3\\envs\\stellargraph-env\\lib\\site-packages\\pandas\\core\\indexing.py\u001b[0m in \u001b[0;36m_has_valid_tuple\u001b[1;34m(self, key)\u001b[0m\n\u001b[0;32m    700\u001b[0m                 \u001b[1;32mraise\u001b[0m \u001b[0mIndexingError\u001b[0m\u001b[1;33m(\u001b[0m\u001b[1;34m\"Too many indexers\"\u001b[0m\u001b[1;33m)\u001b[0m\u001b[1;33m\u001b[0m\u001b[1;33m\u001b[0m\u001b[0m\n\u001b[0;32m    701\u001b[0m             \u001b[1;32mtry\u001b[0m\u001b[1;33m:\u001b[0m\u001b[1;33m\u001b[0m\u001b[1;33m\u001b[0m\u001b[0m\n\u001b[1;32m--> 702\u001b[1;33m                 \u001b[0mself\u001b[0m\u001b[1;33m.\u001b[0m\u001b[0m_validate_key\u001b[0m\u001b[1;33m(\u001b[0m\u001b[0mk\u001b[0m\u001b[1;33m,\u001b[0m \u001b[0mi\u001b[0m\u001b[1;33m)\u001b[0m\u001b[1;33m\u001b[0m\u001b[1;33m\u001b[0m\u001b[0m\n\u001b[0m\u001b[0;32m    703\u001b[0m             \u001b[1;32mexcept\u001b[0m \u001b[0mValueError\u001b[0m \u001b[1;32mas\u001b[0m \u001b[0merr\u001b[0m\u001b[1;33m:\u001b[0m\u001b[1;33m\u001b[0m\u001b[1;33m\u001b[0m\u001b[0m\n\u001b[0;32m    704\u001b[0m                 raise ValueError(\n",
      "\u001b[1;32mc:\\Users\\bhiha\\anaconda3\\envs\\stellargraph-env\\lib\\site-packages\\pandas\\core\\indexing.py\u001b[0m in \u001b[0;36m_validate_key\u001b[1;34m(self, key, axis)\u001b[0m\n\u001b[0;32m   1350\u001b[0m             \u001b[1;32mreturn\u001b[0m\u001b[1;33m\u001b[0m\u001b[1;33m\u001b[0m\u001b[0m\n\u001b[0;32m   1351\u001b[0m         \u001b[1;32melif\u001b[0m \u001b[0mis_integer\u001b[0m\u001b[1;33m(\u001b[0m\u001b[0mkey\u001b[0m\u001b[1;33m)\u001b[0m\u001b[1;33m:\u001b[0m\u001b[1;33m\u001b[0m\u001b[1;33m\u001b[0m\u001b[0m\n\u001b[1;32m-> 1352\u001b[1;33m             \u001b[0mself\u001b[0m\u001b[1;33m.\u001b[0m\u001b[0m_validate_integer\u001b[0m\u001b[1;33m(\u001b[0m\u001b[0mkey\u001b[0m\u001b[1;33m,\u001b[0m \u001b[0maxis\u001b[0m\u001b[1;33m)\u001b[0m\u001b[1;33m\u001b[0m\u001b[1;33m\u001b[0m\u001b[0m\n\u001b[0m\u001b[0;32m   1353\u001b[0m         \u001b[1;32melif\u001b[0m \u001b[0misinstance\u001b[0m\u001b[1;33m(\u001b[0m\u001b[0mkey\u001b[0m\u001b[1;33m,\u001b[0m \u001b[0mtuple\u001b[0m\u001b[1;33m)\u001b[0m\u001b[1;33m:\u001b[0m\u001b[1;33m\u001b[0m\u001b[1;33m\u001b[0m\u001b[0m\n\u001b[0;32m   1354\u001b[0m             \u001b[1;31m# a tuple should already have been caught by this point\u001b[0m\u001b[1;33m\u001b[0m\u001b[1;33m\u001b[0m\u001b[1;33m\u001b[0m\u001b[0m\n",
      "\u001b[1;32mc:\\Users\\bhiha\\anaconda3\\envs\\stellargraph-env\\lib\\site-packages\\pandas\\core\\indexing.py\u001b[0m in \u001b[0;36m_validate_integer\u001b[1;34m(self, key, axis)\u001b[0m\n\u001b[0;32m   1435\u001b[0m         \u001b[0mlen_axis\u001b[0m \u001b[1;33m=\u001b[0m \u001b[0mlen\u001b[0m\u001b[1;33m(\u001b[0m\u001b[0mself\u001b[0m\u001b[1;33m.\u001b[0m\u001b[0mobj\u001b[0m\u001b[1;33m.\u001b[0m\u001b[0m_get_axis\u001b[0m\u001b[1;33m(\u001b[0m\u001b[0maxis\u001b[0m\u001b[1;33m)\u001b[0m\u001b[1;33m)\u001b[0m\u001b[1;33m\u001b[0m\u001b[1;33m\u001b[0m\u001b[0m\n\u001b[0;32m   1436\u001b[0m         \u001b[1;32mif\u001b[0m \u001b[0mkey\u001b[0m \u001b[1;33m>=\u001b[0m \u001b[0mlen_axis\u001b[0m \u001b[1;32mor\u001b[0m \u001b[0mkey\u001b[0m \u001b[1;33m<\u001b[0m \u001b[1;33m-\u001b[0m\u001b[0mlen_axis\u001b[0m\u001b[1;33m:\u001b[0m\u001b[1;33m\u001b[0m\u001b[1;33m\u001b[0m\u001b[0m\n\u001b[1;32m-> 1437\u001b[1;33m             \u001b[1;32mraise\u001b[0m \u001b[0mIndexError\u001b[0m\u001b[1;33m(\u001b[0m\u001b[1;34m\"single positional indexer is out-of-bounds\"\u001b[0m\u001b[1;33m)\u001b[0m\u001b[1;33m\u001b[0m\u001b[1;33m\u001b[0m\u001b[0m\n\u001b[0m\u001b[0;32m   1438\u001b[0m \u001b[1;33m\u001b[0m\u001b[0m\n\u001b[0;32m   1439\u001b[0m     \u001b[1;31m# -------------------------------------------------------------------\u001b[0m\u001b[1;33m\u001b[0m\u001b[1;33m\u001b[0m\u001b[1;33m\u001b[0m\u001b[0m\n",
      "\u001b[1;31mIndexError\u001b[0m: single positional indexer is out-of-bounds"
     ]
    }
   ],
   "source": [
    "# Define an edge splitter on the original graph G:\n",
    "edge_splitter_test = EdgeSplitter(G)\n",
    "\n",
    "# Randomly sample a fraction p=0.1 of all positive links, and same number of negative links, from G, and obtain the\n",
    "# reduced graph G_test with the sampled links removed:\n",
    "G_test, edge_ids_test, edge_labels_test = edge_splitter_test.train_test_split(\n",
    "    p=0.1, method=\"global\", keep_connected=True\n",
    ")"
   ]
  },
  {
   "cell_type": "code",
   "execution_count": 143,
   "metadata": {},
   "outputs": [
    {
     "name": "stdout",
     "output_type": "stream",
     "text": [
      "** Sampled 2379 positive and 2379 negative edges. **\n"
     ]
    }
   ],
   "source": [
    "# Define an edge splitter on the reduced graph G_test:\n",
    "edge_splitter_train = EdgeSplitter(G_test)\n",
    "\n",
    "# Randomly sample a fraction p=0.1 of all positive links, and same number of negative links, from G_test, and obtain the\n",
    "# reduced graph G_train with the sampled links removed:\n",
    "G_train, edge_ids_train, edge_labels_train = edge_splitter_train.train_test_split(\n",
    "    p=0.1, method=\"global\", keep_connected=True\n",
    ")"
   ]
  },
  {
   "cell_type": "markdown",
   "metadata": {},
   "source": [
    "### Creating the GCN link model"
   ]
  },
  {
   "cell_type": "code",
   "execution_count": 144,
   "metadata": {},
   "outputs": [],
   "source": [
    "epochs = 10"
   ]
  },
  {
   "cell_type": "code",
   "execution_count": 145,
   "metadata": {},
   "outputs": [
    {
     "name": "stdout",
     "output_type": "stream",
     "text": [
      "Using GCN (local pooling) filters...\n"
     ]
    }
   ],
   "source": [
    "train_gen = FullBatchLinkGenerator(G_train, method=\"gcn\")\n",
    "train_flow = train_gen.flow(edge_ids_train, edge_labels_train)"
   ]
  },
  {
   "cell_type": "code",
   "execution_count": 146,
   "metadata": {},
   "outputs": [
    {
     "name": "stdout",
     "output_type": "stream",
     "text": [
      "Using GCN (local pooling) filters...\n"
     ]
    }
   ],
   "source": [
    "test_gen = FullBatchLinkGenerator(G_test, method=\"gcn\")\n",
    "test_flow = train_gen.flow(edge_ids_test, edge_labels_test)"
   ]
  },
  {
   "cell_type": "code",
   "execution_count": 147,
   "metadata": {},
   "outputs": [],
   "source": [
    "gcn = GCN(\n",
    "    layer_sizes=[16, 16], activations=[\"relu\", \"relu\"], generator=train_gen, dropout=0.3\n",
    ")"
   ]
  },
  {
   "cell_type": "code",
   "execution_count": 148,
   "metadata": {},
   "outputs": [],
   "source": [
    "x_inp, x_out = gcn.in_out_tensors()"
   ]
  },
  {
   "cell_type": "code",
   "execution_count": 149,
   "metadata": {},
   "outputs": [],
   "source": [
    "prediction = LinkEmbedding(activation=\"relu\", method=\"ip\")(x_out)"
   ]
  },
  {
   "cell_type": "code",
   "execution_count": 150,
   "metadata": {},
   "outputs": [],
   "source": [
    "prediction = keras.layers.Reshape((-1,))(prediction)"
   ]
  },
  {
   "cell_type": "code",
   "execution_count": 151,
   "metadata": {},
   "outputs": [
    {
     "name": "stderr",
     "output_type": "stream",
     "text": [
      "c:\\Users\\bhiha\\anaconda3\\envs\\stellargraph-env\\lib\\site-packages\\keras\\optimizer_v2\\optimizer_v2.py:356: UserWarning: The `lr` argument is deprecated, use `learning_rate` instead.\n",
      "  \"The `lr` argument is deprecated, use `learning_rate` instead.\")\n"
     ]
    }
   ],
   "source": [
    "model = keras.Model(inputs=x_inp, outputs=prediction)\n",
    "\n",
    "model.compile(\n",
    "    optimizer=keras.optimizers.Adam(lr=0.01),\n",
    "    loss=keras.losses.binary_crossentropy,\n",
    "    metrics=[\"acc\"],\n",
    ")"
   ]
  },
  {
   "cell_type": "code",
   "execution_count": 152,
   "metadata": {},
   "outputs": [
    {
     "name": "stdout",
     "output_type": "stream",
     "text": [
      "1/1 [==============================] - 1s 584ms/step - loss: 1.6619 - acc: 0.0000e+00\n",
      "1/1 [==============================] - 0s 109ms/step - loss: 1.6737 - acc: 0.0000e+00\n",
      "\n",
      "Train Set Metrics of the initial (untrained) model:\n",
      "\tloss: 1.6619\n",
      "\tacc: 0.0000\n",
      "\n",
      "Test Set Metrics of the initial (untrained) model:\n",
      "\tloss: 1.6737\n",
      "\tacc: 0.0000\n"
     ]
    }
   ],
   "source": [
    "init_train_metrics = model.evaluate(train_flow)\n",
    "init_test_metrics = model.evaluate(test_flow)\n",
    "\n",
    "print(\"\\nTrain Set Metrics of the initial (untrained) model:\")\n",
    "for name, val in zip(model.metrics_names, init_train_metrics):\n",
    "    print(\"\\t{}: {:0.4f}\".format(name, val))\n",
    "\n",
    "print(\"\\nTest Set Metrics of the initial (untrained) model:\")\n",
    "for name, val in zip(model.metrics_names, init_test_metrics):\n",
    "    print(\"\\t{}: {:0.4f}\".format(name, val))"
   ]
  },
  {
   "cell_type": "markdown",
   "metadata": {},
   "source": [
    "#### Train the model"
   ]
  },
  {
   "cell_type": "code",
   "execution_count": 153,
   "metadata": {},
   "outputs": [
    {
     "name": "stdout",
     "output_type": "stream",
     "text": [
      "Epoch 1/10\n",
      "1/1 - 1s - loss: 1.6022 - acc: 0.0000e+00 - val_loss: 3.8070 - val_acc: 0.0000e+00\n",
      "Epoch 2/10\n",
      "1/1 - 0s - loss: 3.9069 - acc: 0.0000e+00 - val_loss: 2.8701 - val_acc: 0.0000e+00\n",
      "Epoch 3/10\n",
      "1/1 - 0s - loss: 2.8065 - acc: 0.0000e+00 - val_loss: 2.2929 - val_acc: 0.0000e+00\n",
      "Epoch 4/10\n",
      "1/1 - 0s - loss: 2.2551 - acc: 0.0000e+00 - val_loss: 1.2291 - val_acc: 0.0000e+00\n",
      "Epoch 5/10\n",
      "1/1 - 0s - loss: 1.2703 - acc: 0.0000e+00 - val_loss: 0.4322 - val_acc: 0.0000e+00\n",
      "Epoch 6/10\n",
      "1/1 - 0s - loss: 0.4070 - acc: 0.0000e+00 - val_loss: 0.5781 - val_acc: 0.0000e+00\n",
      "Epoch 7/10\n",
      "1/1 - 0s - loss: 0.5684 - acc: 0.0000e+00 - val_loss: 0.4457 - val_acc: 0.0000e+00\n",
      "Epoch 8/10\n",
      "1/1 - 0s - loss: 0.4136 - acc: 0.0000e+00 - val_loss: 0.5764 - val_acc: 0.0000e+00\n",
      "Epoch 9/10\n",
      "1/1 - 0s - loss: 0.6588 - acc: 0.0000e+00 - val_loss: 0.9112 - val_acc: 0.0000e+00\n",
      "Epoch 10/10\n",
      "1/1 - 0s - loss: 0.8812 - acc: 0.0000e+00 - val_loss: 0.7976 - val_acc: 0.0000e+00\n"
     ]
    }
   ],
   "source": [
    "history = model.fit(\n",
    "    train_flow, epochs=epochs, validation_data=test_flow, verbose=2, shuffle=False\n",
    ")"
   ]
  },
  {
   "cell_type": "code",
   "execution_count": 154,
   "metadata": {},
   "outputs": [
    {
     "data": {
      "image/png": "[encoded data removed]",
      "text/plain": [
       "<Figure size 504x576 with 2 Axes>"
      ]
     },
     "metadata": {
      "needs_background": "light"
     },
     "output_type": "display_data"
    }
   ],
   "source": [
    "sg.utils.plot_history(history)"
   ]
  },
  {
   "cell_type": "code",
   "execution_count": 155,
   "metadata": {},
   "outputs": [
    {
     "name": "stdout",
     "output_type": "stream",
     "text": [
      "1/1 [==============================] - 0s 131ms/step - loss: 0.8208 - acc: 0.0000e+00\n",
      "1/1 [==============================] - 0s 111ms/step - loss: 0.7976 - acc: 0.0000e+00\n",
      "\n",
      "Train Set Metrics of the trained model:\n",
      "\tloss: 0.8208\n",
      "\tacc: 0.0000\n",
      "\n",
      "Test Set Metrics of the trained model:\n",
      "\tloss: 0.7976\n",
      "\tacc: 0.0000\n"
     ]
    }
   ],
   "source": [
    "train_metrics = model.evaluate(train_flow)\n",
    "test_metrics = model.evaluate(test_flow)\n",
    "\n",
    "print(\"\\nTrain Set Metrics of the trained model:\")\n",
    "for name, val in zip(model.metrics_names, train_metrics):\n",
    "    print(\"\\t{}: {:0.4f}\".format(name, val))\n",
    "\n",
    "print(\"\\nTest Set Metrics of the trained model:\")\n",
    "for name, val in zip(model.metrics_names, test_metrics):\n",
    "    print(\"\\t{}: {:0.4f}\".format(name, val))"
   ]
  },
  {
   "cell_type": "code",
   "execution_count": null,
   "metadata": {},
   "outputs": [],
   "source": []
  }
 ],
 "metadata": {
  "kernelspec": {
   "display_name": "rec-sys-final-project",
   "language": "python",
   "name": "python3"
  },
  "language_info": {
   "codemirror_mode": {
    "name": "ipython",
    "version": 3
   },
   "file_extension": ".py",
   "mimetype": "text/x-python",
   "name": "python",
   "nbconvert_exporter": "python",
   "pygments_lexer": "ipython3",
   "version": "3.6.13"
  }
 },
 "nbformat": 4,
 "nbformat_minor": 2
}

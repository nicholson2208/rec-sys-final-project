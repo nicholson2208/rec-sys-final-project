{
 "cells": [
  {
   "cell_type": "markdown",
   "id": "a1e979ff-4059-47e7-97b8-2e3386f8f4d7",
   "metadata": {},
   "source": [
    "# Implement Personalized Pagerank\n",
    "\n",
    "[1] A. Langville and C. Meyer, “A survey of eigenvector methods of web information retrieval.” http://citeseer.ist.psu.edu/713792.html\n",
    "\n",
    "[2] Page, Lawrence; Brin, Sergey; Motwani, Rajeev and Winograd, Terry, The PageRank citation ranking: Bringing order to the Web. 1999 http://dbpubs.stanford.edu:8090/pub/showDoc.Fulltext?lang=en&doc=1999-66&format=pdf\n"
   ]
  },
  {
   "cell_type": "code",
   "execution_count": 3,
   "id": "3faad1ec-7808-477e-8644-04026d46e8cf",
   "metadata": {
    "tags": []
   },
   "outputs": [],
   "source": [
    "from abc import ABC, abstractmethod\n",
    "import numpy as np\n",
    "import pandas as pd\n",
    "import matplotlib.pyplot as plt\n",
    "import networkx as nx\n",
    "\n",
    "import pickle\n",
    "import random\n",
    "\n",
    "from collections import defaultdict"
   ]
  },
  {
   "cell_type": "markdown",
   "id": "2bae34a6-20be-42a8-be31-04c54c7a968e",
   "metadata": {},
   "source": [
    "## Read in files"
   ]
  },
  {
   "cell_type": "code",
   "execution_count": 4,
   "id": "3d01eb25-e95e-46bf-aa48-312e086bfa5f",
   "metadata": {
    "tags": []
   },
   "outputs": [],
   "source": [
    "def read_g_obj(file=\"adj_matrices/G_hci.pkl\", min_following=15):\n",
    "    with open(file, \"rb\") as pfile: \n",
    "        G = pickle.load(pfile)\n",
    "    \n",
    "    assert type(G) == nx.DiGraph\n",
    "    \n",
    "    # need to do k_core thing here\n",
    "    \n",
    "    # the networkx implementation doesn't work because only does \n",
    "    # total degree, not in or out degree\n",
    "    \n",
    "    min_user, min_n_followers = min(G.out_degree(), key=lambda x: x[1]) \n",
    "    \n",
    "    print(\"Min out degree -- person {} : \\t followers: {}\".format(min_user, min_n_followers))\n",
    "    \n",
    "    while min_n_followers < min_following:\n",
    "    \n",
    "        follows_at_least = [person for person, out_degree in G.out_degree() if out_degree >= min_following] \n",
    "\n",
    "        subgraph_hci = nx.subgraph(G, follows_at_least)\n",
    "        \n",
    "        G = subgraph_hci.copy()\n",
    "        \n",
    "        min_user, min_n_followers = min(G.out_degree(), key=lambda x: x[1])\n",
    "        print(\"Min out degree -- person {} : \\t followers: {}\".format(min_user, min_n_followers))\n",
    "\n",
    "    subgraph_hci = nx.subgraph(G, follows_at_least)\n",
    "    \n",
    "    return subgraph_hci"
   ]
  },
  {
   "cell_type": "code",
   "execution_count": 5,
   "id": "fa69da48-ccd7-443a-b70e-bc40195be27d",
   "metadata": {
    "tags": []
   },
   "outputs": [
    {
     "name": "stdout",
     "output_type": "stream",
     "text": [
      "Min out degree -- person vegabs : \t followers: 0\n",
      "Min out degree -- person denniswittchen : \t followers: 9\n",
      "Min out degree -- person PipzCorreiaz : \t followers: 13\n",
      "Min out degree -- person wafajohal : \t followers: 14\n",
      "Min out degree -- person katiewinkle : \t followers: 14\n",
      "Min out degree -- person healspersecond : \t followers: 15\n"
     ]
    }
   ],
   "source": [
    "subgraph_hci = read_g_obj(file=\"adj_matrices/G_hci.pkl\")"
   ]
  },
  {
   "cell_type": "code",
   "execution_count": 6,
   "id": "9252cef5-1738-4a96-9b96-2d5abd5a30f3",
   "metadata": {
    "tags": []
   },
   "outputs": [
    {
     "data": {
      "text/plain": [
       "25373"
      ]
     },
     "execution_count": 6,
     "metadata": {},
     "output_type": "execute_result"
    }
   ],
   "source": [
    "# this is the full graph!\n",
    "\n",
    "len(subgraph_hci.edges)"
   ]
  },
  {
   "cell_type": "code",
   "execution_count": 7,
   "id": "65845de3-fbbc-4818-be00-45fbc056382e",
   "metadata": {
    "tags": []
   },
   "outputs": [],
   "source": [
    "with open(\"train_test/new_folds/train-0.pkl\", \"rb\") as pfile: \n",
    "    train = pickle.load(pfile)"
   ]
  },
  {
   "cell_type": "code",
   "execution_count": 8,
   "id": "b86eff6c-5381-4df8-bf59-1187e6f65460",
   "metadata": {
    "tags": []
   },
   "outputs": [],
   "source": [
    "with open(\"train_test/new_folds/test-0.pkl\", \"rb\") as pfile: \n",
    "    test = pickle.load(pfile)"
   ]
  },
  {
   "cell_type": "code",
   "execution_count": null,
   "id": "b942738d-f443-4078-9240-3a035fa68191",
   "metadata": {
    "tags": []
   },
   "outputs": [],
   "source": []
  },
  {
   "cell_type": "markdown",
   "id": "090a289e-abb1-42b9-a891-6ae2b36e0e33",
   "metadata": {},
   "source": [
    "## Reconstruct Graph"
   ]
  },
  {
   "cell_type": "code",
   "execution_count": 9,
   "id": "1b24f61d-7b8b-4c27-9885-8bda13c13822",
   "metadata": {
    "tags": []
   },
   "outputs": [],
   "source": [
    "G_train = nx.from_edgelist(train, create_using=nx.DiGraph)"
   ]
  },
  {
   "cell_type": "code",
   "execution_count": 10,
   "id": "b5406b3a-8569-4dff-bf53-a9eec39912f2",
   "metadata": {
    "tags": []
   },
   "outputs": [
    {
     "data": {
      "text/plain": [
       "17028"
      ]
     },
     "execution_count": 10,
     "metadata": {},
     "output_type": "execute_result"
    }
   ],
   "source": [
    "# ok good, there is list 70% of the edges missing!\n",
    "len(G_train.edges)"
   ]
  },
  {
   "cell_type": "code",
   "execution_count": 11,
   "id": "70d8b401-7f97-47b6-af43-b5744f1775b5",
   "metadata": {
    "tags": []
   },
   "outputs": [
    {
     "data": {
      "text/plain": [
       "False"
      ]
     },
     "execution_count": 11,
     "metadata": {},
     "output_type": "execute_result"
    }
   ],
   "source": [
    "# make sure test set leakage\n",
    "\n",
    "any([train_edge in test for train_edge in list(G_train.edges)])"
   ]
  },
  {
   "cell_type": "markdown",
   "id": "02fb5ab6-85c3-4232-a660-431903a32276",
   "metadata": {},
   "source": [
    "Ok good, none of the test edges are in the train edges"
   ]
  },
  {
   "cell_type": "markdown",
   "id": "bc8a60c9-9f59-4131-b4cc-559bf596277e",
   "metadata": {},
   "source": [
    "## Do some object oriented stuff"
   ]
  },
  {
   "cell_type": "code",
   "execution_count": 12,
   "id": "53123dc8-2f27-4771-b9e2-6edeb28b0f00",
   "metadata": {
    "tags": []
   },
   "outputs": [],
   "source": [
    "class PageRanker:\n",
    "    def __init__(self, G, alpha=0.85):\n",
    "        \"\"\"\n",
    "        G (nx.DiGraph):\n",
    "            the graph object for this network\n",
    "        alpha (float):\n",
    "            the walk continues probability\n",
    "        \n",
    "        \"\"\"\n",
    "        \n",
    "        self.G = G\n",
    "        self.alpha = alpha\n",
    "        self.output = {}\n",
    "    \n",
    "    def get_overall_pagerank(self):\n",
    "        \n",
    "        # turn into a list so my other classes work\n",
    "        return [(k, v) for k,v in nx.pagerank(self.G, alpha=self.alpha).items()]\n",
    "    \n",
    "    def get_personalized_pagerank(self, node):\n",
    "        \"\"\"\n",
    "        node (str):\n",
    "            the name of the node\n",
    "        \"\"\"\n",
    "        \n",
    "        # you always go back to yourself\n",
    "        return [(k, v) for k,v in nx.pagerank(self.G, alpha=self.alpha, personalization={node : 1}).items()] \n",
    "    \n",
    "    def test(self, personalized=True):\n",
    "        \n",
    "        if not personalized:\n",
    "            self.output = {\"overall\" : self.get_overall_pagerank()}\n",
    "        else:\n",
    "            # compute personalized pagerank for every node\n",
    "            \n",
    "            for n in self.G.nodes:\n",
    "                self.output[n] = self.get_personalized_pagerank(n)\n",
    "                \n",
    "        return self.output\n",
    "        \n",
    "        \n",
    "            "
   ]
  },
  {
   "cell_type": "code",
   "execution_count": 13,
   "id": "39b1710c-7b08-4568-861d-f6ecdb321c69",
   "metadata": {
    "tags": []
   },
   "outputs": [],
   "source": [
    "class UserRecommendations:\n",
    "    def __init__(self):\n",
    "        self.recs = []\n",
    "        \n",
    "    def add_entry(self, entry):\n",
    "        self.recs.append(entry)\n",
    "        \n",
    "    def select_top_k(self, k):\n",
    "        self.recs = sorted(self.recs, key=lambda x: x[1], reverse=True)\n",
    "        if len(self.recs) > k:\n",
    "            self.recs = self.recs[0:k]\n",
    "\n",
    "            \n",
    "class TestRecommendations:\n",
    "    def __init__(self, G):\n",
    "        self.test_recs = defaultdict(UserRecommendations)\n",
    "        self.G = G\n",
    "        \n",
    "    def setup(self, preds, k):\n",
    "        \"\"\"\n",
    "        pred (dict)\n",
    "            of {user: [(other_user1, pr_score1), (other_user2, pr_score2)], ...}\n",
    "        \n",
    "        \"\"\"\n",
    "        \n",
    "        \n",
    "        for user, rec_list in preds.items():\n",
    "            for entry in rec_list:\n",
    "                try:\n",
    "                    if entry[0] == user:\n",
    "                        # don't add yourself to the recs\n",
    "                        continue\n",
    "\n",
    "                    if (user, entry[0]) in self.G.out_edges(user):\n",
    "                        # don't add nodes that already exist\n",
    "                        continue\n",
    "                    self.test_recs[user].add_entry(entry)\n",
    "                except Exception as e:\n",
    "                    print(e, \"-----\")\n",
    "                    print((user, entry[0]))\n",
    "        \"\"\"        \n",
    "        for entry in preds:\n",
    "            user = entry[0]\n",
    "            self.test_recs[user].add_entry(entry)\n",
    "        \"\"\"\n",
    "            \n",
    "        for user in self.test_recs.keys():\n",
    "            self.test_recs[user].select_top_k(k)\n",
    "            \n",
    "    def iter_recs(self):\n",
    "        for user in self.test_recs.keys():\n",
    "            yield (user, self.test_recs[user].recs)"
   ]
  },
  {
   "cell_type": "code",
   "execution_count": 14,
   "id": "49e78fa0-ad15-4158-a54a-0e891b913194",
   "metadata": {
    "tags": []
   },
   "outputs": [],
   "source": [
    "class Evaluator(ABC):\n",
    "    def __init__(self):\n",
    "        self.results_table = None\n",
    "        self.score = None\n",
    "        \n",
    "    def setup(self, trainset, testset):\n",
    "        pass\n",
    "    \n",
    "    def evaluate(self, test_recs: TestRecommendations):\n",
    "        # for every user and list of recommendations we produce, \n",
    "        # evaluate each user (which varies depending on list or itemwise)\n",
    "        # and then average that over all users!\n",
    "        \n",
    "        # make a \"best you can do list\"\n",
    "        \n",
    "        self.results_table = {}\n",
    "        scores = []\n",
    "        for user, recs in test_recs.iter_recs():\n",
    "            # score, weight = self.evaluate_user(user, recs)\n",
    "            \n",
    "            # if weighted\n",
    "                # append score * weight to scores\n",
    "                # append weight to \"best you can do list\"\n",
    "                \n",
    "            \n",
    "            score = self.evaluate_user(user, recs)\n",
    "            scores.append(score)\n",
    "            self.results_table[user] = score\n",
    "        self.score = np.mean(scores)\n",
    "        \n",
    "    @abstractmethod\n",
    "    def evaluate_user(self, user, user_recs):\n",
    "        pass\n",
    "    \n",
    "class ItemwiseEvaluator(Evaluator):\n",
    "    def evaluate_user(self, user, user_recs):\n",
    "        return np.mean([self.evaluate_pred(user, rec) for rec in user_recs[1]])\n",
    "    \n",
    "    @abstractmethod\n",
    "    def evaluate_pred(self, pred):\n",
    "        pass\n",
    "    \n",
    "class ListwiseEvaluator(Evaluator):\n",
    "    \n",
    "    @abstractmethod\n",
    "    def evaluate_user(self, user, user_recs):\n",
    "        pass\n"
   ]
  },
  {
   "cell_type": "code",
   "execution_count": 15,
   "id": "13e0912d-4929-429a-874d-70e1be7c6ac7",
   "metadata": {
    "tags": []
   },
   "outputs": [],
   "source": [
    "class NDCGEvaluator(ListwiseEvaluator):\n",
    "    \n",
    "    def __init__(self, k, kappa=20):\n",
    "        super().__init__()\n",
    "        self.k = k\n",
    "        self.kappa = kappa\n",
    "        self.rated_table = defaultdict(set)\n",
    "        self.idcg = {}\n",
    "    \n",
    "    def setup(self, trainset, testset):\n",
    "        for user, out_link in testset:\n",
    "            self.rated_table[user].add(out_link)\n",
    "                \n",
    "        idcg = 0\n",
    "        self.idcg[0] = 0\n",
    "        for i in range(0, self.k):\n",
    "            idcg += 1/np.log2(i+2)\n",
    "            self.idcg[i+1] = idcg\n",
    "                 \n",
    "    def evaluate_user(self, user, user_recs, weighted=False):\n",
    "        \"\"\"\n",
    "        user \n",
    "            node name\n",
    "            \n",
    "        user_recs\n",
    "            should be a list of (other node, pagerank) tuples\n",
    "            \n",
    "        weighted (bool):\n",
    "            if true, do inverse proponsity weighting w kappa\n",
    "        \n",
    "        \"\"\"\n",
    "        \n",
    "\n",
    "        dcg = 0.0\n",
    "        for i, rec in enumerate(user_recs):\n",
    "            # print(\"user:\", user, \"i\", i, \"rec:\" , rec)\n",
    "            \n",
    "            # the first thing in the tuple is the other edge\n",
    "            if rec[0] in self.rated_table[user]:\n",
    "                \n",
    "                #print(f'Rated: {i} Item {pred.iid}')\n",
    "                dcg += 1/np.log2(i+2)\n",
    "                \n",
    "        count_rated_things = len(self.rated_table[user])\n",
    "        if count_rated_things > self.k:\n",
    "            count_rated_things = self.k\n",
    "        \n",
    "        idcg = self.idcg[count_rated_things]\n",
    "        \n",
    "        if idcg == 0:\n",
    "            return 0\n",
    "        #print(dcg)\n",
    "        #print(idcg)\n",
    "        \n",
    "        return dcg/idcg\n",
    "        "
   ]
  },
  {
   "cell_type": "code",
   "execution_count": 16,
   "id": "23655e14-444f-448b-b643-696257531f9c",
   "metadata": {
    "tags": []
   },
   "outputs": [],
   "source": [
    "class PrecisionEvaluator(ItemwiseEvaluator):\n",
    "    \"\"\"\n",
    "\n",
    "    \"\"\"\n",
    "    \n",
    "    def __init__(self):\n",
    "        # I feel like this should be k?\n",
    "        # on second thought, no because I think we are looking at one item at a time?\n",
    "        \n",
    "        super().__init__()\n",
    "        self.rated_table = defaultdict(set)\n",
    "        \n",
    "    \n",
    "    def setup(self, trainset, testset):\n",
    "    \n",
    "        for user, out_link in testset:\n",
    "            self.rated_table[user].add(out_link)\n",
    "    \n",
    "    def evaluate_pred(self, user, pred):\n",
    "        \n",
    "        # print(\"user: \", user, \"pred: \", pred)\n",
    "        \n",
    "        # the node that you are linked to is the thing that is actually store\n",
    "        if pred in self.rated_table[user]:\n",
    "            return 1\n",
    "        else:\n",
    "            return 0\n",
    "\n",
    "            "
   ]
  },
  {
   "cell_type": "code",
   "execution_count": null,
   "id": "1acdc8ab-d84e-4f04-83e2-23ce2fb6f9c5",
   "metadata": {},
   "outputs": [],
   "source": []
  },
  {
   "cell_type": "code",
   "execution_count": null,
   "id": "eae3c138-9191-421b-ba3e-fbf6faa68663",
   "metadata": {},
   "outputs": [],
   "source": []
  },
  {
   "cell_type": "markdown",
   "id": "d0f42674-fb40-41b8-902d-6fd4f6cecb09",
   "metadata": {},
   "source": [
    "### Check this with a teeny graph"
   ]
  },
  {
   "cell_type": "code",
   "execution_count": 17,
   "id": "119bb1a4-ab97-4aa8-b91a-5516173f79c9",
   "metadata": {
    "tags": []
   },
   "outputs": [],
   "source": [
    "small_graph = nx.barabasi_albert_graph(20, 3, seed=20231211).to_directed()\n"
   ]
  },
  {
   "cell_type": "code",
   "execution_count": 18,
   "id": "7e04253d-4c20-4606-845e-0308d6559a4f",
   "metadata": {
    "tags": []
   },
   "outputs": [
    {
     "data": {
      "text/plain": [
       "NodeView((0, 1, 2, 3, 4, 5, 6, 7, 8, 9, 10, 11, 12, 13, 14, 15, 16, 17, 18, 19))"
      ]
     },
     "execution_count": 18,
     "metadata": {},
     "output_type": "execute_result"
    }
   ],
   "source": [
    "small_graph.nodes"
   ]
  },
  {
   "cell_type": "code",
   "execution_count": 19,
   "id": "41750e4d-dde2-4f8e-84fc-1157fe226319",
   "metadata": {
    "tags": []
   },
   "outputs": [
    {
     "data": {
      "text/plain": [
       "102"
      ]
     },
     "execution_count": 19,
     "metadata": {},
     "output_type": "execute_result"
    }
   ],
   "source": [
    "len(small_graph.edges())"
   ]
  },
  {
   "cell_type": "code",
   "execution_count": 20,
   "id": "43aee003-32a8-4c63-9ac8-ae3fabfc819f",
   "metadata": {
    "tags": []
   },
   "outputs": [
    {
     "name": "stdout",
     "output_type": "stream",
     "text": [
      "34\n"
     ]
    }
   ],
   "source": [
    "small_test_set = []\n",
    "\n",
    "for _ in range(len(small_graph.edges())//3):\n",
    "    edge = random.choice(list(small_graph.edges()))\n",
    "    \n",
    "    small_test_set.append(edge)\n",
    "    small_graph.remove_edges_from([edge])\n",
    "    \n",
    "\n",
    "print(len(small_test_set))"
   ]
  },
  {
   "cell_type": "code",
   "execution_count": 21,
   "id": "3e9183f4-b886-481e-8498-1798b8448b69",
   "metadata": {
    "tags": []
   },
   "outputs": [
    {
     "data": {
      "image/png": "[encoded data removed]",
      "text/plain": [
       "<Figure size 640x480 with 1 Axes>"
      ]
     },
     "metadata": {},
     "output_type": "display_data"
    }
   ],
   "source": [
    "fig, ax = plt.subplots()\n",
    "\n",
    "nx.draw(\n",
    "    small_graph, \n",
    "    pos=nx.spring_layout(small_graph, seed=2023),\n",
    "    ax=ax,\n",
    "    with_labels=True, \n",
    "    node_color=range(len(small_graph.nodes)), \n",
    "    node_size=100,\n",
    "    cmap=plt.cm.Blues\n",
    ")\n",
    "\n",
    "\n",
    "plt.tight_layout()\n",
    "\n",
    "plt.show()\n",
    "\n",
    "fig.savefig('graph_images/train.png', bbox_inches='tight')\n",
    "\n",
    "plt.close()"
   ]
  },
  {
   "cell_type": "code",
   "execution_count": 787,
   "id": "9540f2f9-1618-4a83-a707-65a4d9152f70",
   "metadata": {
    "tags": []
   },
   "outputs": [],
   "source": [
    "full_small_graph = small_graph.to_directed()\n",
    "\n",
    "edge_colors = [\"black\"] * len(full_small_graph.edges)\n",
    "\n",
    "for edge in small_test_set:\n",
    "    \n",
    "    full_small_graph.add_edges_from([edge])\n",
    "    # run again for red edges\n",
    "    edge_colors.append(\"red\")\n",
    "    "
   ]
  },
  {
   "cell_type": "code",
   "execution_count": 788,
   "id": "a0ed198d-98aa-44e2-87bd-bf281c53398c",
   "metadata": {
    "tags": []
   },
   "outputs": [
    {
     "data": {
      "image/png": "[encoded data removed]",
      "text/plain": [
       "<Figure size 640x480 with 1 Axes>"
      ]
     },
     "metadata": {},
     "output_type": "display_data"
    }
   ],
   "source": [
    "fig, ax = plt.subplots()\n",
    "\n",
    "nx.draw(\n",
    "    full_small_graph, \n",
    "    pos=nx.spring_layout(small_graph, seed=2023),\n",
    "    ax=ax,\n",
    "    with_labels=True, \n",
    "    node_color=range(len(full_small_graph.nodes)), \n",
    "    node_size=100,\n",
    "    cmap=plt.cm.Blues,\n",
    "    edge_color=edge_colors\n",
    ")\n",
    "\n",
    "plt.tight_layout()\n",
    "\n",
    "plt.show()\n",
    "\n",
    "# change this!\n",
    "fig.savefig('graph_images/test.png', bbox_inches='tight')\n",
    "\n",
    "plt.close()"
   ]
  },
  {
   "cell_type": "code",
   "execution_count": null,
   "id": "6664c7e7-b6ca-4662-9822-ebb4cb8c7fa8",
   "metadata": {},
   "outputs": [],
   "source": []
  },
  {
   "cell_type": "code",
   "execution_count": 22,
   "id": "11b9427b-db07-4bff-84b8-e65973fd5635",
   "metadata": {
    "tags": []
   },
   "outputs": [],
   "source": [
    "pageranker = PageRanker(small_graph)"
   ]
  },
  {
   "cell_type": "code",
   "execution_count": 23,
   "id": "7c4e2af3-191a-4f0b-874d-4cda04d01153",
   "metadata": {
    "tags": []
   },
   "outputs": [
    {
     "data": {
      "text/plain": [
       "{'overall': [(0, 0.12594592099475665),\n",
       "  (1, 0.06443405610853233),\n",
       "  (2, 0.08175833614287908),\n",
       "  (3, 0.02362873653561072),\n",
       "  (4, 0.07282080971708144),\n",
       "  (5, 0.06817181604517869),\n",
       "  (6, 0.05115929023510758),\n",
       "  (7, 0.02829906168029405),\n",
       "  (8, 0.034191661437745574),\n",
       "  (9, 0.03481585714944935),\n",
       "  (10, 0.039281984197134516),\n",
       "  (11, 0.05696841527543227),\n",
       "  (12, 0.05803939483215862),\n",
       "  (13, 0.029322538779374754),\n",
       "  (14, 0.040193962002788054),\n",
       "  (15, 0.06244101722048169),\n",
       "  (16, 0.022296761115251577),\n",
       "  (17, 0.0331162355817876),\n",
       "  (18, 0.02971106694639246),\n",
       "  (19, 0.043403078002562975)]}"
      ]
     },
     "execution_count": 23,
     "metadata": {},
     "output_type": "execute_result"
    }
   ],
   "source": [
    "pageranker.test(personalized=False)"
   ]
  },
  {
   "cell_type": "code",
   "execution_count": 24,
   "id": "a29f5223-998c-4744-a820-eb26a74cbcee",
   "metadata": {
    "tags": []
   },
   "outputs": [],
   "source": [
    "pageranker = PageRanker(small_graph)\n",
    "test_recs = pageranker.test(personalized=True)"
   ]
  },
  {
   "cell_type": "code",
   "execution_count": 25,
   "id": "0adc938e-3a1c-407f-a489-35070a3115b6",
   "metadata": {
    "tags": []
   },
   "outputs": [],
   "source": [
    "tr = TestRecommendations(small_graph)\n",
    "k = 5"
   ]
  },
  {
   "cell_type": "code",
   "execution_count": 26,
   "id": "b9c68b22-123d-4c3c-8222-bd3204cb7a20",
   "metadata": {
    "tags": []
   },
   "outputs": [],
   "source": [
    "tr.setup(test_recs, k=k)"
   ]
  },
  {
   "cell_type": "code",
   "execution_count": 27,
   "id": "b356aaea-3ae2-448e-ab7e-ea8a9a004b14",
   "metadata": {
    "tags": []
   },
   "outputs": [
    {
     "data": {
      "text/plain": [
       "(1,\n",
       " [(2, 0.05615512883332815),\n",
       "  (11, 0.044671606104278304),\n",
       "  (12, 0.0368918404197389),\n",
       "  (6, 0.03228140005476681),\n",
       "  (15, 0.03134029391603584)])"
      ]
     },
     "execution_count": 27,
     "metadata": {},
     "output_type": "execute_result"
    }
   ],
   "source": [
    "who_to_look_at = 1\n",
    "\n",
    "list(tr.iter_recs())[who_to_look_at]"
   ]
  },
  {
   "cell_type": "code",
   "execution_count": 28,
   "id": "62424ee3-3d1a-48f8-9645-8ca5162e8c68",
   "metadata": {
    "tags": []
   },
   "outputs": [
    {
     "data": {
      "text/plain": [
       "[11, 9]"
      ]
     },
     "execution_count": 28,
     "metadata": {},
     "output_type": "execute_result"
    }
   ],
   "source": [
    "# 0's outlinks in the test set\n",
    "[v for u, v in small_test_set if u == who_to_look_at]"
   ]
  },
  {
   "cell_type": "markdown",
   "id": "eca62399-9dde-47fb-a586-c2ba4f0d9931",
   "metadata": {},
   "source": [
    "So we got this right for this person!"
   ]
  },
  {
   "cell_type": "code",
   "execution_count": null,
   "id": "21782219-b616-4ffd-ba4f-e83b46e87e7c",
   "metadata": {},
   "outputs": [],
   "source": []
  },
  {
   "cell_type": "markdown",
   "id": "0320fab0-69cf-4a40-a6cd-8654e3723125",
   "metadata": {},
   "source": [
    "### Evaluate the little graph"
   ]
  },
  {
   "cell_type": "code",
   "execution_count": 29,
   "id": "e162cb01-22a4-449a-a9c0-5b0321ac6b28",
   "metadata": {
    "tags": []
   },
   "outputs": [],
   "source": [
    "ndcg = NDCGEvaluator(k=k)"
   ]
  },
  {
   "cell_type": "code",
   "execution_count": 30,
   "id": "34c348af-91ee-48d7-b563-c544b72933c2",
   "metadata": {
    "tags": []
   },
   "outputs": [],
   "source": [
    "ndcg.setup(trainset=None, testset=small_test_set)"
   ]
  },
  {
   "cell_type": "code",
   "execution_count": 31,
   "id": "f7e2832c-4d61-4267-85b2-f1c469aa54cf",
   "metadata": {
    "tags": []
   },
   "outputs": [],
   "source": [
    "ndcg.evaluate(tr)"
   ]
  },
  {
   "cell_type": "code",
   "execution_count": 32,
   "id": "d88ff4d5-146d-40dc-b817-867aa10653d4",
   "metadata": {
    "tags": []
   },
   "outputs": [
    {
     "data": {
      "text/plain": [
       "0.32822933520772124"
      ]
     },
     "execution_count": 32,
     "metadata": {},
     "output_type": "execute_result"
    }
   ],
   "source": [
    "ndcg.score"
   ]
  },
  {
   "cell_type": "markdown",
   "id": "50cb9e6a-3c44-457c-b1c3-d63df21ace74",
   "metadata": {},
   "source": [
    "I think this kind of graph is more or less the ideal case for this algorithm!"
   ]
  },
  {
   "cell_type": "markdown",
   "id": "5cf37f62-7110-409f-b1c6-4f7fe1e2f808",
   "metadata": {},
   "source": [
    "### Try again for precision"
   ]
  },
  {
   "cell_type": "code",
   "execution_count": 33,
   "id": "9586d558-b2c0-4d26-ae40-a4b410f4f9b4",
   "metadata": {
    "tags": []
   },
   "outputs": [],
   "source": [
    "precision = PrecisionEvaluator()"
   ]
  },
  {
   "cell_type": "code",
   "execution_count": 34,
   "id": "027479cb-ee85-42af-80fb-ea4a1298b7b7",
   "metadata": {
    "tags": []
   },
   "outputs": [],
   "source": [
    "precision.setup(trainset=None, testset=small_test_set)"
   ]
  },
  {
   "cell_type": "code",
   "execution_count": 35,
   "id": "ef868d72-4897-4b55-a65e-194ac87c7eed",
   "metadata": {
    "tags": []
   },
   "outputs": [],
   "source": [
    "precision.evaluate(tr)"
   ]
  },
  {
   "cell_type": "code",
   "execution_count": 36,
   "id": "c4809355-b75f-4600-b7fd-3b6b728a9366",
   "metadata": {
    "tags": []
   },
   "outputs": [
    {
     "data": {
      "text/plain": [
       "0.15"
      ]
     },
     "execution_count": 36,
     "metadata": {},
     "output_type": "execute_result"
    }
   ],
   "source": [
    "precision.score"
   ]
  },
  {
   "cell_type": "code",
   "execution_count": null,
   "id": "03b8dd6c-3323-4bed-b2a3-5bdbd82bc089",
   "metadata": {},
   "outputs": [],
   "source": []
  },
  {
   "cell_type": "code",
   "execution_count": null,
   "id": "e1b82728-e29e-4fbb-98f3-e59e811980f2",
   "metadata": {},
   "outputs": [],
   "source": []
  },
  {
   "cell_type": "code",
   "execution_count": null,
   "id": "8f659ef8-d3d0-46b7-81d5-86f772f09e13",
   "metadata": {},
   "outputs": [],
   "source": []
  },
  {
   "cell_type": "code",
   "execution_count": null,
   "id": "df72b45d-aed2-46d4-aadb-e0f7ca0401f6",
   "metadata": {},
   "outputs": [],
   "source": []
  },
  {
   "cell_type": "markdown",
   "id": "0568f561-c6fd-4252-8164-6ab106bb0018",
   "metadata": {},
   "source": [
    "## Try it on the HCI social network"
   ]
  },
  {
   "cell_type": "code",
   "execution_count": 743,
   "id": "bdd470fe-1d3f-4bcf-89df-15c3cea5c0e4",
   "metadata": {
    "tags": []
   },
   "outputs": [],
   "source": [
    "# make a personalized page ranker\n",
    "pageranker_hci = PageRanker(G_train)"
   ]
  },
  {
   "cell_type": "code",
   "execution_count": 744,
   "id": "e28a85c4-a4dc-4113-a9ef-2a9aa7c00a90",
   "metadata": {
    "tags": []
   },
   "outputs": [],
   "source": [
    "# actually make the lists\n",
    "hci_test_recs = pageranker_hci.test(personalized=True)"
   ]
  },
  {
   "cell_type": "code",
   "execution_count": null,
   "id": "c02abc66-09db-4bd8-aebb-b4591bc6bf84",
   "metadata": {
    "tags": []
   },
   "outputs": [],
   "source": []
  },
  {
   "cell_type": "code",
   "execution_count": 745,
   "id": "5de4c3ec-2a20-4222-abaf-4748ab974aec",
   "metadata": {
    "tags": []
   },
   "outputs": [],
   "source": [
    "tr_hci = TestRecommendations(G_train)\n",
    "k = 10"
   ]
  },
  {
   "cell_type": "code",
   "execution_count": 746,
   "id": "febb396d-ab07-4224-b5f9-06841a152bfb",
   "metadata": {
    "tags": []
   },
   "outputs": [],
   "source": [
    "tr_hci.setup(hci_test_recs, k=k)"
   ]
  },
  {
   "cell_type": "code",
   "execution_count": 747,
   "id": "24e7e6e3-9ac9-459b-bcd2-37c3c24b46a4",
   "metadata": {
    "tags": []
   },
   "outputs": [
    {
     "data": {
      "text/plain": [
       "('cqz',\n",
       " [('andresmh', 0.014141595061890956),\n",
       "  ('cfiesler', 0.011183978518350377),\n",
       "  ('sigchi', 0.010319217162547642),\n",
       "  ('bkeegan', 0.00856568847807107),\n",
       "  ('eglassman', 0.007818924626093826),\n",
       "  ('karger', 0.006580948746305845),\n",
       "  ('asb', 0.006100367291919069),\n",
       "  ('pg', 0.005998760601801219),\n",
       "  ('schaferj', 0.005478183319907581),\n",
       "  ('Niloufar', 0.005474557725866605)])"
      ]
     },
     "execution_count": 747,
     "metadata": {},
     "output_type": "execute_result"
    }
   ],
   "source": [
    "list(tr_hci.iter_recs())[0]"
   ]
  },
  {
   "cell_type": "markdown",
   "id": "c8cb5a41-9783-4836-b4be-115195752edd",
   "metadata": {},
   "source": [
    "I think these are mostly just the popular people, but I think they are reasonable good tbh"
   ]
  },
  {
   "cell_type": "code",
   "execution_count": null,
   "id": "240aeb45-62f5-43dd-aa7b-fecae11d89a8",
   "metadata": {},
   "outputs": [],
   "source": []
  },
  {
   "cell_type": "markdown",
   "id": "689e97f3-dba8-4f38-9428-3ffd0258ca09",
   "metadata": {},
   "source": [
    "### Evaluate on the hci.social network!"
   ]
  },
  {
   "cell_type": "markdown",
   "id": "390ccc8b-df32-4118-9a66-3ca821e8b7a5",
   "metadata": {},
   "source": [
    "#### NDCG"
   ]
  },
  {
   "cell_type": "code",
   "execution_count": 748,
   "id": "96a935cf-00d2-44c6-8094-d96fba28d34a",
   "metadata": {
    "tags": []
   },
   "outputs": [],
   "source": [
    "ndcg_hci = NDCGEvaluator(k=k)"
   ]
  },
  {
   "cell_type": "code",
   "execution_count": 749,
   "id": "8ecaefac-e9d2-41cd-b662-176f3a6810a1",
   "metadata": {
    "tags": []
   },
   "outputs": [],
   "source": [
    "ndcg_hci.setup(trainset=None, testset=test)"
   ]
  },
  {
   "cell_type": "code",
   "execution_count": 750,
   "id": "6a2f6bdf-5bb5-43c8-b20e-cbddb8b5b3e2",
   "metadata": {
    "tags": []
   },
   "outputs": [],
   "source": [
    "ndcg_hci.evaluate(tr_hci)"
   ]
  },
  {
   "cell_type": "code",
   "execution_count": 751,
   "id": "ad91da0a-fcfa-43ab-8ed4-b45b50452aa1",
   "metadata": {
    "tags": []
   },
   "outputs": [
    {
     "data": {
      "text/plain": [
       "0.3574737929846333"
      ]
     },
     "execution_count": 751,
     "metadata": {},
     "output_type": "execute_result"
    }
   ],
   "source": [
    "ndcg_hci.score"
   ]
  },
  {
   "cell_type": "code",
   "execution_count": null,
   "id": "61de2e0b-1533-4c22-9751-92dd665886ad",
   "metadata": {},
   "outputs": [],
   "source": []
  },
  {
   "cell_type": "markdown",
   "id": "7e99fef9-ee49-4518-8ace-d6fb8a0a7459",
   "metadata": {},
   "source": [
    "#### Precision"
   ]
  },
  {
   "cell_type": "code",
   "execution_count": 756,
   "id": "50f1dd43-62a9-4cd1-b592-2fc693b94e34",
   "metadata": {
    "tags": []
   },
   "outputs": [],
   "source": [
    "precision_hci = PrecisionEvaluator()"
   ]
  },
  {
   "cell_type": "code",
   "execution_count": 757,
   "id": "598579bf-aa64-4540-a683-8aec4bd3db0b",
   "metadata": {
    "tags": []
   },
   "outputs": [],
   "source": [
    "precision_hci.setup(trainset=None, testset=test)"
   ]
  },
  {
   "cell_type": "code",
   "execution_count": 758,
   "id": "d3f194d2-843b-4a18-a596-cc55cbeb7f54",
   "metadata": {
    "tags": []
   },
   "outputs": [],
   "source": [
    "precision_hci.evaluate(tr_hci)"
   ]
  },
  {
   "cell_type": "code",
   "execution_count": 759,
   "id": "e1a54b1a-095a-4717-9f74-568d608373e8",
   "metadata": {
    "tags": []
   },
   "outputs": [
    {
     "data": {
      "text/plain": [
       "0.17775229357798164"
      ]
     },
     "execution_count": 759,
     "metadata": {},
     "output_type": "execute_result"
    }
   ],
   "source": [
    "precision_hci.score"
   ]
  },
  {
   "cell_type": "code",
   "execution_count": null,
   "id": "ffbfe4d9-1b3b-48b7-9db6-98d028d7fb28",
   "metadata": {},
   "outputs": [],
   "source": []
  },
  {
   "cell_type": "code",
   "execution_count": null,
   "id": "1ec9f2a1-24c8-496a-8da8-6ad90028a571",
   "metadata": {},
   "outputs": [],
   "source": []
  },
  {
   "cell_type": "markdown",
   "id": "2cf235b7-5359-43fb-b9f1-bfff96dfadbd",
   "metadata": {},
   "source": [
    "### What were our predictions?"
   ]
  },
  {
   "cell_type": "code",
   "execution_count": 761,
   "id": "8c45fbe9-51db-4f75-a5d9-93cc78c69755",
   "metadata": {
    "tags": []
   },
   "outputs": [],
   "source": [
    "predictions_for_group_members = {person : recs for person, recs in list(tr_hci.iter_recs()) if person in [\"MattNicholson\", \"Anas\", \"joshua_paup\"]}"
   ]
  },
  {
   "cell_type": "code",
   "execution_count": 762,
   "id": "7e5bbf99-cadf-448a-99af-d7a5841f6174",
   "metadata": {
    "tags": []
   },
   "outputs": [
    {
     "data": {
      "text/plain": [
       "{'Anas': [('jbigham', 0.015253961761082433),\n",
       "  ('axz', 0.014717452446619123),\n",
       "  ('cfiesler', 0.013304014783501215),\n",
       "  ('msbernst', 0.009772189320218956),\n",
       "  ('sigchi', 0.009342579027846337),\n",
       "  ('evanmpeck', 0.007374007303636113),\n",
       "  ('andrewkuznet', 0.006244520581815264),\n",
       "  ('eglassman', 0.006130533589948601),\n",
       "  ('karger', 0.006064400761149096),\n",
       "  ('asb', 0.005275829675226331)],\n",
       " 'MattNicholson': [('andresmh', 0.014971126125034944),\n",
       "  ('jbigham', 0.014519149819718863),\n",
       "  ('cfiesler', 0.014000958110323224),\n",
       "  ('bkeegan', 0.011284465571242198),\n",
       "  ('msbernst', 0.011185576791757974),\n",
       "  ('sigchi', 0.009712298266131235),\n",
       "  ('eglassman', 0.006537289401427013),\n",
       "  ('Niloufar', 0.0056505360155276125),\n",
       "  ('asb', 0.005249527941814375),\n",
       "  ('Heycori', 0.005060283786894351)],\n",
       " 'joshua_paup': [('jbigham', 0.014264464016354643),\n",
       "  ('axz', 0.014098067802131525),\n",
       "  ('msbernst', 0.010968529144768438),\n",
       "  ('sigchi', 0.008983777279331676),\n",
       "  ('eglassman', 0.006871724999374532),\n",
       "  ('karger', 0.006463161402094938),\n",
       "  ('carolinerpitt', 0.005328330762100704),\n",
       "  ('drmaxlwilson', 0.005208526834869751),\n",
       "  ('barik', 0.005153662119495337),\n",
       "  ('asb', 0.005076032898808879)]}"
      ]
     },
     "execution_count": 762,
     "metadata": {},
     "output_type": "execute_result"
    }
   ],
   "source": [
    "predictions_for_group_members"
   ]
  },
  {
   "cell_type": "code",
   "execution_count": 771,
   "id": "cd8bfeb6-1c8b-4f9c-a04f-ceabe378e609",
   "metadata": {
    "tags": []
   },
   "outputs": [],
   "source": [
    "def check_predictions(predictions_for_group_members, test):\n",
    "    \"\"\"\n",
    "    a function for checking (1) how many it got right -- this is precision -- and (2) the next 3 people you should follow\n",
    "    \n",
    "    Params:\n",
    "        predictions_for_group_members (this is a dict):\n",
    "            a dictionary with our names as keys, and rec list as the values\n",
    "            for me, a rec list is (person, score) tuples\n",
    "        test (list):\n",
    "            an edge list of our test set\n",
    "    \n",
    "    Returns:\n",
    "        output_dict (dict):\n",
    "            our names as keys, {\"predicted\" : [list of preds], \"correct\" : [list of correctly predicted users], \n",
    "            \"you should follow\" : [list of ppl]}\n",
    "    \"\"\"\n",
    "    \n",
    "    output_dict = {}\n",
    "    \n",
    "    for person, recs in predictions_for_group_members.items():\n",
    "        predicted = []\n",
    "        correct_prediction = []\n",
    "        people_I_should_follow = []\n",
    "        \n",
    "        \n",
    "        for rec in recs:\n",
    "            # my list of recs is a (person, score) tuples\n",
    "            predicted.append(rec[0])\n",
    "            \n",
    "            if (person, rec[0]) in test:\n",
    "                correct_prediction.append(rec[0])\n",
    "            else:\n",
    "                people_I_should_follow.append(rec[0])\n",
    "            \n",
    "        \n",
    "        output_dict[person] = dict(predicted=predicted, correct=correct_prediction, should_follow=people_I_should_follow)\n",
    "    \n",
    "    return output_dict\n",
    "        \n",
    "    "
   ]
  },
  {
   "cell_type": "code",
   "execution_count": null,
   "id": "60fb1924-a65d-47a6-b494-8db855289374",
   "metadata": {},
   "outputs": [],
   "source": []
  },
  {
   "cell_type": "code",
   "execution_count": 772,
   "id": "20313259-6862-44bf-9fd4-792b6f42cd4d",
   "metadata": {
    "tags": []
   },
   "outputs": [
    {
     "data": {
      "text/plain": [
       "{'Anas': {'predicted': ['jbigham',\n",
       "   'axz',\n",
       "   'cfiesler',\n",
       "   'msbernst',\n",
       "   'sigchi',\n",
       "   'evanmpeck',\n",
       "   'andrewkuznet',\n",
       "   'eglassman',\n",
       "   'karger',\n",
       "   'asb'],\n",
       "  'correct': ['jbigham', 'axz', 'cfiesler', 'evanmpeck', 'karger'],\n",
       "  'should_follow': ['msbernst', 'sigchi', 'andrewkuznet', 'eglassman', 'asb']},\n",
       " 'MattNicholson': {'predicted': ['andresmh',\n",
       "   'jbigham',\n",
       "   'cfiesler',\n",
       "   'bkeegan',\n",
       "   'msbernst',\n",
       "   'sigchi',\n",
       "   'eglassman',\n",
       "   'Niloufar',\n",
       "   'asb',\n",
       "   'Heycori'],\n",
       "  'correct': ['msbernst', 'sigchi', 'eglassman'],\n",
       "  'should_follow': ['andresmh',\n",
       "   'jbigham',\n",
       "   'cfiesler',\n",
       "   'bkeegan',\n",
       "   'Niloufar',\n",
       "   'asb',\n",
       "   'Heycori']},\n",
       " 'joshua_paup': {'predicted': ['jbigham',\n",
       "   'axz',\n",
       "   'msbernst',\n",
       "   'sigchi',\n",
       "   'eglassman',\n",
       "   'karger',\n",
       "   'carolinerpitt',\n",
       "   'drmaxlwilson',\n",
       "   'barik',\n",
       "   'asb'],\n",
       "  'correct': ['axz'],\n",
       "  'should_follow': ['jbigham',\n",
       "   'msbernst',\n",
       "   'sigchi',\n",
       "   'eglassman',\n",
       "   'karger',\n",
       "   'carolinerpitt',\n",
       "   'drmaxlwilson',\n",
       "   'barik',\n",
       "   'asb']}}"
      ]
     },
     "execution_count": 772,
     "metadata": {},
     "output_type": "execute_result"
    }
   ],
   "source": [
    "check_predictions(predictions_for_group_members, test)"
   ]
  },
  {
   "cell_type": "code",
   "execution_count": 770,
   "id": "36a3f2d9-fb4b-45d6-8f73-3eb67059da23",
   "metadata": {
    "tags": []
   },
   "outputs": [
    {
     "data": {
      "text/plain": [
       "19"
      ]
     },
     "execution_count": 770,
     "metadata": {},
     "output_type": "execute_result"
    }
   ],
   "source": [
    "len(G_train.edges(\"MattNicholson\"))"
   ]
  },
  {
   "cell_type": "code",
   "execution_count": 768,
   "id": "fced9692-725a-4f85-b2cb-2cd721dbe860",
   "metadata": {
    "tags": []
   },
   "outputs": [],
   "source": [
    "matt_test_links = [v for u, v in test if u in [\"MattNicholson\"]]"
   ]
  },
  {
   "cell_type": "code",
   "execution_count": 769,
   "id": "852a6f46-c562-43c0-a8ef-a7b1361144f2",
   "metadata": {
    "tags": []
   },
   "outputs": [
    {
     "data": {
      "text/plain": [
       "['joshmyersdean',\n",
       " 'sigchi',\n",
       " 'msbernst',\n",
       " 'samanthadalal',\n",
       " 'jordant',\n",
       " 'sigcas',\n",
       " 'eglassman',\n",
       " 'chrisamaphone']"
      ]
     },
     "execution_count": 769,
     "metadata": {},
     "output_type": "execute_result"
    }
   ],
   "source": [
    "matt_test_links"
   ]
  },
  {
   "cell_type": "code",
   "execution_count": null,
   "id": "6b8c276c-425e-4435-871c-453f4db38992",
   "metadata": {},
   "outputs": [],
   "source": []
  },
  {
   "cell_type": "markdown",
   "id": "e77a9096-eb5a-4612-a726-bd9dc0bd5820",
   "metadata": {},
   "source": [
    "## It works and I used that info already! Do some box plots!"
   ]
  },
  {
   "cell_type": "code",
   "execution_count": 38,
   "id": "599cffa0-922b-4c26-b607-d6fa40839a26",
   "metadata": {
    "tags": []
   },
   "outputs": [
    {
     "name": "stdout",
     "output_type": "stream",
     "text": [
      "Min out degree -- person vegabs : \t followers: 0\n",
      "Min out degree -- person denniswittchen : \t followers: 9\n",
      "Min out degree -- person PipzCorreiaz : \t followers: 13\n",
      "Min out degree -- person wafajohal : \t followers: 14\n",
      "Min out degree -- person katiewinkle : \t followers: 14\n",
      "Min out degree -- person healspersecond : \t followers: 15\n",
      "Starting fold-0\n",
      "Made graph\n",
      "done making pagerank recs\n",
      "NDCG: 0.4584862550633868 \t Precision: 0.22959183673469388\n",
      "Starting fold-1\n",
      "Made graph\n",
      "done making pagerank recs\n",
      "NDCG: 0.4562285714202517 \t Precision: 0.23299319727891157\n",
      "Starting fold-2\n",
      "Made graph\n",
      "done making pagerank recs\n",
      "NDCG: 0.4314099611369342 \t Precision: 0.22363945578231292\n",
      "Starting fold-3\n",
      "Made graph\n",
      "done making pagerank recs\n",
      "NDCG: 0.44792975643221733 \t Precision: 0.22108843537414966\n",
      "Starting fold-4\n",
      "Made graph\n",
      "done making pagerank recs\n",
      "NDCG: 0.46682798651346635 \t Precision: 0.2465986394557823\n"
     ]
    }
   ],
   "source": [
    "hci_ndcg_scores = []\n",
    "hci_precision_scores = []\n",
    "k = 5\n",
    "\n",
    "file_path = \"train_test/new_folds/\"\n",
    "\n",
    "subgraph_hci = read_g_obj(file=\"adj_matrices/G_hci.pkl\")\n",
    "\n",
    "for fold in [\"-0\", \"-1\", \"-2\", \"-3\", \"-4\"]:\n",
    "    \n",
    "    print(\"Starting fold{}\".format(fold))\n",
    "    \n",
    "    with open(file_path + \"train{}.pkl\".format(fold), \"rb\") as pfile: \n",
    "        this_fold_train = pickle.load(pfile)\n",
    "    \n",
    "    with open(file_path + \"test{}.pkl\".format(fold), \"rb\") as pfile: \n",
    "        this_fold_test = pickle.load(pfile)\n",
    "    \n",
    "    # make the graph\n",
    "    G_train_this_fold = nx.from_edgelist(this_fold_train, create_using=nx.DiGraph)\n",
    "    \n",
    "    print(\"Made graph\")\n",
    "    \n",
    "    # make sure we did this right\n",
    "    assert len(G_train_this_fold.edges) > 15000 and len(G_train_this_fold.edges) < 20000\n",
    "    \n",
    "    # make my pagerank objects\n",
    "    this_pageranker_hci = PageRanker(G_train_this_fold)\n",
    "    \n",
    "    # actually make the lists\n",
    "    hci_this_fold_test_recs = this_pageranker_hci.test(personalized=True)\n",
    "    \n",
    "    print(\"done making pagerank recs\")\n",
    "    \n",
    "    # make the test recs\n",
    "    this_fold_tr_hci = TestRecommendations(G_train_this_fold)\n",
    "    this_fold_tr_hci.setup(hci_this_fold_test_recs, k=k)\n",
    "    \n",
    "    # --- evaluate ----\n",
    "    \n",
    "    # NDCG\n",
    "    this_fold_ndcg_hci = NDCGEvaluator(k=k)\n",
    "    this_fold_ndcg_hci.setup(trainset=None, testset=this_fold_test)\n",
    "    \n",
    "    this_fold_ndcg_hci.evaluate(this_fold_tr_hci)\n",
    "    \n",
    "    hci_ndcg_scores.append(this_fold_ndcg_hci.score)\n",
    "    \n",
    "    # Precision\n",
    "    this_fold_precision_hci = PrecisionEvaluator()\n",
    "    this_fold_precision_hci.setup(trainset=None, testset=this_fold_test)\n",
    "    \n",
    "    this_fold_precision_hci.evaluate(this_fold_tr_hci)\n",
    "    \n",
    "    hci_precision_scores.append(this_fold_precision_hci.score)\n",
    "    \n",
    "    \n",
    "    print(\"NDCG: {} \\t Precision: {}\".format(this_fold_ndcg_hci.score, this_fold_precision_hci.score)) \n",
    "    \n",
    "    \n",
    "    "
   ]
  },
  {
   "cell_type": "code",
   "execution_count": null,
   "id": "6536a74d-be1e-4c4b-996b-80f94d7b87d9",
   "metadata": {
    "tags": []
   },
   "outputs": [
    {
     "data": {
      "text/plain": [
       "[0.4584862550633868,\n",
       " 0.4562285714202517,\n",
       " 0.4314099611369342,\n",
       " 0.44792975643221733,\n",
       " 0.46682798651346635]"
      ]
     },
     "execution_count": 39,
     "metadata": {},
     "output_type": "execute_result"
    }
   ],
   "source": [
    "hci_ndcg_scores"
   ]
  },
  {
   "cell_type": "code",
   "execution_count": 40,
   "id": "b6d05c68-71da-45d3-8e4f-35bd62312e9c",
   "metadata": {
    "tags": []
   },
   "outputs": [
    {
     "data": {
      "text/plain": [
       "[0.22959183673469388,\n",
       " 0.23299319727891157,\n",
       " 0.22363945578231292,\n",
       " 0.22108843537414966,\n",
       " 0.2465986394557823]"
      ]
     },
     "execution_count": 40,
     "metadata": {},
     "output_type": "execute_result"
    }
   ],
   "source": [
    "hci_precision_scores"
   ]
  },
  {
   "cell_type": "code",
   "execution_count": 43,
   "id": "a8dd8e28-7591-4e78-9bd6-ec3fbf668453",
   "metadata": {
    "tags": []
   },
   "outputs": [
    {
     "data": {
      "text/plain": [
       "Text(0.5, 0.98, 'Precision and nDCG Across 5 folds of the HCI Social Graph')"
      ]
     },
     "execution_count": 43,
     "metadata": {},
     "output_type": "execute_result"
    },
    {
     "data": {
      "image/png": "[encoded data removed]",
      "text/plain": [
       "<Figure size 1200x800 with 2 Axes>"
      ]
     },
     "metadata": {},
     "output_type": "display_data"
    }
   ],
   "source": [
    "fig, ax = plt.subplots(ncols=2, figsize =(12, 8))\n",
    "\n",
    "ax[0].boxplot(hci_precision_scores)\n",
    "\n",
    "ax[1].boxplot(hci_ndcg_scores)\n",
    "\n",
    "ax[0].set_ylim(0.15,0.5)\n",
    "ax[1].set_ylim(0.15,0.5)\n",
    "\n",
    "ax[0].set_ylabel(\"Precision\")\n",
    "ax[1].set_ylabel(\"nDCG\")\n",
    "\n",
    "\n",
    "fig.suptitle(\"Precision and nDCG Across 5 folds of the HCI Social Graph\")"
   ]
  },
  {
   "cell_type": "code",
   "execution_count": null,
   "id": "3cd6b4a3-b165-40ea-8c96-70f2b3c375c8",
   "metadata": {},
   "outputs": [],
   "source": []
  },
  {
   "cell_type": "code",
   "execution_count": 48,
   "id": "2a779cde-11a7-4fc7-bf64-8e5cc43fa7cc",
   "metadata": {
    "tags": []
   },
   "outputs": [],
   "source": [
    "out_degree_sequence = sorted((d for n, d in subgraph_hci.out_degree()), reverse=True)\n",
    "out_d_max = max(out_degree_sequence)\n",
    "\n",
    "in_degree_sequence = sorted((d for n, d in subgraph_hci.in_degree()), reverse=True)\n",
    "in_d_max = max(in_degree_sequence)"
   ]
  },
  {
   "cell_type": "code",
   "execution_count": 59,
   "id": "4acf3c57-9db1-4b17-ab40-3ef9e0324cad",
   "metadata": {},
   "outputs": [
    {
     "data": {
      "text/plain": [
       "Text(0.5, 0, 'Rank')"
      ]
     },
     "execution_count": 59,
     "metadata": {},
     "output_type": "execute_result"
    },
    {
     "data": {
      "image/png": "[encoded data removed]",
      "text/plain": [
       "<Figure size 640x480 with 1 Axes>"
      ]
     },
     "metadata": {},
     "output_type": "display_data"
    }
   ],
   "source": [
    "fig, ax = plt.subplots()\n",
    "ax.plot(out_degree_sequence, color='tab:blue', marker='o', linestyle='solid', alpha=1, label=\"Out Degree\")\n",
    "ax.plot(in_degree_sequence, color='tab:red', marker='^', linestyle='dashed', alpha=1, label=\"In Degree\")\n",
    "\n",
    "ax.legend()\n",
    "\n",
    "ax.set_title(\"Degree Rank Plot\")\n",
    "ax.set_ylabel(\"Degree\")\n",
    "ax.set_xlabel(\"Rank\")\n"
   ]
  },
  {
   "cell_type": "code",
   "execution_count": null,
   "id": "dc58b0f8-f826-4386-b3ff-05189804fe80",
   "metadata": {},
   "outputs": [],
   "source": []
  },
  {
   "cell_type": "markdown",
   "id": "7862a45a-ef66-469d-b4e7-3edf551ef362",
   "metadata": {},
   "source": [
    "This is really good, but it is probably just recommending really popular people!\n",
    "\n",
    "## TODO: Inverse propensity score weighting\n",
    "\n",
    "- (kappa) / (this_node_in_degree + kappa)\n",
    "\n",
    "\n",
    "- precision too!\n",
    "- compare top recs for like 3 people for us\n"
   ]
  },
  {
   "cell_type": "code",
   "execution_count": 557,
   "id": "3cd30201-53bd-44c3-bea6-b12c20bcf533",
   "metadata": {
    "tags": []
   },
   "outputs": [],
   "source": [
    "kappa = 20"
   ]
  },
  {
   "cell_type": "code",
   "execution_count": 554,
   "id": "6e388e16-b79a-4167-8207-140369463120",
   "metadata": {
    "tags": []
   },
   "outputs": [
    {
     "data": {
      "text/plain": [
       "10"
      ]
     },
     "execution_count": 554,
     "metadata": {},
     "output_type": "execute_result"
    }
   ],
   "source": [
    "len(G_train.edges(\"cqz\"))"
   ]
  },
  {
   "cell_type": "code",
   "execution_count": 558,
   "id": "993fe579-fff9-4c95-a9bd-4d7fe2ef45ab",
   "metadata": {
    "tags": []
   },
   "outputs": [
    {
     "data": {
      "text/plain": [
       "0.6666666666666666"
      ]
     },
     "execution_count": 558,
     "metadata": {},
     "output_type": "execute_result"
    }
   ],
   "source": [
    "# (kappa) / (this_node_in_degree + kappa)\n",
    "(kappa) / (len(G_train.edges(\"cqz\")) + kappa)"
   ]
  },
  {
   "cell_type": "markdown",
   "id": "62d4ec2e-402b-44a4-abd8-4756f10a09c9",
   "metadata": {
    "tags": []
   },
   "source": [
    "### NDCG should be weighted maybe \n",
    "- NDCG normally goes from 0 to 1\n",
    "- if we weight (either way), the \"best\" score is no longer 1\n",
    "\n",
    "\n",
    "#### way 1 -- weight for the user\n",
    "We are weighting nodes that have fewer connection more highly\n",
    "\n",
    "evaluate(predictions for a user) * how much we should weight that user\n",
    "evaluate(predictions for a user) * (kappa) / (len(G_train.edges(\"for that user\")) + kappa)\n",
    "evaluate(predictions for a user) * (kappa) / (len(G_train.edges(\"for that user\")) + kappa)\n",
    "sum([0.5, 0.25, 0.125, 0, 0])  * (kappa) / (len(G_train.edges(\"for that user\")) + kappa)\n",
    "1  * (kappa) / (len(G_train.edges(\"for that user\")) + kappa)\n",
    "\n",
    "\n",
    "\n",
    "u1 NCDG of 1 * (20) / (10 + 20) == 0.67\n",
    "u2 NCDG of 2 * 20 / (80 + 20) == 0.2\n",
    "\n",
    "this the best they could do! \n",
    "\n",
    "(ndcg for user 1 * weight1 + ndcg for user2 * weight2)/ (weight1 + weight2)\n",
    "\n",
    "in the case where all are weighted equally\n",
    "(ndcg for user 1 + ndcg for user2 )/ (n users)\n",
    "\n",
    "\n",
    "def evaluate_user(user, set_of_recommendation, should_we_weight, kappa=20):\n",
    "    \n",
    "    # compute ndcg (and precision?) like normal\n",
    "    \n",
    "    # if should_we_weight:\n",
    "        # compute this persons weight =  (kappa) / (len(G_train.edges(\"for that user\")) + kappa)\n",
    "    else\n",
    "        weight = 1\n",
    "    \n",
    "    \n",
    "    return (ndcg * weight, weight)\n",
    "\n",
    "        \n",
    "        \n",
    "\n",
    "\n",
    "\n",
    "\n",
    "\n",
    "\n",
    "\n",
    "\n",
    "#### way 2 -- weight for each thing the list\n",
    "We are weighting nodes that have fewer connection more highly\n",
    "\n",
    "sum([0.5 * (kappa) / (len(G_train.edges(\"for that person you are following\")) + kappa), 0.25, 0.125, 0, 0])\n",
    "\n",
    "\n",
    "\n"
   ]
  },
  {
   "cell_type": "code",
   "execution_count": 800,
   "id": "633213aa-7fef-4c7c-b088-60d47ca4d8b7",
   "metadata": {
    "tags": []
   },
   "outputs": [],
   "source": [
    "from itertools import combinations, permutations"
   ]
  },
  {
   "cell_type": "code",
   "execution_count": 802,
   "id": "ff44b10d-b1ae-4432-a543-50fefef25fd7",
   "metadata": {
    "tags": []
   },
   "outputs": [
    {
     "data": {
      "text/plain": [
       "[(1, 2), (1, 3), (2, 3)]"
      ]
     },
     "execution_count": 802,
     "metadata": {},
     "output_type": "execute_result"
    }
   ],
   "source": [
    "list(combinations([1, 2, 3], 2))"
   ]
  },
  {
   "cell_type": "code",
   "execution_count": 803,
   "id": "857e3117-a753-4367-8b3c-523f4ee2ce71",
   "metadata": {
    "tags": []
   },
   "outputs": [
    {
     "data": {
      "text/plain": [
       "[(1, 2), (1, 3), (2, 1), (2, 3), (3, 1), (3, 2)]"
      ]
     },
     "execution_count": 803,
     "metadata": {},
     "output_type": "execute_result"
    }
   ],
   "source": [
    "list(permutations([1, 2, 3], 2))"
   ]
  },
  {
   "cell_type": "code",
   "execution_count": null,
   "id": "a33f6a42-d4c2-4d49-af5a-377e83c0129f",
   "metadata": {},
   "outputs": [],
   "source": []
  }
 ],
 "metadata": {
  "kernelspec": {
   "display_name": "Python 3 (ipykernel)",
   "language": "python",
   "name": "python3"
  },
  "language_info": {
   "codemirror_mode": {
    "name": "ipython",
    "version": 3
   },
   "file_extension": ".py",
   "mimetype": "text/x-python",
   "name": "python",
   "nbconvert_exporter": "python",
   "pygments_lexer": "ipython3",
   "version": "3.11.6"
  }
 },
 "nbformat": 4,
 "nbformat_minor": 5
}

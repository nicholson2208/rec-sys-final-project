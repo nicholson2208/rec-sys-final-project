{
 "cells": [
  {
   "cell_type": "markdown",
   "id": "a1e979ff-4059-47e7-97b8-2e3386f8f4d7",
   "metadata": {},
   "source": [
    "# Implement Personalized Pagerank\n",
    "\n",
    "[1] A. Langville and C. Meyer, “A survey of eigenvector methods of web information retrieval.” http://citeseer.ist.psu.edu/713792.html\n",
    "\n",
    "[2] Page, Lawrence; Brin, Sergey; Motwani, Rajeev and Winograd, Terry, The PageRank citation ranking: Bringing order to the Web. 1999 http://dbpubs.stanford.edu:8090/pub/showDoc.Fulltext?lang=en&doc=1999-66&format=pdf\n"
   ]
  },
  {
   "cell_type": "code",
   "execution_count": 35,
   "id": "3faad1ec-7808-477e-8644-04026d46e8cf",
   "metadata": {
    "tags": []
   },
   "outputs": [],
   "source": [
    "from abc import ABC, abstractmethod\n",
    "import numpy as np\n",
    "import pandas as pd\n",
    "import matplotlib.pyplot as plt\n",
    "import networkx as nx\n",
    "\n",
    "import pickle\n",
    "import random\n",
    "\n",
    "from collections import defaultdict"
   ]
  },
  {
   "cell_type": "markdown",
   "id": "2bae34a6-20be-42a8-be31-04c54c7a968e",
   "metadata": {},
   "source": [
    "## Read in files"
   ]
  },
  {
   "cell_type": "code",
   "execution_count": 8,
   "id": "3d01eb25-e95e-46bf-aa48-312e086bfa5f",
   "metadata": {
    "tags": []
   },
   "outputs": [],
   "source": [
    "def read_g_obj(file=\"adj_matrices/G_hci.pkl\"):\n",
    "    with open(file, \"rb\") as pfile: \n",
    "        G = pickle.load(pfile)\n",
    "    \n",
    "    follows_at_least_10 = [person for person, out_degree in G.out_degree() if out_degree >= 10] \n",
    "    \n",
    "    subgraph_hci = nx.subgraph(G, follows_at_least_10)\n",
    "    \n",
    "    return subgraph_hci\n",
    "    "
   ]
  },
  {
   "cell_type": "code",
   "execution_count": 9,
   "id": "fa69da48-ccd7-443a-b70e-bc40195be27d",
   "metadata": {
    "tags": []
   },
   "outputs": [],
   "source": [
    "subgraph_hci = read_g_obj(file=\"adj_matrices/G_hci.pkl\")"
   ]
  },
  {
   "cell_type": "code",
   "execution_count": 12,
   "id": "9252cef5-1738-4a96-9b96-2d5abd5a30f3",
   "metadata": {
    "tags": []
   },
   "outputs": [
    {
     "data": {
      "text/plain": [
       "31552"
      ]
     },
     "execution_count": 12,
     "metadata": {},
     "output_type": "execute_result"
    }
   ],
   "source": [
    "# this is the full graph!\n",
    "\n",
    "len(subgraph_hci.edges)"
   ]
  },
  {
   "cell_type": "code",
   "execution_count": 13,
   "id": "65845de3-fbbc-4818-be00-45fbc056382e",
   "metadata": {
    "tags": []
   },
   "outputs": [],
   "source": [
    "with open(\"train_test/train.pkl\", \"rb\") as pfile: \n",
    "    train = pickle.load(pfile)"
   ]
  },
  {
   "cell_type": "code",
   "execution_count": 14,
   "id": "b86eff6c-5381-4df8-bf59-1187e6f65460",
   "metadata": {
    "tags": []
   },
   "outputs": [],
   "source": [
    "with open(\"train_test/test.pkl\", \"rb\") as pfile: \n",
    "    test = pickle.load(pfile)"
   ]
  },
  {
   "cell_type": "code",
   "execution_count": null,
   "id": "b942738d-f443-4078-9240-3a035fa68191",
   "metadata": {
    "tags": []
   },
   "outputs": [],
   "source": []
  },
  {
   "cell_type": "markdown",
   "id": "090a289e-abb1-42b9-a891-6ae2b36e0e33",
   "metadata": {},
   "source": [
    "## Reconstruct Graph"
   ]
  },
  {
   "cell_type": "code",
   "execution_count": 16,
   "id": "1b24f61d-7b8b-4c27-9885-8bda13c13822",
   "metadata": {
    "tags": []
   },
   "outputs": [],
   "source": [
    "G_train = nx.from_edgelist(train, create_using=nx.DiGraph)"
   ]
  },
  {
   "cell_type": "code",
   "execution_count": 18,
   "id": "b5406b3a-8569-4dff-bf53-a9eec39912f2",
   "metadata": {
    "tags": []
   },
   "outputs": [
    {
     "data": {
      "text/plain": [
       "22480"
      ]
     },
     "execution_count": 18,
     "metadata": {},
     "output_type": "execute_result"
    }
   ],
   "source": [
    "# ok good, there is list 70 of the edges missing!\n",
    "len(G_train.edges)"
   ]
  },
  {
   "cell_type": "code",
   "execution_count": 24,
   "id": "70d8b401-7f97-47b6-af43-b5744f1775b5",
   "metadata": {
    "tags": []
   },
   "outputs": [
    {
     "data": {
      "text/plain": [
       "False"
      ]
     },
     "execution_count": 24,
     "metadata": {},
     "output_type": "execute_result"
    }
   ],
   "source": [
    "# make sure test set leakage\n",
    "\n",
    "any([train_edge in test for train_edge in list(G_train.edges)])"
   ]
  },
  {
   "cell_type": "markdown",
   "id": "02fb5ab6-85c3-4232-a660-431903a32276",
   "metadata": {},
   "source": [
    "Ok good, none of the test edges are in the train edges"
   ]
  },
  {
   "cell_type": "markdown",
   "id": "bc8a60c9-9f59-4131-b4cc-559bf596277e",
   "metadata": {},
   "source": [
    "## Do some object oriented stuff"
   ]
  },
  {
   "cell_type": "code",
   "execution_count": 69,
   "id": "53123dc8-2f27-4771-b9e2-6edeb28b0f00",
   "metadata": {
    "tags": []
   },
   "outputs": [],
   "source": [
    "class PageRanker:\n",
    "    def __init__(self, G, alpha=0.85):\n",
    "        \"\"\"\n",
    "        G (nx.DiGraph):\n",
    "            the graph object for this network\n",
    "        alpha (float):\n",
    "            the walk continues probability\n",
    "        \n",
    "        \"\"\"\n",
    "        \n",
    "        self.G = G\n",
    "        self.alpha = alpha\n",
    "        self.output = {}\n",
    "    \n",
    "    def get_overall_pagerank(self):\n",
    "        \n",
    "        # turn into a list so my other classes work\n",
    "        return [(k, v) for k,v in nx.pagerank(self.G, alpha=self.alpha).items()]\n",
    "    \n",
    "    def get_personalized_pagerank(self, node):\n",
    "        \"\"\"\n",
    "        node (str):\n",
    "            the name of the node\n",
    "        \"\"\"\n",
    "        \n",
    "        # you always go back to yourself\n",
    "        return [(k, v) for k,v in nx.pagerank(self.G, alpha=self.alpha, personalization={node : 1}).items()] \n",
    "    \n",
    "    def test(self, personalized=True):\n",
    "        \n",
    "        if not personalized:\n",
    "            self.output = {\"overall\" : self.get_overall_pagerank()}\n",
    "        else:\n",
    "            # compute personalized pagerank for every node\n",
    "            \n",
    "            for n in self.G.nodes:\n",
    "                self.output[n] = self.get_personalized_pagerank(n)\n",
    "                \n",
    "        return self.output\n",
    "        \n",
    "        \n",
    "            "
   ]
  },
  {
   "cell_type": "code",
   "execution_count": 518,
   "id": "39b1710c-7b08-4568-861d-f6ecdb321c69",
   "metadata": {
    "tags": []
   },
   "outputs": [],
   "source": [
    "class UserRecommendations:\n",
    "    def __init__(self):\n",
    "        self.recs = []\n",
    "        \n",
    "    def add_entry(self, entry):\n",
    "        self.recs.append(entry)\n",
    "        \n",
    "    def select_top_k(self, k):\n",
    "        self.recs = sorted(self.recs, key=lambda x: x[1], reverse=True)\n",
    "        if len(self.recs) > k:\n",
    "            self.recs = self.recs[0:k]\n",
    "\n",
    "            \n",
    "class TestRecommendations:\n",
    "    def __init__(self, G):\n",
    "        self.test_recs = defaultdict(UserRecommendations)\n",
    "        self.G = G\n",
    "        \n",
    "    def setup(self, preds, k):\n",
    "        \"\"\"\n",
    "        pred (dict)\n",
    "            of {user: [(other_user1, pr_score1), (other_user2, pr_score2)], ...}\n",
    "        \n",
    "        \"\"\"\n",
    "        \n",
    "        \n",
    "        for user, rec_list in preds.items():\n",
    "            for entry in rec_list:\n",
    "                try:\n",
    "                    if entry[0] == user:\n",
    "                        # don't add yourself to the recs\n",
    "                        continue\n",
    "\n",
    "                    if (user, entry[0]) in self.G.out_edges(user):\n",
    "                        # don't add nodes that already exist\n",
    "                        continue\n",
    "                    self.test_recs[user].add_entry(entry)\n",
    "                except Exception as e:\n",
    "                    print(e, \"-----\")\n",
    "                    print((user, entry[0]))\n",
    "        \"\"\"        \n",
    "        for entry in preds:\n",
    "            user = entry[0]\n",
    "            self.test_recs[user].add_entry(entry)\n",
    "        \"\"\"\n",
    "            \n",
    "        for user in self.test_recs.keys():\n",
    "            self.test_recs[user].select_top_k(k)\n",
    "            \n",
    "    def iter_recs(self):\n",
    "        for user in self.test_recs.keys():\n",
    "            yield (user, self.test_recs[user].recs)"
   ]
  },
  {
   "cell_type": "code",
   "execution_count": 519,
   "id": "49e78fa0-ad15-4158-a54a-0e891b913194",
   "metadata": {
    "tags": []
   },
   "outputs": [],
   "source": [
    "class Evaluator(ABC):\n",
    "    def __init__(self):\n",
    "        self.results_table = None\n",
    "        self.score = None\n",
    "        \n",
    "    def setup(self, trainset, testset):\n",
    "        pass\n",
    "    \n",
    "    def evaluate(self, test_recs: TestRecommendations):\n",
    "        # for every user and list of recommendations we produce, \n",
    "        # evaluate each user (which varies depending on list or itemwise)\n",
    "        # and then average that over all users!\n",
    "        \n",
    "        self.results_table = {}\n",
    "        scores = []\n",
    "        for user, recs in test_recs.iter_recs():\n",
    "            score = self.evaluate_user(user, recs)\n",
    "            scores.append(score)\n",
    "            self.results_table[user] = score\n",
    "        self.score = np.mean(scores)\n",
    "        \n",
    "    @abstractmethod\n",
    "    def evaluate_user(self, user, user_recs):\n",
    "        pass\n",
    "    \n",
    "class ItemwiseEvaluator(Evaluator):\n",
    "    def evaluate_user(self, user, user_recs):\n",
    "        return np.mean([self.evaluate_pred(rec) for rec in user_recs])\n",
    "    \n",
    "    @abstractmethod\n",
    "    def evaluate_pred(self, pred):\n",
    "        pass\n",
    "    \n",
    "class ListwiseEvaluator(Evaluator):\n",
    "    \n",
    "    @abstractmethod\n",
    "    def evaluate_user(self, user, user_recs):\n",
    "        pass\n"
   ]
  },
  {
   "cell_type": "code",
   "execution_count": 520,
   "id": "13e0912d-4929-429a-874d-70e1be7c6ac7",
   "metadata": {
    "tags": []
   },
   "outputs": [],
   "source": [
    "class NDCGEvaluator(ListwiseEvaluator):\n",
    "    \n",
    "    def __init__(self, k):\n",
    "        super().__init__()\n",
    "        self.k = k\n",
    "        self.rated_table = defaultdict(set)\n",
    "        self.idcg = {}\n",
    "    \n",
    "    def setup(self, trainset, testset):\n",
    "        for user, out_link in testset:\n",
    "            self.rated_table[user].add(out_link)\n",
    "                \n",
    "        idcg = 0\n",
    "        self.idcg[0] = 0\n",
    "        for i in range(0, self.k):\n",
    "            idcg += 1/np.log2(i+2)\n",
    "            self.idcg[i+1] = idcg\n",
    "                 \n",
    "    def evaluate_user(self, user, user_recs):\n",
    "        \"\"\"\n",
    "        user \n",
    "            node name\n",
    "            \n",
    "        user_recs\n",
    "            should be a list of (other node, pagerank) tuples\n",
    "        \"\"\"\n",
    "        \n",
    "\n",
    "        dcg = 0.0\n",
    "        for i, rec in enumerate(user_recs):\n",
    "            # print(\"user:\", user, \"i\", i, \"rec:\" , rec)\n",
    "            \n",
    "            # the first thing in the tuple is the other edge\n",
    "            if rec[0] in self.rated_table[user]:\n",
    "                \n",
    "                #print(f'Rated: {i} Item {pred.iid}')\n",
    "                dcg += 1/np.log2(i+2)\n",
    "                \n",
    "        count_rated_things = len(self.rated_table[user])\n",
    "        if count_rated_things > self.k:\n",
    "            count_rated_things = self.k\n",
    "        \n",
    "        idcg = self.idcg[count_rated_things]\n",
    "        \n",
    "        if idcg == 0:\n",
    "            return 0\n",
    "        #print(dcg)\n",
    "        #print(idcg)\n",
    "        return dcg/idcg"
   ]
  },
  {
   "cell_type": "code",
   "execution_count": null,
   "id": "23655e14-444f-448b-b643-696257531f9c",
   "metadata": {},
   "outputs": [],
   "source": []
  },
  {
   "cell_type": "code",
   "execution_count": null,
   "id": "1acdc8ab-d84e-4f04-83e2-23ce2fb6f9c5",
   "metadata": {},
   "outputs": [],
   "source": []
  },
  {
   "cell_type": "code",
   "execution_count": null,
   "id": "eae3c138-9191-421b-ba3e-fbf6faa68663",
   "metadata": {},
   "outputs": [],
   "source": []
  },
  {
   "cell_type": "markdown",
   "id": "d0f42674-fb40-41b8-902d-6fd4f6cecb09",
   "metadata": {},
   "source": [
    "### Check this with a teeny graph"
   ]
  },
  {
   "cell_type": "code",
   "execution_count": 521,
   "id": "119bb1a4-ab97-4aa8-b91a-5516173f79c9",
   "metadata": {
    "tags": []
   },
   "outputs": [],
   "source": [
    "small_graph = nx.barabasi_albert_graph(20, 3, seed=0).to_directed()\n"
   ]
  },
  {
   "cell_type": "code",
   "execution_count": 522,
   "id": "7e04253d-4c20-4606-845e-0308d6559a4f",
   "metadata": {
    "tags": []
   },
   "outputs": [
    {
     "data": {
      "text/plain": [
       "NodeView((0, 1, 2, 3, 4, 5, 6, 7, 8, 9, 10, 11, 12, 13, 14, 15, 16, 17, 18, 19))"
      ]
     },
     "execution_count": 522,
     "metadata": {},
     "output_type": "execute_result"
    }
   ],
   "source": [
    "small_graph.nodes"
   ]
  },
  {
   "cell_type": "code",
   "execution_count": 523,
   "id": "41750e4d-dde2-4f8e-84fc-1157fe226319",
   "metadata": {
    "tags": []
   },
   "outputs": [
    {
     "data": {
      "text/plain": [
       "102"
      ]
     },
     "execution_count": 523,
     "metadata": {},
     "output_type": "execute_result"
    }
   ],
   "source": [
    "len(small_graph.edges())"
   ]
  },
  {
   "cell_type": "code",
   "execution_count": 524,
   "id": "43aee003-32a8-4c63-9ac8-ae3fabfc819f",
   "metadata": {
    "tags": []
   },
   "outputs": [
    {
     "name": "stdout",
     "output_type": "stream",
     "text": [
      "34\n"
     ]
    }
   ],
   "source": [
    "small_test_set = []\n",
    "\n",
    "for _ in range(len(small_graph.edges())//3):\n",
    "    edge = random.choice(list(small_graph.edges()))\n",
    "    \n",
    "    small_test_set.append(edge)\n",
    "    small_graph.remove_edges_from([edge])\n",
    "    \n",
    "\n",
    "print(len(small_test_set))"
   ]
  },
  {
   "cell_type": "code",
   "execution_count": 525,
   "id": "3e9183f4-b886-481e-8498-1798b8448b69",
   "metadata": {
    "tags": []
   },
   "outputs": [
    {
     "data": {
      "image/png": "[encoded data removed]",
      "text/plain": [
       "<Figure size 640x480 with 1 Axes>"
      ]
     },
     "metadata": {},
     "output_type": "display_data"
    }
   ],
   "source": [
    "nx.draw(\n",
    "    small_graph, \n",
    "    with_labels=True, \n",
    "    node_color=range(len(small_graph.nodes)), \n",
    "    node_size=100,\n",
    "    cmap=plt.cm.Blues\n",
    ")\n",
    "plt.show()"
   ]
  },
  {
   "cell_type": "code",
   "execution_count": 526,
   "id": "11b9427b-db07-4bff-84b8-e65973fd5635",
   "metadata": {
    "tags": []
   },
   "outputs": [],
   "source": [
    "pageranker = PageRanker(small_graph)"
   ]
  },
  {
   "cell_type": "code",
   "execution_count": 527,
   "id": "7c4e2af3-191a-4f0b-874d-4cda04d01153",
   "metadata": {
    "tags": []
   },
   "outputs": [
    {
     "data": {
      "text/plain": [
       "{'overall': [(0, 0.07950827602623053),\n",
       "  (1, 0.06131824011048638),\n",
       "  (2, 0.07005539338308005),\n",
       "  (3, 0.013714784322928698),\n",
       "  (4, 0.0940904803795687),\n",
       "  (5, 0.05566310007142701),\n",
       "  (6, 0.06656116938587466),\n",
       "  (7, 0.04879371946336269),\n",
       "  (8, 0.05845539451789359),\n",
       "  (9, 0.028016062764558022),\n",
       "  (10, 0.03448790055998306),\n",
       "  (11, 0.09793751912637931),\n",
       "  (12, 0.03257400587777202),\n",
       "  (13, 0.026510159094142283),\n",
       "  (14, 0.030528157358935465),\n",
       "  (15, 0.035376227671981945),\n",
       "  (16, 0.09695439794452439),\n",
       "  (17, 0.01552635116430916),\n",
       "  (18, 0.021158253588787316),\n",
       "  (19, 0.032770407187774825)]}"
      ]
     },
     "execution_count": 527,
     "metadata": {},
     "output_type": "execute_result"
    }
   ],
   "source": [
    "pageranker.test(personalized=False)"
   ]
  },
  {
   "cell_type": "code",
   "execution_count": 528,
   "id": "a29f5223-998c-4744-a820-eb26a74cbcee",
   "metadata": {
    "tags": []
   },
   "outputs": [],
   "source": [
    "pageranker = PageRanker(small_graph)\n",
    "test_recs = pageranker.test(personalized=True)"
   ]
  },
  {
   "cell_type": "code",
   "execution_count": 529,
   "id": "0adc938e-3a1c-407f-a489-35070a3115b6",
   "metadata": {
    "tags": []
   },
   "outputs": [],
   "source": [
    "tr = TestRecommendations(small_graph)\n",
    "k = 5"
   ]
  },
  {
   "cell_type": "code",
   "execution_count": null,
   "id": "1d52ceb4-6b05-4832-b5f3-a98affb99f37",
   "metadata": {
    "tags": []
   },
   "outputs": [],
   "source": []
  },
  {
   "cell_type": "code",
   "execution_count": 530,
   "id": "b9c68b22-123d-4c3c-8222-bd3204cb7a20",
   "metadata": {
    "tags": []
   },
   "outputs": [],
   "source": [
    "tr.setup(test_recs, k=k)"
   ]
  },
  {
   "cell_type": "code",
   "execution_count": 531,
   "id": "b356aaea-3ae2-448e-ab7e-ea8a9a004b14",
   "metadata": {
    "tags": []
   },
   "outputs": [
    {
     "data": {
      "text/plain": [
       "(0,\n",
       " [(11, 0.07634795879087448),\n",
       "  (8, 0.03751586792743116),\n",
       "  (7, 0.033987710500850206),\n",
       "  (14, 0.016743255507744186),\n",
       "  (13, 0.012843922942573681)])"
      ]
     },
     "execution_count": 531,
     "metadata": {},
     "output_type": "execute_result"
    }
   ],
   "source": [
    "list(tr.iter_recs())[0]"
   ]
  },
  {
   "cell_type": "code",
   "execution_count": 532,
   "id": "e162cb01-22a4-449a-a9c0-5b0321ac6b28",
   "metadata": {
    "tags": []
   },
   "outputs": [],
   "source": [
    "ndcg = NDCGEvaluator(k=k)"
   ]
  },
  {
   "cell_type": "code",
   "execution_count": 533,
   "id": "34c348af-91ee-48d7-b563-c544b72933c2",
   "metadata": {
    "tags": []
   },
   "outputs": [],
   "source": [
    "ndcg.setup(trainset=None, testset=small_test_set)"
   ]
  },
  {
   "cell_type": "code",
   "execution_count": 534,
   "id": "f7e2832c-4d61-4267-85b2-f1c469aa54cf",
   "metadata": {
    "tags": []
   },
   "outputs": [],
   "source": [
    "ndcg.evaluate(tr)"
   ]
  },
  {
   "cell_type": "code",
   "execution_count": 535,
   "id": "d88ff4d5-146d-40dc-b817-867aa10653d4",
   "metadata": {
    "tags": []
   },
   "outputs": [
    {
     "data": {
      "text/plain": [
       "0.3218982389716563"
      ]
     },
     "execution_count": 535,
     "metadata": {},
     "output_type": "execute_result"
    }
   ],
   "source": [
    "ndcg.score"
   ]
  },
  {
   "cell_type": "markdown",
   "id": "50cb9e6a-3c44-457c-b1c3-d63df21ace74",
   "metadata": {},
   "source": [
    "I think this is the ideal case for this algorithm!"
   ]
  },
  {
   "cell_type": "code",
   "execution_count": null,
   "id": "ef868d72-4897-4b55-a65e-194ac87c7eed",
   "metadata": {},
   "outputs": [],
   "source": []
  },
  {
   "cell_type": "markdown",
   "id": "0568f561-c6fd-4252-8164-6ab106bb0018",
   "metadata": {},
   "source": [
    "## Try it on the HCI social network"
   ]
  },
  {
   "cell_type": "code",
   "execution_count": 536,
   "id": "bdd470fe-1d3f-4bcf-89df-15c3cea5c0e4",
   "metadata": {
    "tags": []
   },
   "outputs": [],
   "source": [
    "pageranker_hci = PageRanker(G_train)"
   ]
  },
  {
   "cell_type": "code",
   "execution_count": 537,
   "id": "e28a85c4-a4dc-4113-a9ef-2a9aa7c00a90",
   "metadata": {
    "tags": []
   },
   "outputs": [],
   "source": [
    "hci_test_recs = pageranker_hci.test(personalized=True)"
   ]
  },
  {
   "cell_type": "code",
   "execution_count": null,
   "id": "c02abc66-09db-4bd8-aebb-b4591bc6bf84",
   "metadata": {
    "tags": []
   },
   "outputs": [],
   "source": []
  },
  {
   "cell_type": "code",
   "execution_count": 538,
   "id": "5de4c3ec-2a20-4222-abaf-4748ab974aec",
   "metadata": {
    "tags": []
   },
   "outputs": [],
   "source": [
    "tr_hci = TestRecommendations(G_train)\n",
    "k = 5"
   ]
  },
  {
   "cell_type": "code",
   "execution_count": 539,
   "id": "febb396d-ab07-4224-b5f9-06841a152bfb",
   "metadata": {
    "tags": []
   },
   "outputs": [],
   "source": [
    "tr_hci.setup(hci_test_recs, k=k)"
   ]
  },
  {
   "cell_type": "code",
   "execution_count": 540,
   "id": "24e7e6e3-9ac9-459b-bcd2-37c3c24b46a4",
   "metadata": {
    "tags": []
   },
   "outputs": [
    {
     "data": {
      "text/plain": [
       "('cqz',\n",
       " [('andresmh', 0.014141595061890956),\n",
       "  ('cfiesler', 0.011183978518350377),\n",
       "  ('sigchi', 0.010319217162547642),\n",
       "  ('bkeegan', 0.00856568847807107),\n",
       "  ('eglassman', 0.007818924626093826)])"
      ]
     },
     "execution_count": 540,
     "metadata": {},
     "output_type": "execute_result"
    }
   ],
   "source": [
    "list(tr_hci.iter_recs())[0]"
   ]
  },
  {
   "cell_type": "code",
   "execution_count": null,
   "id": "e43f44e4-b582-4104-8102-61723f2d7d4e",
   "metadata": {},
   "outputs": [],
   "source": []
  },
  {
   "cell_type": "code",
   "execution_count": 542,
   "id": "96a935cf-00d2-44c6-8094-d96fba28d34a",
   "metadata": {
    "tags": []
   },
   "outputs": [],
   "source": [
    "ndcg_hci = NDCGEvaluator(k=k)"
   ]
  },
  {
   "cell_type": "code",
   "execution_count": 543,
   "id": "8ecaefac-e9d2-41cd-b662-176f3a6810a1",
   "metadata": {
    "tags": []
   },
   "outputs": [],
   "source": [
    "ndcg_hci.setup(trainset=None, testset=test)"
   ]
  },
  {
   "cell_type": "code",
   "execution_count": 544,
   "id": "6a2f6bdf-5bb5-43c8-b20e-cbddb8b5b3e2",
   "metadata": {
    "tags": []
   },
   "outputs": [],
   "source": [
    "ndcg_hci.evaluate(tr_hci)"
   ]
  },
  {
   "cell_type": "code",
   "execution_count": 545,
   "id": "ad91da0a-fcfa-43ab-8ed4-b45b50452aa1",
   "metadata": {
    "tags": []
   },
   "outputs": [
    {
     "data": {
      "text/plain": [
       "0.3717419868816553"
      ]
     },
     "execution_count": 545,
     "metadata": {},
     "output_type": "execute_result"
    }
   ],
   "source": [
    "ndcg_hci.score"
   ]
  },
  {
   "cell_type": "markdown",
   "id": "7862a45a-ef66-469d-b4e7-3edf551ef362",
   "metadata": {},
   "source": [
    "This is really good, but it is probably just recommending really popular people!\n",
    "\n",
    "## TODO: Inverse propensity score weighting"
   ]
  },
  {
   "cell_type": "code",
   "execution_count": null,
   "id": "3cd30201-53bd-44c3-bea6-b12c20bcf533",
   "metadata": {},
   "outputs": [],
   "source": []
  },
  {
   "cell_type": "code",
   "execution_count": null,
   "id": "6e388e16-b79a-4167-8207-140369463120",
   "metadata": {},
   "outputs": [],
   "source": []
  }
 ],
 "metadata": {
  "kernelspec": {
   "display_name": "Python 3 (ipykernel)",
   "language": "python",
   "name": "python3"
  },
  "language_info": {
   "codemirror_mode": {
    "name": "ipython",
    "version": 3
   },
   "file_extension": ".py",
   "mimetype": "text/x-python",
   "name": "python",
   "nbconvert_exporter": "python",
   "pygments_lexer": "ipython3",
   "version": "3.11.6"
  }
 },
 "nbformat": 4,
 "nbformat_minor": 5
}

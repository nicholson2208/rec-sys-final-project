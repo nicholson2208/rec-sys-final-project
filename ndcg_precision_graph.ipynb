{
 "cells": [
  {
   "cell_type": "markdown",
   "id": "0ac39ce1-0062-4373-a3aa-7900f3642899",
   "metadata": {},
   "source": [
    "# NDCG / Percision Graphs"
   ]
  },
  {
   "cell_type": "code",
   "execution_count": 16,
   "id": "0dd8e79c-7d75-4d04-950a-1526ae1d7525",
   "metadata": {},
   "outputs": [],
   "source": [
    "import matplotlib.pyplot as plt\n",
    "import numpy as np "
   ]
  },
  {
   "cell_type": "code",
   "execution_count": 19,
   "id": "2e92965a-5b00-4eb2-9434-c030c8ab0725",
   "metadata": {},
   "outputs": [],
   "source": [
    "#PageRank\n",
    "pagerank_ndcg = [0.4584862550633868,\n",
    "                 0.4562285714202517,\n",
    "                 0.4314099611369342,\n",
    "                 0.44792975643221733,\n",
    "                 0.46682798651346635]\n",
    "\n",
    "pargerand_precision = [0.22959183673469388,\n",
    "                     0.23299319727891157,\n",
    "                     0.22363945578231292,\n",
    "                     0.22108843537414966,\n",
    "                     0.2465986394557823]\n",
    "\n",
    "#Light_GCN\n",
    "light_gcn_ndcg = [0.4791227357526531,\n",
    "                 0.4659676800231786,\n",
    "                 0.4612619375453949,\n",
    "                 0.4745345567961225,\n",
    "                 0.4839142710186345]\n",
    "\n",
    "light_gcn_precision = [0.21649659863945578,\n",
    "                     0.21037414965986398,\n",
    "                     0.2078231292517007,\n",
    "                     0.2151360544217687,\n",
    "                     0.2193877551020408]\n",
    "\n",
    "# Factorization Machine\n",
    "fact_machine_ndcg = [0.09399819558092727,\n",
    "                    0.08834337215922199,\n",
    "                    0.10144224250927975,\n",
    "                    0.09279613181856701,\n",
    "                    0.09939305336761702]\n",
    "\n",
    "fact_machine_precision = [0.7534013605442177,\n",
    "                     0.7387755102040816,\n",
    "                     0.7418367346938775,\n",
    "                     0.7608843537414965,\n",
    "                     0.7401360544217687]"
   ]
  },
  {
   "cell_type": "code",
   "execution_count": null,
   "id": "add589f8-46e8-4ac0-8f49-46e0f07dba61",
   "metadata": {},
   "outputs": [],
   "source": [
    "import matplotlib.pyplot as plt\n",
    "import numpy as np\n",
    "\n",
    "labels = ['PageRank', 'GCN', 'Factorization Machine']\n",
    "\n",
    "fig, (ax1, ax2) = plt.subplots(nrows=1, ncols=2, figsize=(12, 4))\n",
    "\n",
    "bplot1 = ax1.boxplot([np.array(pagerank_ndcg), np.array(light_gcn_ndcg), np.array(matrix_fact_ndcg)],\n",
    "                     vert=True,  # vertical box alignment\n",
    "                     patch_artist=True,  # fill with color\n",
    "                     labels=labels)  # will be used to label x-ticks\n",
    "ax1.set_title('NDCG Scores')\n",
    "ax1.yaxis.grid(True)\n",
    "ax1.set_ylabel('NDCG')\n",
    "\n",
    "\n",
    "bplot2 = ax2.boxplot([np.array(pargerand_precision), np.array(light_gcn_precision), np.array(matrix_fact_precision)],\n",
    "                     vert=True,  # vertical box alignment\n",
    "                     patch_artist=True,  # fill with color\n",
    "                     labels=labels)  # will be used to label x-ticks\n",
    "ax2.set_title('Precision Scores')\n",
    "ax2.yaxis.grid(True)\n",
    "ax2.set_ylabel('Precision')\n",
    "\n",
    "# fill with colors\n",
    "colors = ['pink', 'lightblue', 'lightgreen']\n",
    "for bplot in (bplot1, bplot2):\n",
    "    for patch, color in zip(bplot['boxes'], colors):\n",
    "        patch.set_facecolor(color)\n",
    "        \n",
    "plt.savefig('scores.png')\n",
    "plt.show()"
   ]
  },
  {
   "cell_type": "code",
   "execution_count": null,
   "id": "27c2b3cd-2dfe-41b8-9193-a2d45f6eb48c",
   "metadata": {},
   "outputs": [],
   "source": []
  }
 ],
 "metadata": {
  "kernelspec": {
   "display_name": "Python 3 (ipykernel)",
   "language": "python",
   "name": "python3"
  },
  "language_info": {
   "codemirror_mode": {
    "name": "ipython",
    "version": 3
   },
   "file_extension": ".py",
   "mimetype": "text/x-python",
   "name": "python",
   "nbconvert_exporter": "python",
   "pygments_lexer": "ipython3",
   "version": "3.10.8"
  }
 },
 "nbformat": 4,
 "nbformat_minor": 5
}

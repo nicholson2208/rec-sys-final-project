{
 "cells": [
  {
   "cell_type": "code",
   "execution_count": 1,
   "id": "46121fcf",
   "metadata": {},
   "outputs": [],
   "source": [
    "# 1-read data form the following dictionary\n",
    "# 2-read data from the followers dictionary\n",
    "# 3-drop information from users following less than 10 people (the followers dataset is not as important because we recommend to people who to follow and not who should follow them)"
   ]
  },
  {
   "cell_type": "code",
   "execution_count": 2,
   "id": "31270858",
   "metadata": {},
   "outputs": [],
   "source": [
    "import pandas as pd\n",
    "import numpy as np"
   ]
  },
  {
   "cell_type": "code",
   "execution_count": 3,
   "id": "4d112b75",
   "metadata": {},
   "outputs": [],
   "source": [
    "import pickle\n",
    "\n",
    "with open(\"following_dict.pkl\", \"rb\") as file:\n",
    "    following_dict_ = pickle.load(file)"
   ]
  },
  {
   "cell_type": "code",
   "execution_count": 4,
   "id": "2c291516",
   "metadata": {},
   "outputs": [],
   "source": [
    "users_data = pd.read_csv(\"data/profiles/extended_df_complete.csv\")\n",
    "users_data_clean = users_data.drop_duplicates(subset=[\"acct\"], keep=\"first\")\n",
    "users_data_clean = users_data_clean[users_data_clean[\"acct\"].isin(following_dict_.keys())]"
   ]
  },
  {
   "cell_type": "code",
   "execution_count": 6,
   "id": "f62b1c5b",
   "metadata": {},
   "outputs": [],
   "source": [
    "#change the key to be the id\n",
    "acct_to_id_mapping = dict(zip(users_data_clean[\"acct\"], users_data_clean[\"id\"]))\n",
    "\n",
    "following_dict = {\n",
    "    acct_to_id_mapping.get(key, key): value for key, value in following_dict.items()\n",
    "}"
   ]
  },
  {
   "cell_type": "code",
   "execution_count": 8,
   "id": "6b671762",
   "metadata": {},
   "outputs": [],
   "source": [
    "following_list = list()\n",
    "\n",
    "#create tuples of following\n",
    "for user_id in following_dict.keys():\n",
    "    for user_following in following_dict[user_id]:\n",
    "        if int(user_following[\"id\"]) in following_dict.keys():\n",
    "            following_list.append((user_id,int(user_following[\"id\"])))"
   ]
  },
  {
   "cell_type": "code",
   "execution_count": 11,
   "id": "af36778a",
   "metadata": {},
   "outputs": [
    {
     "data": {
      "text/plain": [
       "35002"
      ]
     },
     "execution_count": 11,
     "metadata": {},
     "output_type": "execute_result"
    }
   ],
   "source": [
    "#number of nodes\n",
    "len(following_list)"
   ]
  },
  {
   "cell_type": "code",
   "execution_count": 12,
   "id": "c3c5bf05",
   "metadata": {},
   "outputs": [
    {
     "data": {
      "text/plain": [
       "[(108286624813793740, 109255134726183270),\n",
       " (108286624813793740, 109337961591161088),\n",
       " (108286624813793740, 109295291977681742),\n",
       " (108286624813793740, 110217854843577893),\n",
       " (108286624813793740, 109337589884967620),\n",
       " (108286624813793740, 108321171925012578),\n",
       " (108286624813793740, 109623490252478997),\n",
       " (108286624813793740, 109337467265881106),\n",
       " (108286624813793740, 109384437874106730),\n",
       " (108286624813793740, 108319681357082422)]"
      ]
     },
     "execution_count": 12,
     "metadata": {},
     "output_type": "execute_result"
    }
   ],
   "source": [
    "following_list[:10]"
   ]
  },
  {
   "cell_type": "code",
   "execution_count": 13,
   "id": "38f53025",
   "metadata": {},
   "outputs": [],
   "source": [
    "#create a dataframe from the tuples\n",
    "# Creating a Pandas DataFrame\n",
    "df = pd.DataFrame(following_list, columns=['FollowerID', 'FollowingID'])"
   ]
  },
  {
   "cell_type": "code",
   "execution_count": 14,
   "id": "dca0ddc6",
   "metadata": {},
   "outputs": [
    {
     "data": {
      "text/html": [
       "<div>\n",
       "<style scoped>\n",
       "    .dataframe tbody tr th:only-of-type {\n",
       "        vertical-align: middle;\n",
       "    }\n",
       "\n",
       "    .dataframe tbody tr th {\n",
       "        vertical-align: top;\n",
       "    }\n",
       "\n",
       "    .dataframe thead th {\n",
       "        text-align: right;\n",
       "    }\n",
       "</style>\n",
       "<table border=\"1\" class=\"dataframe\">\n",
       "  <thead>\n",
       "    <tr style=\"text-align: right;\">\n",
       "      <th></th>\n",
       "      <th>FollowerID</th>\n",
       "      <th>FollowingID</th>\n",
       "    </tr>\n",
       "  </thead>\n",
       "  <tbody>\n",
       "    <tr>\n",
       "      <th>0</th>\n",
       "      <td>108286624813793740</td>\n",
       "      <td>109255134726183270</td>\n",
       "    </tr>\n",
       "    <tr>\n",
       "      <th>1</th>\n",
       "      <td>108286624813793740</td>\n",
       "      <td>109337961591161088</td>\n",
       "    </tr>\n",
       "    <tr>\n",
       "      <th>2</th>\n",
       "      <td>108286624813793740</td>\n",
       "      <td>109295291977681742</td>\n",
       "    </tr>\n",
       "    <tr>\n",
       "      <th>3</th>\n",
       "      <td>108286624813793740</td>\n",
       "      <td>110217854843577893</td>\n",
       "    </tr>\n",
       "    <tr>\n",
       "      <th>4</th>\n",
       "      <td>108286624813793740</td>\n",
       "      <td>109337589884967620</td>\n",
       "    </tr>\n",
       "  </tbody>\n",
       "</table>\n",
       "</div>"
      ],
      "text/plain": [
       "           FollowerID         FollowingID\n",
       "0  108286624813793740  109255134726183270\n",
       "1  108286624813793740  109337961591161088\n",
       "2  108286624813793740  109295291977681742\n",
       "3  108286624813793740  110217854843577893\n",
       "4  108286624813793740  109337589884967620"
      ]
     },
     "execution_count": 14,
     "metadata": {},
     "output_type": "execute_result"
    }
   ],
   "source": [
    "df.head()"
   ]
  },
  {
   "cell_type": "code",
   "execution_count": 16,
   "id": "8ca570a0",
   "metadata": {},
   "outputs": [
    {
     "data": {
      "text/plain": [
       "108280517522446278    599\n",
       "108236223653826827    480\n",
       "108319681357082422    331\n",
       "109244322983410165    277\n",
       "108290757951106496    251\n",
       "                     ... \n",
       "109336363760572989      1\n",
       "109287438615666630      1\n",
       "109336979683842433      1\n",
       "109309812032119966      1\n",
       "108301841717911739      1\n",
       "Name: FollowerID, Length: 1396, dtype: int64"
      ]
     },
     "execution_count": 16,
     "metadata": {},
     "output_type": "execute_result"
    }
   ],
   "source": [
    "df['FollowerID'].value_counts()"
   ]
  },
  {
   "cell_type": "code",
   "execution_count": null,
   "id": "cd78b555",
   "metadata": {},
   "outputs": [],
   "source": []
  }
 ],
 "metadata": {
  "kernelspec": {
   "display_name": "Python 3 (ipykernel)",
   "language": "python",
   "name": "python3"
  },
  "language_info": {
   "codemirror_mode": {
    "name": "ipython",
    "version": 3
   },
   "file_extension": ".py",
   "mimetype": "text/x-python",
   "name": "python",
   "nbconvert_exporter": "python",
   "pygments_lexer": "ipython3",
   "version": "3.10.8"
  }
 },
 "nbformat": 4,
 "nbformat_minor": 5
}
